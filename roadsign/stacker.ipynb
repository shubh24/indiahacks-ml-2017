{
 "cells": [
  {
   "cell_type": "code",
   "execution_count": 278,
   "metadata": {},
   "outputs": [],
   "source": [
    "import pandas as pd\n",
    "from sklearn.ensemble import RandomForestClassifier\n",
    "import seaborn as sns\n",
    "import matplotlib.pyplot as plt\n",
    "from sklearn.metrics import confusion_matrix\n",
    "from sklearn.model_selection import train_test_split\n",
    "from sklearn import metrics\n",
    "import xgboost as xgb\n",
    "import operator\n",
    "import numpy as np\n",
    "from sklearn.ensemble import GradientBoostingClassifier  #GBM algorithm\n",
    "from sklearn.linear_model import LogisticRegression"
   ]
  },
  {
   "cell_type": "code",
   "execution_count": 295,
   "metadata": {},
   "outputs": [],
   "source": [
    "train = pd.read_csv(\"./new/train.csv\")\n",
    "test = pd.read_csv(\"./new/test.csv\")"
   ]
  },
  {
   "cell_type": "code",
   "execution_count": 296,
   "metadata": {},
   "outputs": [],
   "source": [
    "#Clean label columns\n",
    "label = train.pop(\"Target\")\n",
    "test_ids = test.pop(\"Id\")\n",
    "\n",
    "#drop columns\n",
    "train.drop(['Id', 'DetectedCamera'], inplace=True, axis=1)\n",
    "test.drop(['DetectedCamera'], inplace=True,axis=1)\n",
    "\n",
    "#Validation split\n",
    "x_train, x_valid, label_train, label_valid = train_test_split(train, label, test_size=0.2, random_state=4242, stratify = label)"
   ]
  },
  {
   "cell_type": "code",
   "execution_count": 207,
   "metadata": {},
   "outputs": [],
   "source": [
    "def run_xgb(x_train, label_train, x_valid = None, label_valid = None):\n",
    "\n",
    "    # Set our parameters for xgboost\n",
    "    params = {}\n",
    "    params['objective'] = 'multi:softprob'\n",
    "    params['eval_metric'] = 'mlogloss'\n",
    "    params['eta'] = 0.02\n",
    "    params['num_class'] = 4\n",
    "    params['max_depth'] = 4\n",
    "    params['silent'] = 1\n",
    "    params['min_child_weight'] = 0\n",
    "    params['subsample'] = 0.8\n",
    "    params['colsample_bytree'] = 0.8\n",
    "    params['nthread'] = 13\n",
    "\n",
    "    d_train = xgb.DMatrix(x_train, label=label_train)\n",
    "    \n",
    "    if x_valid is not None:\n",
    "        d_valid = xgb.DMatrix(x_valid, label=label_valid)\n",
    "        watchlist = [(d_train, 'train'), (d_valid, 'validation')]\n",
    "    else:\n",
    "        watchlist = [(d_train, 'train')]\n",
    "        \n",
    "    bst = xgb.train(params, d_train, 500, watchlist, early_stopping_rounds=50, verbose_eval=50)\n",
    "    \n",
    "    return bst"
   ]
  },
  {
   "cell_type": "code",
   "execution_count": 292,
   "metadata": {
    "collapsed": true
   },
   "outputs": [],
   "source": [
    "def init_xgb():\n",
    "\n",
    "#     Validate\n",
    "    bst = run_xgb(x_train, label_train, x_valid, label_valid)\n",
    "    \n",
    "    d_train = xgb.DMatrix(x_train)\n",
    "    d_val = xgb.DMatrix(x_valid)\n",
    "    \n",
    "    train_pred = bst.predict(d_train)\n",
    "    valid_pred = bst.predict(d_val)\n",
    "\n",
    "    return train_pred, valid_pred\n",
    "\n",
    "#     Test\n",
    "#     bst = run_xgb(train, label)\n",
    "    \n",
    "#     d_train = xgb.DMatrix(train)\n",
    "#     d_test = xgb.DMatrix(test)\n",
    "    \n",
    "#     train_pred = bst.predict(d_train)\n",
    "#     test_pred = bst.predict(d_test)\n",
    "\n",
    "#     return train_pred, test_pred\n"
   ]
  },
  {
   "cell_type": "code",
   "execution_count": 208,
   "metadata": {
    "collapsed": true
   },
   "outputs": [],
   "source": [
    "def run_gbm(x_train, label_train, x_valid = None, label_valid = None):\n",
    "\n",
    "    gbm = GradientBoostingClassifier(n_estimators=500, max_depth=5, learning_rate=0.05, random_state=10)\n",
    "    gbm.fit(x_train, label_train)\n",
    "    \n",
    "    return gbm"
   ]
  },
  {
   "cell_type": "code",
   "execution_count": 293,
   "metadata": {
    "collapsed": true
   },
   "outputs": [],
   "source": [
    "def init_gbm():\n",
    "    \n",
    "#     #Validation\n",
    "    gbm_model = run_gbm(x_train, label_train, x_valid, label_valid)\n",
    "\n",
    "    train_pred = gbm_model.predict_proba(x_train)\n",
    "    valid_pred = gbm_model.predict_proba(x_valid)\n",
    "    return train_pred, valid_pred\n",
    "\n",
    "#     Testing\n",
    "#     gbm_model = run_gbm(train, label)\n",
    "    \n",
    "#     train_pred = gbm_model.predict_proba(train)\n",
    "#     test_pred = gbm_model.predict_proba(test)\n",
    "    \n",
    "#     return train_pred, test_pred"
   ]
  },
  {
   "cell_type": "code",
   "execution_count": 209,
   "metadata": {
    "collapsed": true
   },
   "outputs": [],
   "source": [
    "def run_rf(x_train, label_train):\n",
    "    \n",
    "    #train final model\n",
    "    rf_model = RandomForestClassifier(n_estimators=300,max_depth=6, max_features=10)\n",
    "    rf_model.fit(x_train, label_train)\n",
    "    \n",
    "    return rf_model"
   ]
  },
  {
   "cell_type": "code",
   "execution_count": 294,
   "metadata": {
    "collapsed": true
   },
   "outputs": [],
   "source": [
    "def init_rf():\n",
    "    \n",
    "    #Validation\n",
    "    rf_model = run_rf(x_train, label_train)\n",
    "    \n",
    "    train_pred = rf_model.predict_proba(x_train)\n",
    "    valid_pred = rf_model.predict_proba(x_valid)\n",
    "    return train_pred, valid_pred\n",
    "\n",
    "    #Testing\n",
    "#     rf_model = run_rf(train, label)\n",
    "    \n",
    "#     train_pred = rf_model.predict_proba(train)\n",
    "#     test_pred = rf_model.predict_proba(test)\n",
    "    \n",
    "#     return train_pred, test_pred\n"
   ]
  },
  {
   "cell_type": "code",
   "execution_count": 132,
   "metadata": {
    "collapsed": true
   },
   "outputs": [],
   "source": [
    "def run_model(model):\n",
    "    \n",
    "    if model == \"xgb\":\n",
    "        model_train_res, model_test_res = init_xgb()\n",
    "    elif model == \"gbm\":\n",
    "        model_train_res, model_test_res = init_gbm()\n",
    "    elif model == \"rf\":\n",
    "        model_train_res, model_test_res = init_rf()\n",
    "    \n",
    "    model_train_res = pd.DataFrame(model_train_res)\n",
    "    model_test_res = pd.DataFrame(model_test_res)\n",
    "    \n",
    "    model_train_res.columns = [ model + \"_zero\", model + \"_one\", model + \"_two\", model + \"_three\"]\n",
    "    model_test_res.columns = [ model + \"_zero\", model + \"_one\", model + \"_two\", model + \"_three\"]\n",
    "    \n",
    "    return model_train_res, model_test_res"
   ]
  },
  {
   "cell_type": "code",
   "execution_count": 228,
   "metadata": {
    "collapsed": true
   },
   "outputs": [],
   "source": [
    "def first_level_stack(x_train, x_test):\n",
    "    \n",
    "    xgb_train_res, xgb_test_res = run_model(\"xgb\")    \n",
    "    gbm_train_res, gbm_test_res = run_model(\"gbm\")\n",
    "    rf_train_res, rf_test_res = run_model(\"rf\")\n",
    "\n",
    "    xgb_train_res.index = x_train.index\n",
    "    xgb_test_res.index = x_test.index\n",
    "    x_train = pd.concat([x_train, xgb_train_res], axis = 1)\n",
    "    x_test = pd.concat([x_test, xgb_test_res], axis = 1)\n",
    "\n",
    "    gbm_train_res.index = x_train.index\n",
    "    gbm_test_res.index = x_test.index\n",
    "    x_train = pd.concat([x_train, gbm_train_res], axis = 1)\n",
    "    x_test = pd.concat([x_test, gbm_test_res], axis = 1)\n",
    "\n",
    "    rf_train_res.index = x_train.index\n",
    "    rf_test_res.index = x_test.index    \n",
    "    x_train = pd.concat([x_train, rf_train_res], axis = 1)\n",
    "    x_test = pd.concat([x_test, rf_test_res], axis = 1)\n",
    "\n",
    "    return x_train, x_test"
   ]
  },
  {
   "cell_type": "code",
   "execution_count": 297,
   "metadata": {},
   "outputs": [
    {
     "name": "stdout",
     "output_type": "stream",
     "text": [
      "[0]\ttrain-mlogloss:1.34957\tvalidation-mlogloss:1.34955\n",
      "Multiple eval metrics have been passed: 'validation-mlogloss' will be used for early stopping.\n",
      "\n",
      "Will train until validation-mlogloss hasn't improved in 50 rounds.\n",
      "[50]\ttrain-mlogloss:0.477504\tvalidation-mlogloss:0.478027\n",
      "[100]\ttrain-mlogloss:0.229744\tvalidation-mlogloss:0.231475\n",
      "[150]\ttrain-mlogloss:0.144189\tvalidation-mlogloss:0.147829\n",
      "[200]\ttrain-mlogloss:0.112468\tvalidation-mlogloss:0.118512\n",
      "[250]\ttrain-mlogloss:0.09985\tvalidation-mlogloss:0.108274\n",
      "[300]\ttrain-mlogloss:0.094068\tvalidation-mlogloss:0.104621\n",
      "[350]\ttrain-mlogloss:0.090906\tvalidation-mlogloss:0.103252\n",
      "[400]\ttrain-mlogloss:0.088709\tvalidation-mlogloss:0.102583\n",
      "[450]\ttrain-mlogloss:0.086852\tvalidation-mlogloss:0.102273\n",
      "[499]\ttrain-mlogloss:0.08519\tvalidation-mlogloss:0.102166\n"
     ]
    }
   ],
   "source": [
    "x_train, x_valid = first_level_stack(x_train, x_valid)\n",
    "# train, test = first_level_stack(train, test)"
   ]
  },
  {
   "cell_type": "code",
   "execution_count": 300,
   "metadata": {},
   "outputs": [],
   "source": [
    "def second_level_stack():\n",
    "    \n",
    "#     xgb_train_res, xgb_test_res = run_model(\"xgb\")\n",
    "#     gbm_train_res, gbm_test_res = run_model(\"gbm\")\n",
    "#     rf_train_res, rf_test_res = run_model(\"rf\")\n",
    "    \n",
    "#     #Validation\n",
    "#     pred_final = pd.DataFrame()\n",
    "#     pred_final[\"pred_zero\"] = (xgb_test_res[\"xgb_zero\"] + gbm_test_res[\"gbm_zero\"] + rf_test_res[\"rf_zero\"])/3\n",
    "#     pred_final[\"pred_one\"] = (xgb_test_res[\"xgb_one\"] + gbm_test_res[\"gbm_one\"] + rf_test_res[\"rf_one\"])/3\n",
    "#     pred_final[\"pred_two\"] = (xgb_test_res[\"xgb_two\"] + gbm_test_res[\"gbm_two\"] + rf_test_res[\"rf_two\"])/3\n",
    "#     pred_final[\"pred_three\"] = (xgb_test_res[\"xgb_three\"] + gbm_test_res[\"gbm_three\"] + rf_test_res[\"rf_three\"])/3\n",
    "\n",
    "    #Validation\n",
    "    est = LogisticRegression(fit_intercept=False)\n",
    "    est.fit(x_train, label_train)\n",
    "    pred_final = est.predict_proba(x_valid)\n",
    "\n",
    "    #Testing\n",
    "#     est = LogisticRegression(fit_intercept=False)\n",
    "#     est.fit(train, label)\n",
    "#     pred_final = est.predict_proba(test)\n",
    "\n",
    "    return pred_final"
   ]
  },
  {
   "cell_type": "code",
   "execution_count": 301,
   "metadata": {},
   "outputs": [],
   "source": [
    "pred_final = second_level_stack()"
   ]
  },
  {
   "cell_type": "code",
   "execution_count": 240,
   "metadata": {},
   "outputs": [],
   "source": [
    "def first_level_average():\n",
    "    \n",
    "    pred_final = pd.DataFrame()\n",
    "    pred_final[\"pred_zero\"] = (test[\"xgb_zero\"] + test[\"gbm_zero\"] + test[\"rf_zero\"])/3\n",
    "    pred_final[\"pred_one\"] = (test[\"xgb_one\"] + test[\"gbm_one\"] + test[\"rf_one\"])/3\n",
    "    pred_final[\"pred_two\"] = (test[\"xgb_two\"] + test[\"gbm_two\"] + test[\"rf_two\"])/3\n",
    "    pred_final[\"pred_three\"] = (test[\"xgb_three\"] + test[\"gbm_three\"] + test[\"rf_three\"])/3\n",
    "    \n",
    "    return pred_final"
   ]
  },
  {
   "cell_type": "code",
   "execution_count": 259,
   "metadata": {
    "collapsed": true
   },
   "outputs": [],
   "source": [
    "pred_final = first_level_average()"
   ]
  },
  {
   "cell_type": "code",
   "execution_count": 255,
   "metadata": {},
   "outputs": [],
   "source": [
    "#Submit\n",
    "\n",
    "pred_final.columns = ['Front','Left','Rear','Right']\n",
    "pred_final['Id'] = test_ids\n",
    "                      \n",
    "pred_final = pred_final[['Id','Front','Left','Rear','Right']]\n",
    "pred_final.to_csv(\"./subs/ens_1.csv\", index=False)"
   ]
  },
  {
   "cell_type": "code",
   "execution_count": 303,
   "metadata": {},
   "outputs": [
    {
     "name": "stdout",
     "output_type": "stream",
     "text": [
      "99.8442153441\n"
     ]
    }
   ],
   "source": [
    "print 100 - metrics.log_loss(label_valid, pred_final)"
   ]
  }
 ],
 "metadata": {
  "kernelspec": {
   "display_name": "Python 2",
   "language": "python",
   "name": "python2"
  },
  "language_info": {
   "codemirror_mode": {
    "name": "ipython",
    "version": 2
   },
   "file_extension": ".py",
   "mimetype": "text/x-python",
   "name": "python",
   "nbconvert_exporter": "python",
   "pygments_lexer": "ipython2",
   "version": "2.7.12"
  }
 },
 "nbformat": 4,
 "nbformat_minor": 2
}
