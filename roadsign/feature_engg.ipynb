{
 "cells": [
  {
   "cell_type": "code",
   "execution_count": 43,
   "metadata": {
    "collapsed": true
   },
   "outputs": [],
   "source": [
    "import pandas as pd\n",
    "from sklearn.ensemble import RandomForestClassifier\n",
    "import seaborn as sns\n",
    "import matplotlib.pyplot as plt\n",
    "from sklearn.metrics import confusion_matrix\n",
    "from sklearn.model_selection import train_test_split\n",
    "from sklearn import metrics\n",
    "import xgboost as xgb\n",
    "import operator\n",
    "import numpy as np"
   ]
  },
  {
   "cell_type": "code",
   "execution_count": 37,
   "metadata": {
    "collapsed": true
   },
   "outputs": [],
   "source": [
    "train = pd.read_csv(\"train.csv\")\n",
    "test = pd.read_csv(\"test.csv\")"
   ]
  },
  {
   "cell_type": "code",
   "execution_count": 3,
   "metadata": {
    "collapsed": true
   },
   "outputs": [],
   "source": [
    "def plot_sign_aspect_ratio(df):\n",
    "    sns.distplot(df.SignAspectRatio)\n",
    "    plt.show()"
   ]
  },
  {
   "cell_type": "code",
   "execution_count": 4,
   "metadata": {
    "collapsed": true
   },
   "outputs": [],
   "source": [
    "def plot_angle(df):\n",
    "    sns.distplot(df.AngleOfSign)\n",
    "    plt.show()"
   ]
  },
  {
   "cell_type": "code",
   "execution_count": 5,
   "metadata": {
    "collapsed": true
   },
   "outputs": [],
   "source": [
    "def plot_height(df):\n",
    "    sns.distplot(df.SignHeight)\n",
    "    plt.show()"
   ]
  },
  {
   "cell_type": "code",
   "execution_count": 112,
   "metadata": {
    "collapsed": true
   },
   "outputs": [],
   "source": [
    "# #encode as integer\n",
    "# mapping = {'Front':0, 'Right':1, 'Left':2, 'Rear':3}\n",
    "# train = train.replace({'DetectedCamera':mapping})\n",
    "# test = test.replace({'DetectedCamera':mapping})"
   ]
  },
  {
   "cell_type": "code",
   "execution_count": 38,
   "metadata": {
    "collapsed": true
   },
   "outputs": [],
   "source": [
    "train.rename(columns = {'SignFacing (Target)': 'Target'}, inplace=True)"
   ]
  },
  {
   "cell_type": "code",
   "execution_count": 39,
   "metadata": {
    "collapsed": true
   },
   "outputs": [],
   "source": [
    "#encode Target Variable based on sample submission file\n",
    "mapping = {'Front':0, 'Left':1, 'Rear':2, 'Right':3}\n",
    "train = train.replace({'Target':mapping})"
   ]
  },
  {
   "cell_type": "code",
   "execution_count": 32,
   "metadata": {},
   "outputs": [
    {
     "data": {
      "text/plain": [
       "0        None\n",
       "1        None\n",
       "2        None\n",
       "3        None\n",
       "4        None\n",
       "5        None\n",
       "6        None\n",
       "7        None\n",
       "8        None\n",
       "9        None\n",
       "10       None\n",
       "11       None\n",
       "12       None\n",
       "13       None\n",
       "14       None\n",
       "15       None\n",
       "16       None\n",
       "17       None\n",
       "18       None\n",
       "19       None\n",
       "20       None\n",
       "21       None\n",
       "22       None\n",
       "23       None\n",
       "24       None\n",
       "25       None\n",
       "26       None\n",
       "27       None\n",
       "28       None\n",
       "29       None\n",
       "         ... \n",
       "31455    None\n",
       "31456    None\n",
       "31457    None\n",
       "31458    None\n",
       "31459    None\n",
       "31460    None\n",
       "31461    None\n",
       "31462    None\n",
       "31463    None\n",
       "31464    None\n",
       "31465    None\n",
       "31466    None\n",
       "31467    None\n",
       "31468    None\n",
       "31469    None\n",
       "31470    None\n",
       "31471    None\n",
       "31472    None\n",
       "31473    None\n",
       "31474    None\n",
       "31475    None\n",
       "31476    None\n",
       "31477    None\n",
       "31478    None\n",
       "31479    None\n",
       "31480    None\n",
       "31481    None\n",
       "31482    None\n",
       "31483    None\n",
       "31484    None\n",
       "dtype: object"
      ]
     },
     "execution_count": 32,
     "metadata": {},
     "output_type": "execute_result"
    }
   ],
   "source": [
    "trunc_id_dict = {}\n",
    "\n",
    "def trunc_id_map(row):\n",
    "\n",
    "    trunc_id = str(row[\"Id\"])[:-1]\n",
    "    \n",
    "    if trunc_id not in trunc_id_dict:\n",
    "        trunc_id_dict[trunc_id] = 1\n",
    "    else:\n",
    "        trunc_id_dict[trunc_id] += 1\n",
    "        \n",
    "train.apply(trunc_id_map, axis = 1)\n",
    "test.apply(trunc_id_map, axis = 1)"
   ]
  },
  {
   "cell_type": "code",
   "execution_count": 40,
   "metadata": {
    "collapsed": true
   },
   "outputs": [],
   "source": [
    "train = pd.concat([train, pd.get_dummies(train.DetectedCamera)], axis = 1)\n",
    "test = pd.concat([test, pd.get_dummies(test.DetectedCamera)], axis = 1)"
   ]
  },
  {
   "cell_type": "code",
   "execution_count": 41,
   "metadata": {
    "collapsed": true
   },
   "outputs": [],
   "source": [
    "def get_features(row):\n",
    "    \n",
    "    diag_length = pow(pow(row.SignWidth, 2) + pow(row.SignHeight, 2), 0.5)\n",
    "    \n",
    "    front = row[\"Front\"]*row[\"AngleOfSign\"]\n",
    "    right = row[\"Right\"]*(row[\"AngleOfSign\"]-50)\n",
    "    rear = row[\"Rear\"]*(row[\"AngleOfSign\"]-180)\n",
    "    left = row[\"Left\"]*(row[\"AngleOfSign\"]-220)\n",
    "    \n",
    "    return pd.Series({\n",
    "        \"diag_length\": diag_length,\n",
    "        \"front\": front,\n",
    "        \"right\": right,\n",
    "        \"rear\": rear,\n",
    "        \"left\": left\n",
    "    })\n",
    "\n",
    "train = pd.concat([train, train.apply(get_features, axis = 1)], axis = 1)\n",
    "test = pd.concat([test, test.apply(get_features, axis = 1)], axis = 1)"
   ]
  },
  {
   "cell_type": "code",
   "execution_count": 49,
   "metadata": {
    "collapsed": true
   },
   "outputs": [],
   "source": [
    "# front_front = np.mean(train[(train.DetectedCamera == \"Front\") & (train.Target == 0)].AngleOfSign)\n",
    "front_left = np.mean(train[(train.DetectedCamera == \"Front\") & (train.Target == 1)].AngleOfSign)\n",
    "front_rear = np.mean(train[(train.DetectedCamera == \"Front\") & (train.Target == 2)].AngleOfSign)\n",
    "front_right = np.mean(train[(train.DetectedCamera == \"Front\") & (train.Target == 3)].AngleOfSign)\n",
    "\n",
    "left_front = np.mean(train[(train.DetectedCamera == \"Left\") & (train.Target == 0)].AngleOfSign)\n",
    "left_left = np.mean(train[(train.DetectedCamera == \"Left\") & (train.Target == 1)].AngleOfSign)\n",
    "left_rear = np.mean(train[(train.DetectedCamera == \"Left\") & (train.Target == 2)].AngleOfSign)\n",
    "left_right = np.mean(train[(train.DetectedCamera == \"Left\") & (train.Target == 3)].AngleOfSign)\n",
    "\n",
    "rear_front = np.mean(train[(train.DetectedCamera == \"Rear\") & (train.Target == 0)].AngleOfSign)\n",
    "rear_left = np.mean(train[(train.DetectedCamera == \"Rear\") & (train.Target == 1)].AngleOfSign)\n",
    "rear_rear = np.mean(train[(train.DetectedCamera == \"Rear\") & (train.Target == 2)].AngleOfSign)\n",
    "rear_right = np.mean(train[(train.DetectedCamera == \"Rear\") & (train.Target == 3)].AngleOfSign)\n",
    "\n",
    "right_front = np.mean(train[(train.DetectedCamera == \"Right\") & (train.Target == 0)].AngleOfSign)\n",
    "right_left = np.mean(train[(train.DetectedCamera == \"Right\") & (train.Target == 1)].AngleOfSign)\n",
    "right_rear = np.mean(train[(train.DetectedCamera == \"Right\") & (train.Target == 2)].AngleOfSign)\n",
    "right_right = np.mean(train[(train.DetectedCamera == \"Right\") & (train.Target == 3)].AngleOfSign)\n",
    "\n",
    "def get_collective_feats(row):\n",
    "    \n",
    "    if row[\"DetectedCamera\"] == \"Front\":\n",
    "        diff_from_front = row[\"AngleOfSign\"] - front_front\n",
    "        diff_from_left = row[\"AngleOfSign\"] - front_left        \n",
    "        diff_from_rear = row[\"AngleOfSign\"] - front_rear        \n",
    "        diff_from_right = row[\"AngleOfSign\"] - front_right       \n",
    "        \n",
    "    elif row[\"DetectedCamera\"] == \"Left\":\n",
    "        diff_from_front = row[\"AngleOfSign\"] - left_front\n",
    "        diff_from_left = row[\"AngleOfSign\"] - left_left        \n",
    "        diff_from_rear = row[\"AngleOfSign\"] - left_rear        \n",
    "        diff_from_right = row[\"AngleOfSign\"] - left_right\n",
    "\n",
    "    elif row[\"DetectedCamera\"] == \"Rear\":\n",
    "        diff_from_front = row[\"AngleOfSign\"] - rear_front\n",
    "        diff_from_left = row[\"AngleOfSign\"] - rear_left        \n",
    "        diff_from_rear = row[\"AngleOfSign\"] - rear_rear        \n",
    "        diff_from_right = row[\"AngleOfSign\"] - rear_right        \n",
    "        \n",
    "    elif row[\"DetectedCamera\"] == \"Right\":\n",
    "        diff_from_front = row[\"AngleOfSign\"] - right_front\n",
    "        diff_from_left = row[\"AngleOfSign\"] - right_left        \n",
    "        diff_from_rear = row[\"AngleOfSign\"] - right_rear        \n",
    "        diff_from_right = row[\"AngleOfSign\"] - right_right        \n",
    "        \n",
    "    return pd.Series({\n",
    "        \"diff_from_front\": diff_from_front,\n",
    "        \"diff_from_left\": diff_from_left,\n",
    "        \"diff_from_rear\": diff_from_rear,\n",
    "        \"diff_from_right\": diff_from_right\n",
    "    })\n",
    "\n",
    "#Introducing a slight model leakage for validation!\n",
    "train = pd.concat([train, train.apply(get_collective_feats, axis = 1)], axis = 1)\n",
    "test = pd.concat([test, test.apply(get_collective_feats, axis = 1)], axis = 1)"
   ]
  },
  {
   "cell_type": "code",
   "execution_count": 51,
   "metadata": {
    "collapsed": true
   },
   "outputs": [],
   "source": [
    "def get_trunc_similar(row):\n",
    "    \n",
    "    return trunc_id_dict[str(row[\"Id\"])[:-1]]\n",
    "\n",
    "train[\"trunc_num\"] = train.apply(get_trunc_similar, axis = 1)\n",
    "test[\"trunc_num\"] = test.apply(get_trunc_similar, axis = 1)"
   ]
  },
  {
   "cell_type": "code",
   "execution_count": 52,
   "metadata": {},
   "outputs": [],
   "source": [
    "#Clean label columns\n",
    "label = train.pop(\"Target\")\n",
    "test_ids = test.pop(\"Id\")\n",
    "\n",
    "#drop columns\n",
    "train.drop(['Id', 'DetectedCamera'], inplace=True, axis=1)\n",
    "test.drop(['DetectedCamera'], inplace=True,axis=1)\n",
    "\n",
    "#Validation split\n",
    "x_train, x_valid, label_train, label_valid = train_test_split(train, label, test_size=0.2, random_state=4242, stratify = label)"
   ]
  },
  {
   "cell_type": "code",
   "execution_count": 96,
   "metadata": {},
   "outputs": [
    {
     "name": "stdout",
     "output_type": "stream",
     "text": [
      "99.8535907724\n"
     ]
    }
   ],
   "source": [
    "# #train model\n",
    "# clf = RandomForestClassifier(n_estimators=500,max_features=3,min_samples_split=5,oob_score=True)\n",
    "# clf.fit(x_train, label_train)\n",
    "\n",
    "# #predict on test data\n",
    "# pred = clf.predict_proba(x_valid)\n",
    "# print 100 - metrics.log_loss(label_valid, pred)"
   ]
  },
  {
   "cell_type": "code",
   "execution_count": 97,
   "metadata": {},
   "outputs": [
    {
     "name": "stdout",
     "output_type": "stream",
     "text": [
      "[('DetectedCamera', 0.44894817484772487), ('AngleOfSign', 0.41385682022369252), ('SignAspectRatio', 0.023462150230924763), ('SignWidth', 0.017843411293481982), ('SignHeight', 0.038289898624377337), ('diag_length', 0.049989477718260594), ('trunc_num', 0.007610067061537649)]\n"
     ]
    }
   ],
   "source": [
    "# print zip(x_train.columns, clf.feature_importances_)"
   ]
  },
  {
   "cell_type": "code",
   "execution_count": 58,
   "metadata": {
    "collapsed": true
   },
   "outputs": [],
   "source": [
    "def run_xgb(x_train, label_train, x_valid = None, label_valid = None):\n",
    "\n",
    "    # Set our parameters for xgboost\n",
    "    params = {}\n",
    "    params['objective'] = 'multi:softprob'\n",
    "    params['eval_metric'] = 'mlogloss'\n",
    "    params['eta'] = 0.02\n",
    "    params['num_class'] = 4\n",
    "    params['max_depth'] = 4\n",
    "    params['silent'] = 1\n",
    "    params['min_child_weight'] = 0\n",
    "    params['subsample'] = 0.8\n",
    "    params['colsample_bytree'] = 0.8\n",
    "    params['nthread'] = 13\n",
    "\n",
    "    d_train = xgb.DMatrix(x_train, label=label_train)\n",
    "    \n",
    "    if x_valid is not None:\n",
    "        d_valid = xgb.DMatrix(x_valid, label=label_valid)\n",
    "        watchlist = [(d_train, 'train'), (d_valid, 'validation')]\n",
    "    else:\n",
    "        watchlist = [(d_train, 'train')]\n",
    "        \n",
    "    bst = xgb.train(params, d_train, 550, watchlist, early_stopping_rounds=50, verbose_eval=50)\n",
    "    \n",
    "    return bst"
   ]
  },
  {
   "cell_type": "code",
   "execution_count": 57,
   "metadata": {},
   "outputs": [
    {
     "name": "stdout",
     "output_type": "stream",
     "text": [
      "[0]\ttrain-mlogloss:1.34978\tvalidation-mlogloss:1.34976\n",
      "Multiple eval metrics have been passed: 'validation-mlogloss' will be used for early stopping.\n",
      "\n",
      "Will train until validation-mlogloss hasn't improved in 50 rounds.\n",
      "[50]\ttrain-mlogloss:0.476306\tvalidation-mlogloss:0.476808\n",
      "[100]\ttrain-mlogloss:0.229137\tvalidation-mlogloss:0.230975\n",
      "[150]\ttrain-mlogloss:0.143662\tvalidation-mlogloss:0.147577\n",
      "[200]\ttrain-mlogloss:0.111902\tvalidation-mlogloss:0.118329\n",
      "[250]\ttrain-mlogloss:0.099112\tvalidation-mlogloss:0.108067\n",
      "[300]\ttrain-mlogloss:0.093291\tvalidation-mlogloss:0.104515\n",
      "[350]\ttrain-mlogloss:0.090185\tvalidation-mlogloss:0.103167\n",
      "[400]\ttrain-mlogloss:0.087942\tvalidation-mlogloss:0.102501\n",
      "[450]\ttrain-mlogloss:0.08607\tvalidation-mlogloss:0.102174\n",
      "[500]\ttrain-mlogloss:0.084195\tvalidation-mlogloss:0.101931\n",
      "[550]\ttrain-mlogloss:0.082347\tvalidation-mlogloss:0.101868\n",
      "[600]\ttrain-mlogloss:0.080594\tvalidation-mlogloss:0.10192\n",
      "Stopping. Best iteration:\n",
      "[558]\ttrain-mlogloss:0.082067\tvalidation-mlogloss:0.10186\n",
      "\n"
     ]
    },
    {
     "data": {
      "text/html": [
       "<div>\n",
       "<table border=\"1\" class=\"dataframe\">\n",
       "  <thead>\n",
       "    <tr style=\"text-align: right;\">\n",
       "      <th></th>\n",
       "      <th>feature</th>\n",
       "      <th>fscore</th>\n",
       "    </tr>\n",
       "  </thead>\n",
       "  <tbody>\n",
       "    <tr>\n",
       "      <th>0</th>\n",
       "      <td>Left</td>\n",
       "      <td>0.001258</td>\n",
       "    </tr>\n",
       "    <tr>\n",
       "      <th>1</th>\n",
       "      <td>Front</td>\n",
       "      <td>0.001598</td>\n",
       "    </tr>\n",
       "    <tr>\n",
       "      <th>2</th>\n",
       "      <td>Right</td>\n",
       "      <td>0.003569</td>\n",
       "    </tr>\n",
       "    <tr>\n",
       "      <th>3</th>\n",
       "      <td>Rear</td>\n",
       "      <td>0.005031</td>\n",
       "    </tr>\n",
       "    <tr>\n",
       "      <th>4</th>\n",
       "      <td>front</td>\n",
       "      <td>0.012135</td>\n",
       "    </tr>\n",
       "    <tr>\n",
       "      <th>5</th>\n",
       "      <td>rear</td>\n",
       "      <td>0.019886</td>\n",
       "    </tr>\n",
       "    <tr>\n",
       "      <th>6</th>\n",
       "      <td>left</td>\n",
       "      <td>0.027160</td>\n",
       "    </tr>\n",
       "    <tr>\n",
       "      <th>7</th>\n",
       "      <td>right</td>\n",
       "      <td>0.030356</td>\n",
       "    </tr>\n",
       "    <tr>\n",
       "      <th>8</th>\n",
       "      <td>diff_from_left</td>\n",
       "      <td>0.033211</td>\n",
       "    </tr>\n",
       "    <tr>\n",
       "      <th>9</th>\n",
       "      <td>diff_from_right</td>\n",
       "      <td>0.041267</td>\n",
       "    </tr>\n",
       "    <tr>\n",
       "      <th>10</th>\n",
       "      <td>trunc_num</td>\n",
       "      <td>0.045924</td>\n",
       "    </tr>\n",
       "    <tr>\n",
       "      <th>11</th>\n",
       "      <td>diff_from_rear</td>\n",
       "      <td>0.050785</td>\n",
       "    </tr>\n",
       "    <tr>\n",
       "      <th>12</th>\n",
       "      <td>diff_from_front</td>\n",
       "      <td>0.089741</td>\n",
       "    </tr>\n",
       "    <tr>\n",
       "      <th>13</th>\n",
       "      <td>SignWidth</td>\n",
       "      <td>0.090727</td>\n",
       "    </tr>\n",
       "    <tr>\n",
       "      <th>14</th>\n",
       "      <td>diag_length</td>\n",
       "      <td>0.097253</td>\n",
       "    </tr>\n",
       "    <tr>\n",
       "      <th>15</th>\n",
       "      <td>SignHeight</td>\n",
       "      <td>0.106737</td>\n",
       "    </tr>\n",
       "    <tr>\n",
       "      <th>16</th>\n",
       "      <td>AngleOfSign</td>\n",
       "      <td>0.162961</td>\n",
       "    </tr>\n",
       "    <tr>\n",
       "      <th>17</th>\n",
       "      <td>SignAspectRatio</td>\n",
       "      <td>0.180400</td>\n",
       "    </tr>\n",
       "  </tbody>\n",
       "</table>\n",
       "</div>"
      ],
      "text/plain": [
       "            feature    fscore\n",
       "0              Left  0.001258\n",
       "1             Front  0.001598\n",
       "2             Right  0.003569\n",
       "3              Rear  0.005031\n",
       "4             front  0.012135\n",
       "5              rear  0.019886\n",
       "6              left  0.027160\n",
       "7             right  0.030356\n",
       "8    diff_from_left  0.033211\n",
       "9   diff_from_right  0.041267\n",
       "10        trunc_num  0.045924\n",
       "11   diff_from_rear  0.050785\n",
       "12  diff_from_front  0.089741\n",
       "13        SignWidth  0.090727\n",
       "14      diag_length  0.097253\n",
       "15       SignHeight  0.106737\n",
       "16      AngleOfSign  0.162961\n",
       "17  SignAspectRatio  0.180400"
      ]
     },
     "execution_count": 57,
     "metadata": {},
     "output_type": "execute_result"
    }
   ],
   "source": [
    "#Validation Run\n",
    "bst = run_xgb(x_train, label_train, x_valid, label_valid)\n",
    "\n",
    "importance = bst.get_fscore()\n",
    "importance = sorted(importance.items(), key=operator.itemgetter(1))\n",
    "\n",
    "df_imp = pd.DataFrame(importance, columns=['feature', 'fscore'])\n",
    "df_imp['fscore'] = df_imp['fscore']/df_imp['fscore'].sum()\n",
    "\n",
    "df_imp"
   ]
  },
  {
   "cell_type": "code",
   "execution_count": 59,
   "metadata": {},
   "outputs": [
    {
     "name": "stdout",
     "output_type": "stream",
     "text": [
      "[0]\ttrain-mlogloss:1.34956\n",
      "Will train until train-mlogloss hasn't improved in 50 rounds.\n",
      "[50]\ttrain-mlogloss:0.475977\n",
      "[100]\ttrain-mlogloss:0.229009\n",
      "[150]\ttrain-mlogloss:0.144007\n",
      "[200]\ttrain-mlogloss:0.112694\n",
      "[250]\ttrain-mlogloss:0.10018\n",
      "[300]\ttrain-mlogloss:0.094753\n",
      "[350]\ttrain-mlogloss:0.091891\n",
      "[400]\ttrain-mlogloss:0.089879\n",
      "[450]\ttrain-mlogloss:0.088187\n",
      "[500]\ttrain-mlogloss:0.08651\n",
      "[549]\ttrain-mlogloss:0.084889\n"
     ]
    }
   ],
   "source": [
    "# Real Test Run + Submit\n",
    "bst = run_xgb(train, label)\n",
    "\n",
    "d_test = xgb.DMatrix(test)\n",
    "p_test = bst.predict(d_test)\n",
    "\n",
    "columns = ['Front','Left','Rear','Right']\n",
    "sub = pd.DataFrame(data=p_test, columns=columns)\n",
    "sub['Id'] = test_ids\n",
    "sub = sub[['Id','Front','Left','Rear','Right']]\n",
    "sub.to_csv(\"./subs/xgb_2.csv\", index=False)"
   ]
  },
  {
   "cell_type": "code",
   "execution_count": 68,
   "metadata": {},
   "outputs": [
    {
     "data": {
      "image/png": "[encoded data removed]",
      "text/plain": [
       "<matplotlib.figure.Figure at 0x7f1a47241d10>"
      ]
     },
     "metadata": {},
     "output_type": "display_data"
    }
   ],
   "source": [
    "plot_sign_aspect_ratio(train[(train.DetectedCamera == \"Left\") & (train.Target == \"Front\")])"
   ]
  },
  {
   "cell_type": "code",
   "execution_count": 100,
   "metadata": {},
   "outputs": [
    {
     "data": {
      "image/png": "[encoded data removed]",
      "text/plain": [
       "<matplotlib.figure.Figure at 0x7f1a475daa50>"
      ]
     },
     "metadata": {},
     "output_type": "display_data"
    }
   ],
   "source": [
    "plot_height(train)"
   ]
  },
  {
   "cell_type": "code",
   "execution_count": 31,
   "metadata": {},
   "outputs": [
    {
     "data": {
      "image/png": "[encoded data removed]",
      "text/plain": [
       "<matplotlib.figure.Figure at 0x7f1a474b1890>"
      ]
     },
     "metadata": {},
     "output_type": "display_data"
    }
   ],
   "source": [
    "plot_sign_aspect_ratio(train)"
   ]
  },
  {
   "cell_type": "code",
   "execution_count": 153,
   "metadata": {},
   "outputs": [
    {
     "data": {
      "image/png": "[encoded data removed]",
      "text/plain": [
       "<matplotlib.figure.Figure at 0x7fa8e81bf9d0>"
      ]
     },
     "metadata": {},
     "output_type": "display_data"
    }
   ],
   "source": [
    "plot_angle(train[train.DetectedCamera == \"Left\"])"
   ]
  },
  {
   "cell_type": "code",
   "execution_count": 58,
   "metadata": {},
   "outputs": [
    {
     "data": {
      "image/png": "[encoded data removed]",
      "text/plain": [
       "<matplotlib.figure.Figure at 0x7f1a474e94d0>"
      ]
     },
     "metadata": {},
     "output_type": "display_data"
    }
   ],
   "source": [
    "plot_angle(test)"
   ]
  },
  {
   "cell_type": "code",
   "execution_count": 141,
   "metadata": {},
   "outputs": [
    {
     "data": {
      "text/html": [
       "<div>\n",
       "<table border=\"1\" class=\"dataframe\">\n",
       "  <thead>\n",
       "    <tr style=\"text-align: right;\">\n",
       "      <th></th>\n",
       "      <th>Id</th>\n",
       "      <th>DetectedCamera</th>\n",
       "      <th>AngleOfSign</th>\n",
       "      <th>SignAspectRatio</th>\n",
       "      <th>SignWidth</th>\n",
       "      <th>SignHeight</th>\n",
       "      <th>SignFacing (Target)</th>\n",
       "    </tr>\n",
       "  </thead>\n",
       "  <tbody>\n",
       "    <tr>\n",
       "      <th>0</th>\n",
       "      <td>2c9180975a056a64015a1e0a52e57021</td>\n",
       "      <td>Rear</td>\n",
       "      <td>195</td>\n",
       "      <td>1.02</td>\n",
       "      <td>46</td>\n",
       "      <td>45</td>\n",
       "      <td>Rear</td>\n",
       "    </tr>\n",
       "    <tr>\n",
       "      <th>1</th>\n",
       "      <td>2c9180975a056a64015a1e17b32171e4</td>\n",
       "      <td>Rear</td>\n",
       "      <td>203</td>\n",
       "      <td>1.09</td>\n",
       "      <td>59</td>\n",
       "      <td>54</td>\n",
       "      <td>Rear</td>\n",
       "    </tr>\n",
       "    <tr>\n",
       "      <th>2</th>\n",
       "      <td>2c9180975a056a64015a1de4deb16bd5</td>\n",
       "      <td>Front</td>\n",
       "      <td>26</td>\n",
       "      <td>0.96</td>\n",
       "      <td>104</td>\n",
       "      <td>108</td>\n",
       "      <td>Front</td>\n",
       "    </tr>\n",
       "    <tr>\n",
       "      <th>3</th>\n",
       "      <td>2c9180975a056a64015a1de4deb16bdd</td>\n",
       "      <td>Rear</td>\n",
       "      <td>199</td>\n",
       "      <td>0.81</td>\n",
       "      <td>38</td>\n",
       "      <td>47</td>\n",
       "      <td>Rear</td>\n",
       "    </tr>\n",
       "    <tr>\n",
       "      <th>4</th>\n",
       "      <td>2c9180975a056a64015a1de4deb16bd6</td>\n",
       "      <td>Rear</td>\n",
       "      <td>208</td>\n",
       "      <td>0.93</td>\n",
       "      <td>54</td>\n",
       "      <td>58</td>\n",
       "      <td>Rear</td>\n",
       "    </tr>\n",
       "  </tbody>\n",
       "</table>\n",
       "</div>"
      ],
      "text/plain": [
       "                                 Id DetectedCamera  AngleOfSign  \\\n",
       "0  2c9180975a056a64015a1e0a52e57021           Rear          195   \n",
       "1  2c9180975a056a64015a1e17b32171e4           Rear          203   \n",
       "2  2c9180975a056a64015a1de4deb16bd5          Front           26   \n",
       "3  2c9180975a056a64015a1de4deb16bdd           Rear          199   \n",
       "4  2c9180975a056a64015a1de4deb16bd6           Rear          208   \n",
       "\n",
       "   SignAspectRatio  SignWidth  SignHeight SignFacing (Target)  \n",
       "0             1.02         46          45                Rear  \n",
       "1             1.09         59          54                Rear  \n",
       "2             0.96        104         108               Front  \n",
       "3             0.81         38          47                Rear  \n",
       "4             0.93         54          58                Rear  "
      ]
     },
     "execution_count": 141,
     "metadata": {},
     "output_type": "execute_result"
    }
   ],
   "source": [
    "train.head()"
   ]
  }
 ],
 "metadata": {
  "celltoolbar": "Raw Cell Format",
  "kernelspec": {
   "display_name": "Python 2",
   "language": "python",
   "name": "python2"
  },
  "language_info": {
   "codemirror_mode": {
    "name": "ipython",
    "version": 2
   },
   "file_extension": ".py",
   "mimetype": "text/x-python",
   "name": "python",
   "nbconvert_exporter": "python",
   "pygments_lexer": "ipython2",
   "version": "2.7.12"
  }
 },
 "nbformat": 4,
 "nbformat_minor": 2
}
