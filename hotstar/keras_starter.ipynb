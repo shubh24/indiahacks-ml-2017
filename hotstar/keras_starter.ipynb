{
 "cells": [
  {
   "cell_type": "code",
   "execution_count": 15,
   "metadata": {},
   "outputs": [],
   "source": [
    "import pandas as pd\n",
    "from keras.models import Sequential\n",
    "from keras.layers.core import Dense, Activation, Dropout\n",
    "from keras.layers.normalization import BatchNormalization\n",
    "from keras.layers.advanced_activations import PReLU\n",
    "from keras import optimizers\n",
    "from sklearn.cross_validation import train_test_split\n",
    "import numpy as np\n",
    "from sklearn import metrics"
   ]
  },
  {
   "cell_type": "code",
   "execution_count": 7,
   "metadata": {
    "collapsed": true
   },
   "outputs": [],
   "source": [
    "df_train = pd.read_csv(\"./new/train_data.csv\")\n",
    "df_test = pd.read_csv(\"./new/test_data.csv\")"
   ]
  },
  {
   "cell_type": "code",
   "execution_count": 28,
   "metadata": {
    "collapsed": true
   },
   "outputs": [],
   "source": [
    "def get_keras_model(x_train, x_label):\n",
    "    \n",
    "    model = Sequential()\n",
    "\n",
    "    model.add(Dense(52, input_shape = (52,), kernel_initializer='uniform'))\n",
    "    model.add(Activation('relu'))\n",
    "#     model.add(PReLU())\n",
    "    model.add(Dropout(0.05))\n",
    "    model.add(BatchNormalization())\n",
    "\n",
    "    model.add(Dense(52))\n",
    "    model.add(Activation('relu'))\n",
    "#     model.add(PReLU())\n",
    "    model.add(Dropout(0.05))\n",
    "    model.add(BatchNormalization())\n",
    "\n",
    "    model.add(Dense(1))\n",
    "    model.add(Activation('sigmoid'))\n",
    "\n",
    "    #model.compile(loss='binary_crossentropy', optimizer='adam', metrics=['accuracy'])\n",
    "    \n",
    "    #Trying optimizers -- sgd bad and slow!\n",
    "    model.compile(loss='binary_crossentropy', optimizer=optimizers.Adam(lr=0.01, decay = 0.01), metrics=['accuracy'])\n",
    "    #model.compile(loss='binary_crossentropy', optimizer=optimizers.SGD(lr=0.1, momentum=0.9), metrics=['accuracy'])\n",
    "    \n",
    "    model.fit(np.array(x_train), np.array(x_label), epochs = 1)\n",
    "\n",
    "    return model"
   ]
  },
  {
   "cell_type": "code",
   "execution_count": 8,
   "metadata": {},
   "outputs": [],
   "source": [
    "#Clean useless columns\n",
    "df_label = df_train.pop(\"segment\")\n",
    "df_train.drop(\"ID\", axis = 1, inplace=True)\n",
    "\n",
    "#Validation split\n",
    "x_train, x_valid, label_train, label_valid = train_test_split(df_train, df_label, test_size=0.2, random_state=4242, stratify = df_label)\n",
    "\n",
    "test_ids = df_test.pop(\"ID\")"
   ]
  },
  {
   "cell_type": "code",
   "execution_count": 29,
   "metadata": {},
   "outputs": [
    {
     "name": "stdout",
     "output_type": "stream",
     "text": [
      "Epoch 1/1\n",
      "160000/160000 [==============================] - 21s - loss: 0.2704 - acc: 0.9237    \n"
     ]
    }
   ],
   "source": [
    "#Validation\n",
    "keras_model = get_keras_model(x_train, label_train)"
   ]
  },
  {
   "cell_type": "code",
   "execution_count": 35,
   "metadata": {},
   "outputs": [
    {
     "data": {
      "text/plain": [
       "0        0.075154\n",
       "1        0.075154\n",
       "2        0.075154\n",
       "3        0.075154\n",
       "4        0.075154\n",
       "5        0.075154\n",
       "6        0.075154\n",
       "7        0.075154\n",
       "8        0.075154\n",
       "9        0.075154\n",
       "10       0.075154\n",
       "11       0.075154\n",
       "12       0.075154\n",
       "13       0.075154\n",
       "14       0.075154\n",
       "15       0.075154\n",
       "16       0.075154\n",
       "17       0.075154\n",
       "18       0.075154\n",
       "19       0.075154\n",
       "20       0.075154\n",
       "21       0.075154\n",
       "22       0.075154\n",
       "23       0.075154\n",
       "24       0.075154\n",
       "25       0.075154\n",
       "26       0.075154\n",
       "27       0.075154\n",
       "28       0.075154\n",
       "29       0.075154\n",
       "           ...   \n",
       "39970    0.075154\n",
       "39971    0.075154\n",
       "39972    0.075154\n",
       "39973    0.075154\n",
       "39974    0.075154\n",
       "39975    0.075154\n",
       "39976    0.075154\n",
       "39977    0.075154\n",
       "39978    0.075154\n",
       "39979    0.075154\n",
       "39980    0.075154\n",
       "39981    0.075154\n",
       "39982    0.075154\n",
       "39983    0.075154\n",
       "39984    0.075154\n",
       "39985    0.075154\n",
       "39986    0.075154\n",
       "39987    0.075154\n",
       "39988    0.075154\n",
       "39989    0.075154\n",
       "39990    0.075154\n",
       "39991    0.075154\n",
       "39992    0.075154\n",
       "39993    0.075154\n",
       "39994    0.075154\n",
       "39995    0.075154\n",
       "39996    0.075154\n",
       "39997    0.075154\n",
       "39998    0.075154\n",
       "39999    0.075154\n",
       "Name: # segment, dtype: float64"
      ]
     },
     "execution_count": 35,
     "metadata": {},
     "output_type": "execute_result"
    }
   ],
   "source": [
    "res_keras['# segment']"
   ]
  },
  {
   "cell_type": "code",
   "execution_count": 34,
   "metadata": {},
   "outputs": [
    {
     "name": "stdout",
     "output_type": "stream",
     "text": [
      "0.5\n"
     ]
    }
   ],
   "source": [
    "res_keras = keras_model.predict(np.array(x_valid))\n",
    "np.savetxt(\"./subs/keras_1.csv\", res_keras, delimiter=\",\", header = \"segment\")\n",
    "\n",
    "res_keras = pd.read_csv(\"./subs/keras_1.csv\")\n",
    "print metrics.roc_auc_score(label_valid, res_keras['# segment'])\n"
   ]
  }
 ],
 "metadata": {
  "kernelspec": {
   "display_name": "Python 2",
   "language": "python",
   "name": "python2"
  },
  "language_info": {
   "codemirror_mode": {
    "name": "ipython",
    "version": 2
   },
   "file_extension": ".py",
   "mimetype": "text/x-python",
   "name": "python",
   "nbconvert_exporter": "python",
   "pygments_lexer": "ipython2",
   "version": "2.7.12"
  }
 },
 "nbformat": 4,
 "nbformat_minor": 2
}
