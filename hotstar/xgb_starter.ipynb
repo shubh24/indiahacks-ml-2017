{
 "cells": [
  {
   "cell_type": "code",
   "execution_count": 25,
   "metadata": {},
   "outputs": [
    {
     "name": "stderr",
     "output_type": "stream",
     "text": [
      "/usr/local/lib/python2.7/dist-packages/sklearn/cross_validation.py:44: DeprecationWarning: This module was deprecated in version 0.18 in favor of the model_selection module into which all the refactored classes and functions are moved. Also note that the interface of the new CV iterators are different from that of this module. This module will be removed in 0.20.\n",
      "  \"This module will be removed in 0.20.\", DeprecationWarning)\n"
     ]
    }
   ],
   "source": [
    "from __future__ import division\n",
    "import xgboost as xgb\n",
    "import pandas as pd\n",
    "import numpy as np\n",
    "from sklearn.cross_validation import train_test_split"
   ]
  },
  {
   "cell_type": "code",
   "execution_count": 27,
   "metadata": {
    "collapsed": true
   },
   "outputs": [],
   "source": [
    "df_train = pd.read_csv(\"./train_data.csv\")\n",
    "df_test = pd.read_csv(\"./test_data.csv\")"
   ]
  },
  {
   "cell_type": "code",
   "execution_count": 33,
   "metadata": {
    "collapsed": true
   },
   "outputs": [],
   "source": [
    "def run_xgb(x_train, x_valid, label_train, label_valid):\n",
    "\n",
    "    # Set our parameters for xgboost\n",
    "    params = {}\n",
    "    params['objective'] = 'binary:logistic'\n",
    "    params['eval_metric'] = 'auc'\n",
    "    params['eta'] = 0.05\n",
    "    params['max_depth'] = 6\n",
    "    params['silent'] = 1\n",
    "    params['min_child_weight'] = 0\n",
    "    params['subsample'] = 0.8\n",
    "    params['colsample_bytree'] = 0.8\n",
    "    params['nthread'] = 13\n",
    "\n",
    "    d_train = xgb.DMatrix(x_train, label=label_train)\n",
    "    d_valid = xgb.DMatrix(x_valid, label=label_valid)\n",
    "\n",
    "    watchlist = [(d_train, 'train'), (d_valid, 'validation')]\n",
    "\n",
    "    bst = xgb.train(params, d_train, 2000, watchlist, early_stopping_rounds=50, verbose_eval=50)\n",
    "    \n",
    "    return bst"
   ]
  },
  {
   "cell_type": "code",
   "execution_count": 28,
   "metadata": {},
   "outputs": [],
   "source": [
    "#Clean useless columns\n",
    "df_label = df_train.pop(\"segment\")\n",
    "df_train.drop(\"ID\", axis = 1, inplace=True)\n",
    "\n",
    "#Validation split\n",
    "x_train, x_valid, label_train, label_valid = train_test_split(df_train, df_label, test_size=0.2, random_state=4242, stratify = df_label)\n",
    "\n",
    "test_ids = df_test.pop(\"ID\")"
   ]
  },
  {
   "cell_type": "code",
   "execution_count": null,
   "metadata": {},
   "outputs": [
    {
     "name": "stdout",
     "output_type": "stream",
     "text": [
      "[0]\ttrain-auc:0.791973\tvalidation-auc:0.781786\n",
      "Multiple eval metrics have been passed: 'validation-auc' will be used for early stopping.\n",
      "\n",
      "Will train until validation-auc hasn't improved in 50 rounds.\n",
      "[50]\ttrain-auc:0.821895\tvalidation-auc:0.806845\n"
     ]
    }
   ],
   "source": [
    "bst = run_xgb(x_train, x_valid, label_train, label_valid)"
   ]
  }
 ],
 "metadata": {
  "kernelspec": {
   "display_name": "Python 2",
   "language": "python",
   "name": "python2"
  },
  "language_info": {
   "codemirror_mode": {
    "name": "ipython",
    "version": 2
   },
   "file_extension": ".py",
   "mimetype": "text/x-python",
   "name": "python",
   "nbconvert_exporter": "python",
   "pygments_lexer": "ipython2",
   "version": "2.7.12"
  }
 },
 "nbformat": 4,
 "nbformat_minor": 2
}
