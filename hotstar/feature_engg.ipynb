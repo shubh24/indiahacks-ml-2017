{
 "cells": [
  {
   "cell_type": "code",
   "execution_count": 8,
   "metadata": {},
   "outputs": [
    {
     "name": "stderr",
     "output_type": "stream",
     "text": [
      "0it [00:00, ?it/s]\n",
      "TqdmDeprecationWarning: Please use `tqdm.pandas(...)` instead of `tqdm_pandas(tqdm(...))`.\n"
     ]
    }
   ],
   "source": [
    "from __future__ import division\n",
    "import xgboost as xgb\n",
    "import pandas as pd\n",
    "import numpy as np\n",
    "from tqdm import tqdm, tqdm_pandas\n",
    "tqdm_pandas(tqdm())"
   ]
  },
  {
   "cell_type": "code",
   "execution_count": 27,
   "metadata": {
    "collapsed": true
   },
   "outputs": [],
   "source": [
    "df_train = pd.read_csv(\"./old/train_data.csv\")\n",
    "df_test = pd.read_csv(\"./old/test_data.csv\")"
   ]
  },
  {
   "cell_type": "code",
   "execution_count": 33,
   "metadata": {
    "collapsed": true
   },
   "outputs": [],
   "source": [
    "def collate_similar_feats(df):\n",
    "    \n",
    "    sports_feats = [\"genre_Athletics\" , \"genre_Badminton\" , \"genre_Boxing\" , \"genre_Cricket\" , \"genre_Football\" , \"genre_Formula1\" , \"genre_FormulaE\" , \"genre_Hockey\" , \"genre_IndiaVsSa\" , \"genre_Kabaddi\" , \"genre_Sport\" , \"genre_Swimming\" , \"genre_Table Tennis\" , \"genre_Tennis\" , \"genre_Volleyball\"]\n",
    "    df[\"generated_sports\"] = 0\n",
    "    \n",
    "    celeb_feats = [\"genre_TalkShow\", \"genre_Reality\", \"genre_Awards\"]\n",
    "    df[\"generated_celeb\"] = 0\n",
    "\n",
    "    drama_feats = [\"genre_Drama\", \"genre_Romance\", \"genre_Family\"]\n",
    "    df[\"generated_drama\"] = 0\n",
    "\n",
    "    science_feats = [\"genre_Documentary\", \"genre_Science\", \"genre_Wildlife\"]\n",
    "    df[\"generated_science\"] = 0\n",
    "\n",
    "    action_feats = [\"genre_Action\", \"genre_Thriller\"]\n",
    "    df[\"generated_action\"] = 0\n",
    "\n",
    "    for i in sports_feats:\n",
    "        df[\"generated_sports\"]  = df[\"generated_sports\"] + df[i]\n",
    "        df.drop(i, axis = 1, inplace = True)\n",
    "    df[\"sports_ratio\"] = df[\"generated_sports\"]/df[\"sum_wt\"]\n",
    "    \n",
    "    for i in celeb_feats:\n",
    "        df[\"generated_celeb\"]  = df[\"generated_celeb\"] + df[i]\n",
    "        df.drop(i, axis = 1, inplace = True)\n",
    "    df[\"celeb_ratio\"] = df[\"generated_celeb\"]/df[\"sum_wt\"]\n",
    "\n",
    "    for i in drama_feats:\n",
    "        df[\"generated_drama\"]  = df[\"generated_drama\"] + df[i]\n",
    "        df.drop(i, axis = 1, inplace = True)\n",
    "    df[\"drama_ratio\"] = df[\"generated_drama\"]/df[\"sum_wt\"]\n",
    "\n",
    "    for i in science_feats:\n",
    "        df[\"generated_science\"]  = df[\"generated_science\"] + df[i]\n",
    "        df.drop(i, axis = 1, inplace = True)\n",
    "    df[\"science_ratio\"] = df[\"generated_science\"]/df[\"sum_wt\"]\n",
    "\n",
    "    for i in action_feats:\n",
    "        df[\"generated_action\"]  = df[\"generated_action\"] + df[i]\n",
    "        df.drop(i, axis = 1, inplace = True)\n",
    "    df[\"action_ratio\"] = df[\"generated_action\"]/df[\"sum_wt\"]\n",
    "\n",
    "    return df"
   ]
  },
  {
   "cell_type": "code",
   "execution_count": 34,
   "metadata": {
    "collapsed": true
   },
   "outputs": [],
   "source": [
    "def collate_tod_feats(df):\n",
    "    \n",
    "    late_night_feats = [\"tod_0\", \"tod_1\", \"tod_2\", \"tod_3\", \"tod_4\", \"tod_5\"]\n",
    "    df[\"generated_late_night\"] = 0\n",
    "    \n",
    "    morning_feats = [\"tod_6\", \"tod_7\", \"tod_8\", \"tod_9\", \"tod_10\", \"tod_11\"]    \n",
    "    df[\"generated_morning\"] = 0\n",
    "    \n",
    "    afternoon_feats = [\"tod_12\", \"tod_13\", \"tod_14\", \"tod_15\", \"tod_16\", \"tod_17\"]    \n",
    "    df[\"generated_afternoon\"] = 0\n",
    "    \n",
    "    evening_feats = [ \"tod_18\", \"tod_19\", \"tod_20\", \"tod_21\", \"tod_22\", \"tod_23\"]    \n",
    "    df[\"generated_evening\"] = 0\n",
    "    \n",
    "    for i in late_night_feats:\n",
    "        df[\"generated_late_night\"]  = df[\"generated_late_night\"] + df[i]\n",
    "        df.drop(i, axis = 1, inplace = True)\n",
    "\n",
    "    for i in morning_feats:\n",
    "        df[\"generated_morning\"]  = df[\"generated_morning\"] + df[i]\n",
    "        df.drop(i, axis = 1, inplace = True)\n",
    "\n",
    "    for i in afternoon_feats:\n",
    "        df[\"generated_afternoon\"]  = df[\"generated_afternoon\"] + df[i]\n",
    "        df.drop(i, axis = 1, inplace = True)\n",
    "\n",
    "    for i in evening_feats:\n",
    "        df[\"generated_evening\"]  = df[\"generated_evening\"] + df[i]\n",
    "        df.drop(i, axis = 1, inplace = True)\n",
    "\n",
    "    sum_time_wt = df_train.generated_late_night + df_train.generated_morning + df_train.generated_afternoon + df_train.generated_evening\n",
    "\n",
    "    df[\"late_night_ratio\"] = df[\"generated_late_night\"]/sum_time_wt\n",
    "    df[\"morning_ratio\"] = df[\"generated_morning\"]/sum_time_wt\n",
    "    df[\"afternoon_ratio\"] = df[\"generated_afternoon\"]/sum_time_wt\n",
    "    df[\"evening_ratio\"] = df[\"generated_evening\"]/sum_time_wt\n",
    "    \n",
    "    return df"
   ]
  },
  {
   "cell_type": "code",
   "execution_count": 35,
   "metadata": {
    "collapsed": true
   },
   "outputs": [],
   "source": [
    "def collate_weekend_weekday(df):\n",
    "    \n",
    "    weekday_feats = [\"dow_1\", \"dow_2\", \"dow_3\", \"dow_4\", \"dow_5\"]\n",
    "    df[\"weekday\"] = 0\n",
    "\n",
    "    weekend_feats = [\"dow_6\", \"dow_7\"]\n",
    "    df[\"weekend\"] = 0\n",
    "\n",
    "    for i in weekday_feats:\n",
    "        df[\"weekday\"]  = df[\"weekday\"] + df[i]\n",
    "        df.drop(i, axis = 1, inplace = True)\n",
    "\n",
    "    for i in weekend_feats:\n",
    "        df[\"weekend\"]  = df[\"weekend\"] + df[i]\n",
    "        df.drop(i, axis = 1, inplace = True)\n",
    "    \n",
    "    df[\"weekend_perc\"] = df[\"weekend\"]/(df[\"weekend\"] + df[\"weekday\"])\n",
    "    df[\"weekend_ratio\"] = df[\"weekend\"]/df[\"weekday\"]\n",
    "#     df[\"weekend_weekday_diff\"] = df[\"weekend\"] - df[\"weekday\"]\n",
    "    \n",
    "    return df"
   ]
  },
  {
   "cell_type": "code",
   "execution_count": 29,
   "metadata": {},
   "outputs": [],
   "source": [
    "def title_analysis(row):\n",
    "    \n",
    "    title_dict = {}\n",
    "    \n",
    "    for title in row.titles.split(\",\"):\n",
    "\n",
    "        try: #to ignore blanks\n",
    "\n",
    "            title_name, title_wt = title.split(\":\")\n",
    "            title_dict[str(title_name)] = int(title_wt)\n",
    "\n",
    "        except:\n",
    "            pass\n",
    "\n",
    "    if sum(title_dict.values()) > 0:\n",
    "        titles_gt_600 = sum( x >= 600 for x in title_dict.values() )\n",
    "        titles_mean = np.mean(title_dict.values())\n",
    "        titles_median = np.median(title_dict.values())    \n",
    "        titles_max = max(title_dict.values())    \n",
    "        titles_max_perc = titles_max/sum(title_dict.values())\n",
    "\n",
    "        return pd.Series({\n",
    "            \"titles_gt_600\": titles_gt_600,\n",
    "            \"titles_mean\": titles_mean,\n",
    "            \"titles_median\": titles_median,\n",
    "            \"titles_max\": titles_max,\n",
    "            \"titles_max_perc\": titles_max_perc\n",
    "        })\n",
    "    else:\n",
    "        return pd.Series({\n",
    "            \"titles_gt_600\": 0,\n",
    "            \"titles_mean\": 0,\n",
    "            \"titles_median\": 0,\n",
    "            \"titles_max\": 0,\n",
    "            \"titles_max_perc\": 0\n",
    "        })\n",
    "    \n",
    "train_data = pd.read_json('train_data.json',orient=\"index\")\n",
    "train_title = train_data.progress_apply(title_analysis, axis = 1)\n",
    "%reset_selective -f train_data\n",
    "train_title.index = df_train.index\n",
    "df_train = pd.concat([df_train, train_title], axis = 1)\n",
    "\n",
    "test_data = pd.read_json('test_data.json',orient='index')\n",
    "test_title = test_data.progress_apply(title_analysis, axis = 1)\n",
    "%reset_selective -f test_data\n",
    "test_title.index = df_test.index\n",
    "df_test = pd.concat([df_test, test_title], axis = 1)"
   ]
  },
  {
   "cell_type": "code",
   "execution_count": 30,
   "metadata": {},
   "outputs": [
    {
     "data": {
      "text/html": [
       "<div>\n",
       "<table border=\"1\" class=\"dataframe\">\n",
       "  <thead>\n",
       "    <tr style=\"text-align: right;\">\n",
       "      <th></th>\n",
       "      <th>ID</th>\n",
       "      <th>segment</th>\n",
       "      <th>genre_Action</th>\n",
       "      <th>genre_Athletics</th>\n",
       "      <th>genre_Awards</th>\n",
       "      <th>genre_Badminton</th>\n",
       "      <th>genre_Boxing</th>\n",
       "      <th>genre_Comedy</th>\n",
       "      <th>genre_Cricket</th>\n",
       "      <th>genre_Crime</th>\n",
       "      <th>...</th>\n",
       "      <th>title_count</th>\n",
       "      <th>genres_count</th>\n",
       "      <th>cities_count</th>\n",
       "      <th>tod_count</th>\n",
       "      <th>dow_count</th>\n",
       "      <th>titles_gt_600</th>\n",
       "      <th>titles_max</th>\n",
       "      <th>titles_max_perc</th>\n",
       "      <th>titles_mean</th>\n",
       "      <th>titles_median</th>\n",
       "    </tr>\n",
       "  </thead>\n",
       "  <tbody>\n",
       "    <tr>\n",
       "      <th>0</th>\n",
       "      <td>train-1</td>\n",
       "      <td>0</td>\n",
       "      <td>0</td>\n",
       "      <td>0</td>\n",
       "      <td>0</td>\n",
       "      <td>0</td>\n",
       "      <td>0</td>\n",
       "      <td>0</td>\n",
       "      <td>82379</td>\n",
       "      <td>0</td>\n",
       "      <td>...</td>\n",
       "      <td>60</td>\n",
       "      <td>3</td>\n",
       "      <td>2</td>\n",
       "      <td>14</td>\n",
       "      <td>7</td>\n",
       "      <td>19.0</td>\n",
       "      <td>9186.0</td>\n",
       "      <td>0.111071</td>\n",
       "      <td>2120.615385</td>\n",
       "      <td>596.0</td>\n",
       "    </tr>\n",
       "    <tr>\n",
       "      <th>1</th>\n",
       "      <td>train-10</td>\n",
       "      <td>0</td>\n",
       "      <td>0</td>\n",
       "      <td>0</td>\n",
       "      <td>0</td>\n",
       "      <td>0</td>\n",
       "      <td>0</td>\n",
       "      <td>0</td>\n",
       "      <td>15640</td>\n",
       "      <td>0</td>\n",
       "      <td>...</td>\n",
       "      <td>70</td>\n",
       "      <td>2</td>\n",
       "      <td>3</td>\n",
       "      <td>16</td>\n",
       "      <td>7</td>\n",
       "      <td>7.0</td>\n",
       "      <td>4439.0</td>\n",
       "      <td>0.311400</td>\n",
       "      <td>279.509804</td>\n",
       "      <td>76.0</td>\n",
       "    </tr>\n",
       "    <tr>\n",
       "      <th>2</th>\n",
       "      <td>train-100</td>\n",
       "      <td>0</td>\n",
       "      <td>0</td>\n",
       "      <td>0</td>\n",
       "      <td>0</td>\n",
       "      <td>0</td>\n",
       "      <td>0</td>\n",
       "      <td>0</td>\n",
       "      <td>0</td>\n",
       "      <td>0</td>\n",
       "      <td>...</td>\n",
       "      <td>2</td>\n",
       "      <td>2</td>\n",
       "      <td>1</td>\n",
       "      <td>3</td>\n",
       "      <td>1</td>\n",
       "      <td>1.0</td>\n",
       "      <td>4129.0</td>\n",
       "      <td>0.996861</td>\n",
       "      <td>2071.000000</td>\n",
       "      <td>2071.0</td>\n",
       "    </tr>\n",
       "    <tr>\n",
       "      <th>3</th>\n",
       "      <td>train-1000</td>\n",
       "      <td>0</td>\n",
       "      <td>0</td>\n",
       "      <td>0</td>\n",
       "      <td>0</td>\n",
       "      <td>0</td>\n",
       "      <td>0</td>\n",
       "      <td>0</td>\n",
       "      <td>7690</td>\n",
       "      <td>0</td>\n",
       "      <td>...</td>\n",
       "      <td>8</td>\n",
       "      <td>2</td>\n",
       "      <td>3</td>\n",
       "      <td>6</td>\n",
       "      <td>5</td>\n",
       "      <td>5.0</td>\n",
       "      <td>2878.0</td>\n",
       "      <td>0.344753</td>\n",
       "      <td>1043.500000</td>\n",
       "      <td>679.5</td>\n",
       "    </tr>\n",
       "    <tr>\n",
       "      <th>4</th>\n",
       "      <td>train-10000</td>\n",
       "      <td>0</td>\n",
       "      <td>0</td>\n",
       "      <td>0</td>\n",
       "      <td>0</td>\n",
       "      <td>0</td>\n",
       "      <td>0</td>\n",
       "      <td>0</td>\n",
       "      <td>3283</td>\n",
       "      <td>0</td>\n",
       "      <td>...</td>\n",
       "      <td>11</td>\n",
       "      <td>3</td>\n",
       "      <td>2</td>\n",
       "      <td>9</td>\n",
       "      <td>5</td>\n",
       "      <td>3.0</td>\n",
       "      <td>5449.0</td>\n",
       "      <td>0.537960</td>\n",
       "      <td>920.818182</td>\n",
       "      <td>292.0</td>\n",
       "    </tr>\n",
       "  </tbody>\n",
       "</table>\n",
       "<p>5 rows × 79 columns</p>\n",
       "</div>"
      ],
      "text/plain": [
       "            ID  segment  genre_Action  genre_Athletics  genre_Awards  \\\n",
       "0      train-1        0             0                0             0   \n",
       "1     train-10        0             0                0             0   \n",
       "2    train-100        0             0                0             0   \n",
       "3   train-1000        0             0                0             0   \n",
       "4  train-10000        0             0                0             0   \n",
       "\n",
       "   genre_Badminton  genre_Boxing  genre_Comedy  genre_Cricket  genre_Crime  \\\n",
       "0                0             0             0          82379            0   \n",
       "1                0             0             0          15640            0   \n",
       "2                0             0             0              0            0   \n",
       "3                0             0             0           7690            0   \n",
       "4                0             0             0           3283            0   \n",
       "\n",
       "       ...        title_count  genres_count  cities_count  tod_count  \\\n",
       "0      ...                 60             3             2         14   \n",
       "1      ...                 70             2             3         16   \n",
       "2      ...                  2             2             1          3   \n",
       "3      ...                  8             2             3          6   \n",
       "4      ...                 11             3             2          9   \n",
       "\n",
       "   dow_count  titles_gt_600  titles_max  titles_max_perc  titles_mean  \\\n",
       "0          7           19.0      9186.0         0.111071  2120.615385   \n",
       "1          7            7.0      4439.0         0.311400   279.509804   \n",
       "2          1            1.0      4129.0         0.996861  2071.000000   \n",
       "3          5            5.0      2878.0         0.344753  1043.500000   \n",
       "4          5            3.0      5449.0         0.537960   920.818182   \n",
       "\n",
       "   titles_median  \n",
       "0          596.0  \n",
       "1           76.0  \n",
       "2         2071.0  \n",
       "3          679.5  \n",
       "4          292.0  \n",
       "\n",
       "[5 rows x 79 columns]"
      ]
     },
     "execution_count": 30,
     "metadata": {},
     "output_type": "execute_result"
    }
   ],
   "source": [
    "df_train.head()"
   ]
  },
  {
   "cell_type": "code",
   "execution_count": 36,
   "metadata": {},
   "outputs": [],
   "source": [
    "df_train = collate_similar_feats(df_train)\n",
    "df_test = collate_similar_feats(df_test)"
   ]
  },
  {
   "cell_type": "code",
   "execution_count": 37,
   "metadata": {},
   "outputs": [],
   "source": [
    "df_train = collate_tod_feats(df_train)\n",
    "df_test = collate_tod_feats(df_test)"
   ]
  },
  {
   "cell_type": "code",
   "execution_count": 38,
   "metadata": {
    "collapsed": true
   },
   "outputs": [],
   "source": [
    "df_train = collate_weekend_weekday(df_train)\n",
    "df_test = collate_weekend_weekday(df_test)"
   ]
  },
  {
   "cell_type": "code",
   "execution_count": 39,
   "metadata": {
    "collapsed": true
   },
   "outputs": [],
   "source": [
    "df_train.to_csv(\"./new/train_data.csv\", index = False)\n",
    "df_test.to_csv(\"./new/test_data.csv\", index = False)"
   ]
  },
  {
   "cell_type": "code",
   "execution_count": 40,
   "metadata": {},
   "outputs": [
    {
     "data": {
      "text/plain": [
       "<matplotlib.axes._subplots.AxesSubplot at 0x7fbb8f5b7110>"
      ]
     },
     "execution_count": 40,
     "metadata": {},
     "output_type": "execute_result"
    }
   ],
   "source": [
    "import seaborn as sns\n",
    "corr = df_train.corr()\n",
    "sns.heatmap(corr, \n",
    "            xticklabels=corr.columns.values,\n",
    "            yticklabels=corr.columns.values)"
   ]
  },
  {
   "cell_type": "code",
   "execution_count": 41,
   "metadata": {},
   "outputs": [
    {
     "data": {
      "image/png": "[encoded data removed]",
      "text/plain": [
       "<matplotlib.figure.Figure at 0x7fbbbdbd3890>"
      ]
     },
     "metadata": {},
     "output_type": "display_data"
    }
   ],
   "source": [
    "import matplotlib.pyplot as plt\n",
    "plt.show()"
   ]
  },
  {
   "cell_type": "code",
   "execution_count": 72,
   "metadata": {},
   "outputs": [
    {
     "data": {
      "text/plain": [
       "12.115478091423313"
      ]
     },
     "execution_count": 72,
     "metadata": {},
     "output_type": "execute_result"
    }
   ],
   "source": [
    "np.mean(df_train[df_train.segment == 0].title_count)"
   ]
  }
 ],
 "metadata": {
  "kernelspec": {
   "display_name": "Python 2",
   "language": "python",
   "name": "python2"
  },
  "language_info": {
   "codemirror_mode": {
    "name": "ipython",
    "version": 2
   },
   "file_extension": ".py",
   "mimetype": "text/x-python",
   "name": "python",
   "nbconvert_exporter": "python",
   "pygments_lexer": "ipython2",
   "version": "2.7.12"
  }
 },
 "nbformat": 4,
 "nbformat_minor": 2
}
