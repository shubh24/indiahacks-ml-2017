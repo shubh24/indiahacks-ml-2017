{
 "cells": [
  {
   "cell_type": "code",
   "execution_count": 248,
   "metadata": {},
   "outputs": [
    {
     "name": "stderr",
     "output_type": "stream",
     "text": [
      "0it [00:00, ?it/s]\n",
      "TqdmDeprecationWarning: Please use `tqdm.pandas(...)` instead of `tqdm_pandas(tqdm(...))`.\n"
     ]
    }
   ],
   "source": [
    "from __future__ import division\n",
    "import pandas as pd\n",
    "import seaborn as sns\n",
    "import matplotlib.pyplot as plt\n",
    "import numpy as np\n",
    "from tqdm import tqdm, tqdm_pandas\n",
    "tqdm_pandas(tqdm())\n",
    "import xgboost as xgb\n",
    "from sklearn.cross_validation import train_test_split"
   ]
  },
  {
   "cell_type": "code",
   "execution_count": 34,
   "metadata": {},
   "outputs": [],
   "source": [
    "train = pd.read_csv(\"train.csv\")\n",
    "train.columns = [i.strip() for i in train.columns]"
   ]
  },
  {
   "cell_type": "code",
   "execution_count": 35,
   "metadata": {
    "collapsed": true
   },
   "outputs": [],
   "source": [
    "test = pd.read_csv(\"test.csv\")\n",
    "test.columns = [i.strip() for i in test.columns]"
   ]
  },
  {
   "cell_type": "code",
   "execution_count": 36,
   "metadata": {
    "collapsed": true
   },
   "outputs": [],
   "source": [
    "labels = pd.read_csv(\"labels.csv\")\n",
    "labels.columns = [i.strip() for i in labels.columns]"
   ]
  },
  {
   "cell_type": "code",
   "execution_count": 37,
   "metadata": {
    "collapsed": true
   },
   "outputs": [],
   "source": [
    "sub = pd.read_csv(\"sample_submission.csv\")\n",
    "sub.columns = [i.strip() for i in sub.columns]"
   ]
  },
  {
   "cell_type": "code",
   "execution_count": 63,
   "metadata": {},
   "outputs": [
    {
     "data": {
      "text/html": [
       "<div>\n",
       "<style>\n",
       "    .dataframe thead tr:only-child th {\n",
       "        text-align: right;\n",
       "    }\n",
       "\n",
       "    .dataframe thead th {\n",
       "        text-align: left;\n",
       "    }\n",
       "\n",
       "    .dataframe tbody tr th {\n",
       "        vertical-align: top;\n",
       "    }\n",
       "</style>\n",
       "<table border=\"1\" class=\"dataframe\">\n",
       "  <thead>\n",
       "    <tr style=\"text-align: right;\">\n",
       "      <th></th>\n",
       "      <th>roadId</th>\n",
       "      <th>totalLaneLines</th>\n",
       "      <th>laneLineId</th>\n",
       "      <th>laneLineCoordinates</th>\n",
       "      <th>totalLinesOnLeft</th>\n",
       "      <th>totalLaneLinesOnRight</th>\n",
       "      <th>distFromLaneLineOnLeft</th>\n",
       "      <th>distFromLaneLineOnRight</th>\n",
       "      <th>laneLineLength</th>\n",
       "      <th>roadLength</th>\n",
       "      <th>noOfIntersectingLaneLinesLeft</th>\n",
       "      <th>noOfIntersectingLaneLinesRight</th>\n",
       "      <th>isIntersectingWithRoadGeometry</th>\n",
       "      <th>roadCategory</th>\n",
       "      <th>roadCoordinates</th>\n",
       "      <th>noOfLanes</th>\n",
       "    </tr>\n",
       "  </thead>\n",
       "  <tbody>\n",
       "    <tr>\n",
       "      <th>0</th>\n",
       "      <td>3177248677</td>\n",
       "      <td>3</td>\n",
       "      <td>X3177248677</td>\n",
       "      <td>11.117636626741222 49.43799310961545|11.11761...</td>\n",
       "      <td>2</td>\n",
       "      <td>0</td>\n",
       "      <td>3.863433276</td>\n",
       "      <td></td>\n",
       "      <td>4.396337</td>\n",
       "      <td>40.57071</td>\n",
       "      <td>0</td>\n",
       "      <td>0</td>\n",
       "      <td>false</td>\n",
       "      <td>2</td>\n",
       "      <td>11.11747 49.43763|11.11753 49.43776|11.11761 ...</td>\n",
       "      <td>2</td>\n",
       "    </tr>\n",
       "    <tr>\n",
       "      <th>1</th>\n",
       "      <td>3177248677</td>\n",
       "      <td>3</td>\n",
       "      <td>13177248677</td>\n",
       "      <td>11.11771009862968 49.43794191822495|11.117697...</td>\n",
       "      <td>0</td>\n",
       "      <td>2</td>\n",
       "      <td></td>\n",
       "      <td>3.740901458</td>\n",
       "      <td>37.316844</td>\n",
       "      <td>40.57071</td>\n",
       "      <td>0</td>\n",
       "      <td>0</td>\n",
       "      <td>false</td>\n",
       "      <td>2</td>\n",
       "      <td>11.11747 49.43763|11.11753 49.43776|11.11761 ...</td>\n",
       "      <td>2</td>\n",
       "    </tr>\n",
       "    <tr>\n",
       "      <th>2</th>\n",
       "      <td>3177248677</td>\n",
       "      <td>3</td>\n",
       "      <td>23177248677</td>\n",
       "      <td>11.117673197144772 49.43796782435575|11.11765...</td>\n",
       "      <td>1</td>\n",
       "      <td>1</td>\n",
       "      <td>3.740901458</td>\n",
       "      <td>3.863433276</td>\n",
       "      <td>40.365319</td>\n",
       "      <td>40.57071</td>\n",
       "      <td>0</td>\n",
       "      <td>0</td>\n",
       "      <td>true</td>\n",
       "      <td>2</td>\n",
       "      <td>11.11747 49.43763|11.11753 49.43776|11.11761 ...</td>\n",
       "      <td>2</td>\n",
       "    </tr>\n",
       "    <tr>\n",
       "      <th>3</th>\n",
       "      <td>3177248677</td>\n",
       "      <td>2</td>\n",
       "      <td>X3177248677</td>\n",
       "      <td>11.117480629929192 49.43781578147865|11.11742...</td>\n",
       "      <td>1</td>\n",
       "      <td>0</td>\n",
       "      <td>3.376377772</td>\n",
       "      <td></td>\n",
       "      <td>19.342362</td>\n",
       "      <td>40.57071</td>\n",
       "      <td>0</td>\n",
       "      <td>0</td>\n",
       "      <td>false</td>\n",
       "      <td>2</td>\n",
       "      <td>11.11747 49.43763|11.11753 49.43776|11.11761 ...</td>\n",
       "      <td>2</td>\n",
       "    </tr>\n",
       "    <tr>\n",
       "      <th>4</th>\n",
       "      <td>3177248677</td>\n",
       "      <td>2</td>\n",
       "      <td>13177248677</td>\n",
       "      <td>11.117587468615081 49.43799962846225|11.11751...</td>\n",
       "      <td>0</td>\n",
       "      <td>1</td>\n",
       "      <td></td>\n",
       "      <td>3.376377772</td>\n",
       "      <td>42.007669</td>\n",
       "      <td>40.57071</td>\n",
       "      <td>0</td>\n",
       "      <td>0</td>\n",
       "      <td>true</td>\n",
       "      <td>2</td>\n",
       "      <td>11.11747 49.43763|11.11753 49.43776|11.11761 ...</td>\n",
       "      <td>2</td>\n",
       "    </tr>\n",
       "  </tbody>\n",
       "</table>\n",
       "</div>"
      ],
      "text/plain": [
       "       roadId  totalLaneLines   laneLineId  \\\n",
       "0  3177248677               3  X3177248677   \n",
       "1  3177248677               3  13177248677   \n",
       "2  3177248677               3  23177248677   \n",
       "3  3177248677               2  X3177248677   \n",
       "4  3177248677               2  13177248677   \n",
       "\n",
       "                                 laneLineCoordinates  totalLinesOnLeft  \\\n",
       "0   11.117636626741222 49.43799310961545|11.11761...                 2   \n",
       "1   11.11771009862968 49.43794191822495|11.117697...                 0   \n",
       "2   11.117673197144772 49.43796782435575|11.11765...                 1   \n",
       "3   11.117480629929192 49.43781578147865|11.11742...                 1   \n",
       "4   11.117587468615081 49.43799962846225|11.11751...                 0   \n",
       "\n",
       "   totalLaneLinesOnRight distFromLaneLineOnLeft distFromLaneLineOnRight  \\\n",
       "0                      0            3.863433276                           \n",
       "1                      2                                    3.740901458   \n",
       "2                      1            3.740901458             3.863433276   \n",
       "3                      0            3.376377772                           \n",
       "4                      1                                    3.376377772   \n",
       "\n",
       "   laneLineLength  roadLength  noOfIntersectingLaneLinesLeft  \\\n",
       "0        4.396337    40.57071                              0   \n",
       "1       37.316844    40.57071                              0   \n",
       "2       40.365319    40.57071                              0   \n",
       "3       19.342362    40.57071                              0   \n",
       "4       42.007669    40.57071                              0   \n",
       "\n",
       "   noOfIntersectingLaneLinesRight isIntersectingWithRoadGeometry  \\\n",
       "0                               0                          false   \n",
       "1                               0                          false   \n",
       "2                               0                           true   \n",
       "3                               0                          false   \n",
       "4                               0                           true   \n",
       "\n",
       "   roadCategory                                    roadCoordinates  noOfLanes  \n",
       "0             2   11.11747 49.43763|11.11753 49.43776|11.11761 ...          2  \n",
       "1             2   11.11747 49.43763|11.11753 49.43776|11.11761 ...          2  \n",
       "2             2   11.11747 49.43763|11.11753 49.43776|11.11761 ...          2  \n",
       "3             2   11.11747 49.43763|11.11753 49.43776|11.11761 ...          2  \n",
       "4             2   11.11747 49.43763|11.11753 49.43776|11.11761 ...          2  "
      ]
     },
     "execution_count": 63,
     "metadata": {},
     "output_type": "execute_result"
    }
   ],
   "source": [
    "train[train.roadId == 3177248677]"
   ]
  },
  {
   "cell_type": "code",
   "execution_count": 39,
   "metadata": {},
   "outputs": [
    {
     "data": {
      "text/html": [
       "<div>\n",
       "<style>\n",
       "    .dataframe thead tr:only-child th {\n",
       "        text-align: right;\n",
       "    }\n",
       "\n",
       "    .dataframe thead th {\n",
       "        text-align: left;\n",
       "    }\n",
       "\n",
       "    .dataframe tbody tr th {\n",
       "        vertical-align: top;\n",
       "    }\n",
       "</style>\n",
       "<table border=\"1\" class=\"dataframe\">\n",
       "  <thead>\n",
       "    <tr style=\"text-align: right;\">\n",
       "      <th></th>\n",
       "      <th>roadId</th>\n",
       "      <th>totalLaneLines</th>\n",
       "      <th>laneLineId</th>\n",
       "      <th>laneLineCoordinates</th>\n",
       "      <th>totalLinesOnLeft</th>\n",
       "      <th>totalLaneLinesOnRight</th>\n",
       "      <th>distFromLaneLineOnLeft</th>\n",
       "      <th>distFromLaneLineOnRight</th>\n",
       "      <th>laneLineLength</th>\n",
       "      <th>roadLength</th>\n",
       "      <th>noOfIntersectingLaneLinesLeft</th>\n",
       "      <th>noOfIntersectingLaneLinesRight</th>\n",
       "      <th>isIntersectingWithRoadGeometry</th>\n",
       "      <th>roadCategory</th>\n",
       "    </tr>\n",
       "  </thead>\n",
       "  <tbody>\n",
       "    <tr>\n",
       "      <th>0</th>\n",
       "      <td>291531296</td>\n",
       "      <td>5</td>\n",
       "      <td>X291531296</td>\n",
       "      <td>11.329899604343693 43.72956824243773|11.33004...</td>\n",
       "      <td>2</td>\n",
       "      <td>2</td>\n",
       "      <td>5.655398294</td>\n",
       "      <td>3.49899823</td>\n",
       "      <td>12.054597</td>\n",
       "      <td>12.056004</td>\n",
       "      <td>0</td>\n",
       "      <td>0</td>\n",
       "      <td>false</td>\n",
       "      <td>1</td>\n",
       "    </tr>\n",
       "    <tr>\n",
       "      <th>1</th>\n",
       "      <td>291531296</td>\n",
       "      <td>5</td>\n",
       "      <td>1291531296</td>\n",
       "      <td>11.329900151795446 43.729503478051974|11.3300...</td>\n",
       "      <td>4</td>\n",
       "      <td>0</td>\n",
       "      <td>3.685959755</td>\n",
       "      <td></td>\n",
       "      <td>12.060141</td>\n",
       "      <td>12.056004</td>\n",
       "      <td>0</td>\n",
       "      <td>0</td>\n",
       "      <td>false</td>\n",
       "      <td>1</td>\n",
       "    </tr>\n",
       "    <tr>\n",
       "      <th>2</th>\n",
       "      <td>291531296</td>\n",
       "      <td>5</td>\n",
       "      <td>2291531296</td>\n",
       "      <td>11.329899913660833 43.72953696742431|11.33004...</td>\n",
       "      <td>3</td>\n",
       "      <td>1</td>\n",
       "      <td>3.49899823</td>\n",
       "      <td>3.685959755</td>\n",
       "      <td>12.052468</td>\n",
       "      <td>12.056004</td>\n",
       "      <td>0</td>\n",
       "      <td>0</td>\n",
       "      <td>false</td>\n",
       "      <td>1</td>\n",
       "    </tr>\n",
       "    <tr>\n",
       "      <th>3</th>\n",
       "      <td>291531296</td>\n",
       "      <td>5</td>\n",
       "      <td>3291531296</td>\n",
       "      <td>11.329899175813209 43.72961906004278|11.33004...</td>\n",
       "      <td>1</td>\n",
       "      <td>3</td>\n",
       "      <td>3.481580911</td>\n",
       "      <td>5.655398294</td>\n",
       "      <td>12.046642</td>\n",
       "      <td>12.056004</td>\n",
       "      <td>0</td>\n",
       "      <td>0</td>\n",
       "      <td>false</td>\n",
       "      <td>1</td>\n",
       "    </tr>\n",
       "    <tr>\n",
       "      <th>4</th>\n",
       "      <td>291531296</td>\n",
       "      <td>5</td>\n",
       "      <td>4291531296</td>\n",
       "      <td>11.329899073264464 43.729650480155186|11.3300...</td>\n",
       "      <td>0</td>\n",
       "      <td>4</td>\n",
       "      <td></td>\n",
       "      <td>3.481580911</td>\n",
       "      <td>12.054345</td>\n",
       "      <td>12.056004</td>\n",
       "      <td>0</td>\n",
       "      <td>0</td>\n",
       "      <td>false</td>\n",
       "      <td>1</td>\n",
       "    </tr>\n",
       "  </tbody>\n",
       "</table>\n",
       "</div>"
      ],
      "text/plain": [
       "      roadId  totalLaneLines  laneLineId  \\\n",
       "0  291531296               5  X291531296   \n",
       "1  291531296               5  1291531296   \n",
       "2  291531296               5  2291531296   \n",
       "3  291531296               5  3291531296   \n",
       "4  291531296               5  4291531296   \n",
       "\n",
       "                                 laneLineCoordinates  totalLinesOnLeft  \\\n",
       "0   11.329899604343693 43.72956824243773|11.33004...                 2   \n",
       "1   11.329900151795446 43.729503478051974|11.3300...                 4   \n",
       "2   11.329899913660833 43.72953696742431|11.33004...                 3   \n",
       "3   11.329899175813209 43.72961906004278|11.33004...                 1   \n",
       "4   11.329899073264464 43.729650480155186|11.3300...                 0   \n",
       "\n",
       "   totalLaneLinesOnRight distFromLaneLineOnLeft distFromLaneLineOnRight  \\\n",
       "0                      2            5.655398294              3.49899823   \n",
       "1                      0            3.685959755                           \n",
       "2                      1             3.49899823             3.685959755   \n",
       "3                      3            3.481580911             5.655398294   \n",
       "4                      4                                    3.481580911   \n",
       "\n",
       "   laneLineLength  roadLength  noOfIntersectingLaneLinesLeft  \\\n",
       "0       12.054597   12.056004                              0   \n",
       "1       12.060141   12.056004                              0   \n",
       "2       12.052468   12.056004                              0   \n",
       "3       12.046642   12.056004                              0   \n",
       "4       12.054345   12.056004                              0   \n",
       "\n",
       "   noOfIntersectingLaneLinesRight isIntersectingWithRoadGeometry  roadCategory  \n",
       "0                               0                          false             1  \n",
       "1                               0                          false             1  \n",
       "2                               0                          false             1  \n",
       "3                               0                          false             1  \n",
       "4                               0                          false             1  "
      ]
     },
     "execution_count": 39,
     "metadata": {},
     "output_type": "execute_result"
    }
   ],
   "source": [
    "test.hea"
   ]
  },
  {
   "cell_type": "code",
   "execution_count": 64,
   "metadata": {},
   "outputs": [
    {
     "name": "stderr",
     "output_type": "stream",
     "text": [
      "/usr/local/lib/python2.7/dist-packages/ipykernel_launcher.py:2: SettingWithCopyWarning: \n",
      "A value is trying to be set on a copy of a slice from a DataFrame.\n",
      "Try using .loc[row_indexer,col_indexer] = value instead\n",
      "\n",
      "See the caveats in the documentation: http://pandas.pydata.org/pandas-docs/stable/indexing.html#indexing-view-versus-copy\n",
      "  \n"
     ]
    }
   ],
   "source": [
    "test_roadlines = test[[\"roadId\", \"totalLaneLines\"]]\n",
    "test_roadlines[\"noOfLanes\"] = test_roadlines[\"totalLaneLines\"] - 1\n",
    "test_roadlines = test_roadlines[[\"roadId\", \"totalLaneLines\"]].drop_duplicates()\n",
    "\n",
    "test_roadlines = test_roadlines.loc[test_roadlines.groupby(\"roadId\")[\"totalLaneLines\"].idxmax()]\n",
    "test_roadlines.columns = [\"roadId\", \"noOfLanes\"]\n",
    "\n",
    "test_roadlines.to_csv(\"total_minus_one.csv\", index = False)"
   ]
  },
  {
   "cell_type": "code",
   "execution_count": 57,
   "metadata": {},
   "outputs": [
    {
     "data": {
      "text/html": [
       "<div>\n",
       "<style>\n",
       "    .dataframe thead tr:only-child th {\n",
       "        text-align: right;\n",
       "    }\n",
       "\n",
       "    .dataframe thead th {\n",
       "        text-align: left;\n",
       "    }\n",
       "\n",
       "    .dataframe tbody tr th {\n",
       "        vertical-align: top;\n",
       "    }\n",
       "</style>\n",
       "<table border=\"1\" class=\"dataframe\">\n",
       "  <thead>\n",
       "    <tr style=\"text-align: right;\">\n",
       "      <th></th>\n",
       "      <th>roadId</th>\n",
       "      <th>roadCoordinates</th>\n",
       "      <th>noOfLanes</th>\n",
       "    </tr>\n",
       "  </thead>\n",
       "  <tbody>\n",
       "    <tr>\n",
       "      <th>0</th>\n",
       "      <td>6515927525</td>\n",
       "      <td>9.23293 48.99365|9.23295 48.99401|9.23298 48....</td>\n",
       "      <td>4</td>\n",
       "    </tr>\n",
       "    <tr>\n",
       "      <th>1</th>\n",
       "      <td>155088079</td>\n",
       "      <td>11.11117 49.43418|11.11175 49.43436</td>\n",
       "      <td>3</td>\n",
       "    </tr>\n",
       "    <tr>\n",
       "      <th>2</th>\n",
       "      <td>5943976193</td>\n",
       "      <td>11.00016 49.46831|10.9994 49.46849</td>\n",
       "      <td>2</td>\n",
       "    </tr>\n",
       "    <tr>\n",
       "      <th>3</th>\n",
       "      <td>4646422329</td>\n",
       "      <td>12.4417 55.62205|12.44144 55.62233</td>\n",
       "      <td>3</td>\n",
       "    </tr>\n",
       "    <tr>\n",
       "      <th>4</th>\n",
       "      <td>3059986881</td>\n",
       "      <td>11.10363 49.47368|11.10367 49.47377|11.10374 ...</td>\n",
       "      <td>3</td>\n",
       "    </tr>\n",
       "  </tbody>\n",
       "</table>\n",
       "</div>"
      ],
      "text/plain": [
       "       roadId                                    roadCoordinates  noOfLanes\n",
       "0  6515927525   9.23293 48.99365|9.23295 48.99401|9.23298 48....          4\n",
       "1   155088079                11.11117 49.43418|11.11175 49.43436          3\n",
       "2  5943976193                 11.00016 49.46831|10.9994 49.46849          2\n",
       "3  4646422329                 12.4417 55.62205|12.44144 55.62233          3\n",
       "4  3059986881   11.10363 49.47368|11.10367 49.47377|11.10374 ...          3"
      ]
     },
     "execution_count": 57,
     "metadata": {},
     "output_type": "execute_result"
    }
   ],
   "source": [
    "labels.head()"
   ]
  },
  {
   "cell_type": "code",
   "execution_count": 58,
   "metadata": {
    "collapsed": true
   },
   "outputs": [],
   "source": [
    "# train = pd.merge(train, labels, on=\"roadId\", how=\"inner\")"
   ]
  },
  {
   "cell_type": "code",
   "execution_count": 286,
   "metadata": {},
   "outputs": [],
   "source": [
    "def get_features(row, train_test):\n",
    "    \n",
    "    if train_test == 1:\n",
    "        road_lanes = train[train.roadId == row.roadId]\n",
    "    else:\n",
    "        road_lanes = test[test.roadId == row.roadId]\n",
    "        \n",
    "    lanes_identified = len(road_lanes[\"laneLineId\"].drop_duplicates())\n",
    "    compression_factor = lanes_identified/len(road_lanes)\n",
    "    \n",
    "    mean_lane_length = np.mean(road_lanes[\"laneLineLength\"])\n",
    "    \n",
    "    lane_road_ratio = mean_lane_length/road_lanes.iloc[0][\"roadLength\"]\n",
    "    \n",
    "    intersecting_count = np.sum([1 if i.strip() == \"true\" else 0 for i in road_lanes[\"isIntersectingWithRoadGeometry\"]])\n",
    "\n",
    "    road_category = road_lanes.iloc[0][\"roadCategory\"] > 1\n",
    "    \n",
    "    noOfIntersectingLaneLinesLeft = np.sum(road_lanes.noOfIntersectingLaneLinesLeft)\n",
    "    noOfIntersectingLaneLinesRight = np.sum(road_lanes.noOfIntersectingLaneLinesRight)\n",
    "                                           \n",
    "    return pd.Series({\"roadId\": row.roadId,\n",
    "                      \"lanes_identified\": lanes_identified,\n",
    "                      \"compression_factor\": compression_factor,\n",
    "                      \"mean_lane_length\": mean_lane_length,\n",
    "                      \"lane_road_ratio\": lane_road_ratio,\n",
    "                      \"intersecting_count\": intersecting_count,\n",
    "                      \"noOfIntersectingLaneLinesLeft\": noOfIntersectingLaneLinesLeft,\n",
    "                      \"noOfIntersectingLaneLinesRight\": noOfIntersectingLaneLinesRight,\n",
    "                      \"road_category\": road_category\n",
    "                     })"
   ]
  },
  {
   "cell_type": "code",
   "execution_count": 294,
   "metadata": {},
   "outputs": [
    {
     "name": "stderr",
     "output_type": "stream",
     "text": [
      "4826it [00:14, 323.49it/s]           \n",
      "401it [00:01, 286.18it/s]            \n"
     ]
    }
   ],
   "source": [
    "unique_road_id = pd.DataFrame(np.unique(train.roadId))\n",
    "unique_road_id.columns = [\"roadId\"]\n",
    "train_feats = unique_road_id.progress_apply(get_features, axis = 1, train_test = 1)\n",
    "\n",
    "unique_road_id = pd.DataFrame(np.unique(test.roadId))\n",
    "unique_road_id.columns = [\"roadId\"]\n",
    "test_feats = unique_road_id.progress_apply(get_features, axis = 1, train_test = 0)"
   ]
  },
  {
   "cell_type": "code",
   "execution_count": 295,
   "metadata": {},
   "outputs": [],
   "source": [
    "def dummify_road_category(df):\n",
    "    dummies = pd.get_dummies(df.road_category)\n",
    "        \n",
    "    dummies.columns = [\"category_one\", \"category_gt_one\"]\n",
    "    \n",
    "    df = pd.concat([df, dummies], axis = 1)\n",
    "    df = df.drop(\"road_category\", axis = 1)\n",
    "    \n",
    "    return df\n",
    "\n",
    "train_feats = dummify_road_category(train_feats)\n",
    "test_feats = dummify_road_category(test_feats)"
   ]
  },
  {
   "cell_type": "code",
   "execution_count": 296,
   "metadata": {},
   "outputs": [],
   "source": [
    "train_feats = pd.merge(train_feats, labels[[\"roadId\", \"noOfLanes\"]], on=\"roadId\", how=\"inner\")\n",
    "train_feats[\"noOfLanes\"] = train_feats[\"noOfLanes\"] - 1"
   ]
  },
  {
   "cell_type": "code",
   "execution_count": 303,
   "metadata": {
    "collapsed": true
   },
   "outputs": [],
   "source": [
    "def run_xgb(train, label_train, valid = None, label_valid = None):\n",
    "\n",
    "    # Set our parameters for xgboost\n",
    "    params = {}\n",
    "    params['objective'] = 'multi:softmax'\n",
    "    params['num_class'] = 6\n",
    "    params['eta'] = 0.005\n",
    "    params['max_depth'] = 6\n",
    "    params['silent'] = 1\n",
    "    params['min_child_weight'] = 0\n",
    "    params['subsample'] = 0.8\n",
    "    params['colsample_bytree'] = 0.8\n",
    "    params['nthread'] = 13\n",
    "\n",
    "    d_train = xgb.DMatrix(train, label=label_train)\n",
    "    \n",
    "    if valid is not None:\n",
    "        d_valid = xgb.DMatrix(valid, label=label_valid)\n",
    "        watchlist = [(d_train, 'train'), (d_valid, 'validation')]\n",
    "    else:\n",
    "        watchlist = [(d_train, 'train')]\n",
    "        \n",
    "    bst = xgb.train(params, d_train, 500, watchlist, early_stopping_rounds=50, verbose_eval=50)\n",
    "    \n",
    "    return bst"
   ]
  },
  {
   "cell_type": "code",
   "execution_count": 298,
   "metadata": {
    "collapsed": true
   },
   "outputs": [],
   "source": [
    "no_of_lanes = train_feats[\"noOfLanes\"]\n",
    "train_feats.drop(\"noOfLanes\", axis = 1, inplace = True)\n",
    "train_feats.drop(\"roadId\", axis = 1, inplace = True)\n",
    "\n",
    "roadIds = test_feats[\"roadId\"]\n",
    "test_feats.drop(\"roadId\", axis = 1, inplace = True)"
   ]
  },
  {
   "cell_type": "code",
   "execution_count": 299,
   "metadata": {},
   "outputs": [],
   "source": [
    "x_train, x_valid, label_train, label_valid = train_test_split(train_feats, no_of_lanes, test_size=0.2, random_state=4242, stratify = no_of_lanes)"
   ]
  },
  {
   "cell_type": "code",
   "execution_count": 304,
   "metadata": {},
   "outputs": [
    {
     "name": "stdout",
     "output_type": "stream",
     "text": [
      "[0]\ttrain-merror:0.441658\n",
      "Will train until train-merror hasn't improved in 50 rounds.\n",
      "[50]\ttrain-merror:0.372435\n",
      "[100]\ttrain-merror:0.364974\n",
      "[150]\ttrain-merror:0.357306\n",
      "[200]\ttrain-merror:0.347565\n",
      "[250]\ttrain-merror:0.340311\n",
      "[300]\ttrain-merror:0.335959\n",
      "[350]\ttrain-merror:0.331606\n",
      "[400]\ttrain-merror:0.329119\n",
      "[450]\ttrain-merror:0.325389\n",
      "                          feature    fscore\n",
      "0                 category_gt_one  0.008624\n",
      "1                    category_one  0.033948\n",
      "2  noOfIntersectingLaneLinesRight  0.041455\n",
      "3   noOfIntersectingLaneLinesLeft  0.063987\n",
      "4              compression_factor  0.085216\n",
      "5              intersecting_count  0.089507\n",
      "6                lanes_identified  0.148624\n",
      "7                mean_lane_length  0.258430\n",
      "8                 lane_road_ratio  0.270208\n"
     ]
    }
   ],
   "source": [
    "def xgb_explore():\n",
    "    \n",
    "    bst = run_xgb(train_feats, no_of_lanes)\n",
    "#     bst = run_xgb(x_train, label_train, x_valid, label_valid)\n",
    "\n",
    "    import operator\n",
    "    importance = bst.get_fscore()\n",
    "    importance = sorted(importance.items(), key=operator.itemgetter(1))\n",
    "\n",
    "    df_imp = pd.DataFrame(importance, columns=['feature', 'fscore'])\n",
    "    df_imp['fscore'] = df_imp['fscore']/df_imp['fscore'].sum()\n",
    "\n",
    "    print df_imp\n",
    "    return bst\n",
    "\n",
    "bst = xgb_explore()"
   ]
  },
  {
   "cell_type": "code",
   "execution_count": 307,
   "metadata": {},
   "outputs": [],
   "source": [
    "def pred_n_sub(test_feats):\n",
    "    \n",
    "    d_test = xgb.DMatrix(test_feats)\n",
    "    p_test = bst.predict(d_test)\n",
    "\n",
    "    sub = pd.DataFrame()\n",
    "    sub['roadId'] = roadIds\n",
    "    sub['noOfLanes'] = p_test + 1\n",
    "    \n",
    "    sub['noOfLanes'] = sub['noOfLanes'].astype(int)\n",
    "    \n",
    "    sub.to_csv(\"./xgb_2.csv\", index=False)\n",
    "    \n",
    "pred_n_sub(test_feats)"
   ]
  },
  {
   "cell_type": "code",
   "execution_count": 293,
   "metadata": {},
   "outputs": [
    {
     "data": {
      "text/plain": [
       "3    1744\n",
       "2    1477\n",
       "4     774\n",
       "1     656\n",
       "5     166\n",
       "6       8\n",
       "Name: noOfLanes, dtype: int64"
      ]
     },
     "execution_count": 293,
     "metadata": {},
     "output_type": "execute_result"
    }
   ],
   "source": [
    "no_of_lanes.value_counts()\n",
    "# plt.show()"
   ]
  },
  {
   "cell_type": "code",
   "execution_count": 259,
   "metadata": {},
   "outputs": [
    {
     "data": {
      "image/png": "[encoded data removed]",
      "text/plain": [
       "<matplotlib.figure.Figure at 0x7fed04f3fa50>"
      ]
     },
     "metadata": {},
     "output_type": "display_data"
    }
   ],
   "source": [
    "corr = train_feats.corr()\n",
    "sns.heatmap(corr, \n",
    "            xticklabels=corr.columns.values,\n",
    "            yticklabels=corr.columns.values)\n",
    "\n",
    "plt.show()"
   ]
  }
 ],
 "metadata": {
  "kernelspec": {
   "display_name": "Python 2",
   "language": "python",
   "name": "python2"
  },
  "language_info": {
   "codemirror_mode": {
    "name": "ipython",
    "version": 2
   },
   "file_extension": ".py",
   "mimetype": "text/x-python",
   "name": "python",
   "nbconvert_exporter": "python",
   "pygments_lexer": "ipython2",
   "version": "2.7.12"
  }
 },
 "nbformat": 4,
 "nbformat_minor": 1
}
