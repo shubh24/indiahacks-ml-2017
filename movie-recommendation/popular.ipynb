{
 "cells": [
  {
   "cell_type": "code",
   "execution_count": 1,
   "metadata": {},
   "outputs": [
    {
     "name": "stderr",
     "output_type": "stream",
     "text": [
      "0it [00:00, ?it/s]\n",
      "TqdmDeprecationWarning: Please use `tqdm.pandas(...)` instead of `tqdm_pandas(tqdm(...))`.\n"
     ]
    }
   ],
   "source": [
    "import pandas as pd\n",
    "from sklearn.metrics.pairwise import cosine_similarity\n",
    "import numpy as np\n",
    "from scipy.spatial.distance import cosine\n",
    "from tqdm import tqdm, tqdm_pandas\n",
    "tqdm_pandas(tqdm())\n",
    "import operator"
   ]
  },
  {
   "cell_type": "code",
   "execution_count": 2,
   "metadata": {
    "collapsed": true
   },
   "outputs": [],
   "source": [
    "with open(\"train.csv\", \"r\") as f:\n",
    "    train_text = f.read()\n",
    "    \n",
    "rows = train_text.split(\"\\n\")\n",
    "rows_list = []\n",
    "\n",
    "for i in rows:\n",
    "    \n",
    "    data = i.split(\"|\")\n",
    "    \n",
    "    if len(data) == 3:\n",
    "        user_id = data[0]\n",
    "        movie_name = data[1]\n",
    "        watch_time = float(data[2])\n",
    "    \n",
    "        rows_list.append([user_id, movie_name, watch_time])\n",
    "        \n",
    "train = pd.DataFrame(rows_list)\n",
    "train.columns = [\"user_id\", \"title\", \"watch_time\"]\n",
    "\n",
    "test = pd.read_csv(\"test.csv\")\n",
    "\n",
    "with open(\"movies_meta.csv\", \"r\") as f:\n",
    "    movies_meta = f.read()\n",
    "\n",
    "movies = movies_meta.split(\"\\n\")[1:]\n",
    "\n",
    "movies_df = pd.DataFrame()\n",
    "\n",
    "movies_list = []\n",
    "\n",
    "for movie in movies:\n",
    "    \n",
    "    data = movie.split(\"|\")\n",
    "\n",
    "    if len(data) == 4:\n",
    "\n",
    "        movie_name = data[0]\n",
    "        genre = data[1]\n",
    "\n",
    "        langs = data[2].split(\",\")\n",
    "\n",
    "        movie_length = float(data[3])\n",
    "\n",
    "        for lang in langs:\n",
    "            movies_list.append([movie_name, genre, lang, movie_length])\n",
    "\n",
    "movies_df = pd.DataFrame(movies_list)\n",
    "movies_df.columns = [\"title\", \"movie_genre\", \"movie_language\", \"movie_length\"]    "
   ]
  },
  {
   "cell_type": "code",
   "execution_count": 6,
   "metadata": {},
   "outputs": [
    {
     "name": "stderr",
     "output_type": "stream",
     "text": [
      "2000000it [04:12, 7930.77it/s] \n"
     ]
    },
    {
     "data": {
      "text/plain": [
       "0          None\n",
       "1          None\n",
       "2          None\n",
       "3          None\n",
       "4          None\n",
       "5          None\n",
       "6          None\n",
       "7          None\n",
       "8          None\n",
       "9          None\n",
       "10         None\n",
       "11         None\n",
       "12         None\n",
       "13         None\n",
       "14         None\n",
       "15         None\n",
       "16         None\n",
       "17         None\n",
       "18         None\n",
       "19         None\n",
       "20         None\n",
       "21         None\n",
       "22         None\n",
       "23         None\n",
       "24         None\n",
       "25         None\n",
       "26         None\n",
       "27         None\n",
       "28         None\n",
       "29         None\n",
       "           ... \n",
       "1999970    None\n",
       "1999971    None\n",
       "1999972    None\n",
       "1999973    None\n",
       "1999974    None\n",
       "1999975    None\n",
       "1999976    None\n",
       "1999977    None\n",
       "1999978    None\n",
       "1999979    None\n",
       "1999980    None\n",
       "1999981    None\n",
       "1999982    None\n",
       "1999983    None\n",
       "1999984    None\n",
       "1999985    None\n",
       "1999986    None\n",
       "1999987    None\n",
       "1999988    None\n",
       "1999989    None\n",
       "1999990    None\n",
       "1999991    None\n",
       "1999992    None\n",
       "1999993    None\n",
       "1999994    None\n",
       "1999995    None\n",
       "1999996    None\n",
       "1999997    None\n",
       "1999998    None\n",
       "1999999    None\n",
       "Length: 2000000, dtype: object"
      ]
     },
     "execution_count": 6,
     "metadata": {},
     "output_type": "execute_result"
    }
   ],
   "source": [
    "title_count = {}\n",
    "\n",
    "def get_movie_counts(row):\n",
    "        \n",
    "    if row.title not in title_count:\n",
    "        title_count[row.title] = 1\n",
    "    else:\n",
    "        title_count[row.title] += 1\n",
    "        \n",
    "train.progress_apply(get_movie_counts, axis = 1)"
   ]
  },
  {
   "cell_type": "code",
   "execution_count": 9,
   "metadata": {},
   "outputs": [],
   "source": [
    "popular_movies = [i[0] for i in sorted(title_count.items(), key=operator.itemgetter(1), reverse=True)[:20]]"
   ]
  },
  {
   "cell_type": "code",
   "execution_count": 11,
   "metadata": {},
   "outputs": [
    {
     "name": "stderr",
     "output_type": "stream",
     "text": [
      "100%|██████████| 6285/6285 [00:00<00:00, 35196.84it/s]\n"
     ]
    },
    {
     "data": {
      "text/plain": [
       "0       None\n",
       "1       None\n",
       "2       None\n",
       "3       None\n",
       "4       None\n",
       "5       None\n",
       "6       None\n",
       "7       None\n",
       "8       None\n",
       "9       None\n",
       "10      None\n",
       "11      None\n",
       "12      None\n",
       "13      None\n",
       "14      None\n",
       "15      None\n",
       "16      None\n",
       "17      None\n",
       "18      None\n",
       "19      None\n",
       "20      None\n",
       "21      None\n",
       "22      None\n",
       "23      None\n",
       "24      None\n",
       "25      None\n",
       "26      None\n",
       "27      None\n",
       "28      None\n",
       "29      None\n",
       "        ... \n",
       "6255    None\n",
       "6256    None\n",
       "6257    None\n",
       "6258    None\n",
       "6259    None\n",
       "6260    None\n",
       "6261    None\n",
       "6262    None\n",
       "6263    None\n",
       "6264    None\n",
       "6265    None\n",
       "6266    None\n",
       "6267    None\n",
       "6268    None\n",
       "6269    None\n",
       "6270    None\n",
       "6271    None\n",
       "6272    None\n",
       "6273    None\n",
       "6274    None\n",
       "6275    None\n",
       "6276    None\n",
       "6277    None\n",
       "6278    None\n",
       "6279    None\n",
       "6280    None\n",
       "6281    None\n",
       "6282    None\n",
       "6283    None\n",
       "6284    None\n",
       "Length: 6285, dtype: object"
      ]
     },
     "execution_count": 11,
     "metadata": {},
     "output_type": "execute_result"
    }
   ],
   "source": [
    "res = {}\n",
    "\n",
    "def get_similar_items(row):\n",
    "    \n",
    "    res[str(row.user_id)] = popular_movies\n",
    "\n",
    "test.progress_apply(get_similar_items, axis = 1)"
   ]
  },
  {
   "cell_type": "code",
   "execution_count": 13,
   "metadata": {},
   "outputs": [],
   "source": [
    "import json\n",
    "with open('res_popular.json', 'w') as fp:\n",
    "    json.dump(res, fp)"
   ]
  }
 ],
 "metadata": {
  "kernelspec": {
   "display_name": "Python 2",
   "language": "python",
   "name": "python2"
  },
  "language_info": {
   "codemirror_mode": {
    "name": "ipython",
    "version": 2
   },
   "file_extension": ".py",
   "mimetype": "text/x-python",
   "name": "python",
   "nbconvert_exporter": "python",
   "pygments_lexer": "ipython2",
   "version": "2.7.10"
  }
 },
 "nbformat": 4,
 "nbformat_minor": 2
}
