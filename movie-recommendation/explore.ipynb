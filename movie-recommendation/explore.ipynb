{
 "cells": [
  {
   "cell_type": "code",
   "execution_count": 1,
   "metadata": {},
   "outputs": [
    {
     "name": "stderr",
     "output_type": "stream",
     "text": [
      "0it [00:00, ?it/s]\n",
      "TqdmDeprecationWarning: Please use `tqdm.pandas(...)` instead of `tqdm_pandas(tqdm(...))`.\n"
     ]
    }
   ],
   "source": [
    "import pandas as pd\n",
    "from sklearn.metrics.pairwise import cosine_similarity\n",
    "import numpy as np\n",
    "from scipy.spatial.distance import cosine\n",
    "from tqdm import tqdm, tqdm_pandas\n",
    "tqdm_pandas(tqdm())\n",
    "import operator"
   ]
  },
  {
   "cell_type": "code",
   "execution_count": 2,
   "metadata": {
    "collapsed": true
   },
   "outputs": [],
   "source": [
    "with open(\"train.csv\", \"r\") as f:\n",
    "    train_text = f.read()\n",
    "    \n",
    "rows = train_text.split(\"\\n\")\n",
    "rows_list = []\n",
    "\n",
    "for i in rows:\n",
    "    \n",
    "    data = i.split(\"|\")\n",
    "    \n",
    "    if len(data) == 3:\n",
    "        user_id = data[0]\n",
    "        movie_name = data[1]\n",
    "        watch_time = float(data[2])\n",
    "    \n",
    "        rows_list.append([user_id, movie_name, watch_time])\n",
    "        \n",
    "train = pd.DataFrame(rows_list)\n",
    "train.columns = [\"user_id\", \"title\", \"watch_time\"]"
   ]
  },
  {
   "cell_type": "code",
   "execution_count": 3,
   "metadata": {
    "collapsed": true
   },
   "outputs": [],
   "source": [
    "test = pd.read_csv(\"test.csv\")"
   ]
  },
  {
   "cell_type": "code",
   "execution_count": 4,
   "metadata": {
    "collapsed": true
   },
   "outputs": [],
   "source": [
    "with open(\"movies_meta.csv\", \"r\") as f:\n",
    "    movies_meta = f.read()"
   ]
  },
  {
   "cell_type": "code",
   "execution_count": 5,
   "metadata": {
    "collapsed": true
   },
   "outputs": [],
   "source": [
    "movies = movies_meta.split(\"\\n\")[1:]"
   ]
  },
  {
   "cell_type": "code",
   "execution_count": 6,
   "metadata": {
    "collapsed": true
   },
   "outputs": [],
   "source": [
    "movies_df = pd.DataFrame()\n",
    "\n",
    "movies_list = []\n",
    "\n",
    "for movie in movies:\n",
    "    \n",
    "    data = movie.split(\"|\")\n",
    "\n",
    "    if len(data) == 4:\n",
    "\n",
    "        movie_name = data[0]\n",
    "        genre = data[1]\n",
    "\n",
    "        langs = data[2].split(\",\")\n",
    "\n",
    "        movie_length = float(data[3])\n",
    "\n",
    "        for lang in langs:\n",
    "            movies_list.append([movie_name, genre, lang, movie_length])\n",
    "\n",
    "movies_df = pd.DataFrame(movies_list)\n",
    "movies_df.columns = [\"title\", \"movie_genre\", \"movie_language\", \"movie_length\"]    "
   ]
  },
  {
   "cell_type": "code",
   "execution_count": 7,
   "metadata": {
    "collapsed": true
   },
   "outputs": [],
   "source": [
    "train_with_length = pd.merge(train, movies_df[[\"title\", \"movie_length\"]], on=\"title\")"
   ]
  },
  {
   "cell_type": "code",
   "execution_count": 8,
   "metadata": {
    "collapsed": true
   },
   "outputs": [],
   "source": [
    "train_with_length[\"ratio_watched\"] = train_with_length[\"watch_time\"]/train_with_length[\"movie_length\"]"
   ]
  },
  {
   "cell_type": "code",
   "execution_count": 9,
   "metadata": {
    "collapsed": true
   },
   "outputs": [],
   "source": [
    "train_with_length = train_with_length.drop_duplicates()"
   ]
  },
  {
   "cell_type": "code",
   "execution_count": 10,
   "metadata": {
    "collapsed": true
   },
   "outputs": [],
   "source": [
    "train_matrix = train_with_length[[\"user_id\", \"title\", \"ratio_watched\"]].pivot(index='user_id', columns='title')['ratio_watched']"
   ]
  },
  {
   "cell_type": "code",
   "execution_count": 11,
   "metadata": {
    "collapsed": true
   },
   "outputs": [],
   "source": [
    "def num_movies_watched(row):\n",
    "    return len(row) - row.isnull().sum()"
   ]
  },
  {
   "cell_type": "code",
   "execution_count": 12,
   "metadata": {},
   "outputs": [
    {
     "name": "stderr",
     "output_type": "stream",
     "text": [
      "876597it [04:20, 3371.15it/s]\n"
     ]
    }
   ],
   "source": [
    "num_movies_watched_df = train_matrix.progress_apply(num_movies_watched, axis = 1)"
   ]
  },
  {
   "cell_type": "code",
   "execution_count": 13,
   "metadata": {
    "collapsed": true
   },
   "outputs": [],
   "source": [
    "train_matrix[\"num_movies\"] = num_movies_watched_df"
   ]
  },
  {
   "cell_type": "code",
   "execution_count": 23,
   "metadata": {},
   "outputs": [
    {
     "name": "stderr",
     "output_type": "stream",
     "text": [
      "/Library/Python/2.7/site-packages/ipykernel_launcher.py:2: SettingWithCopyWarning: \n",
      "A value is trying to be set on a copy of a slice from a DataFrame\n",
      "\n",
      "See the caveats in the documentation: http://pandas.pydata.org/pandas-docs/stable/indexing.html#indexing-view-versus-copy\n",
      "  \n"
     ]
    }
   ],
   "source": [
    "sparse_train_matrix = train_matrix[train_matrix.num_movies > 20]\n",
    "sparse_train_matrix.drop(\"num_movies\", axis = 1, inplace=True)"
   ]
  },
  {
   "cell_type": "code",
   "execution_count": 24,
   "metadata": {
    "collapsed": true
   },
   "outputs": [],
   "source": [
    "train_matrix.drop(\"num_movies\", axis = 1, inplace=True)"
   ]
  },
  {
   "cell_type": "code",
   "execution_count": 12,
   "metadata": {
    "collapsed": true
   },
   "outputs": [
    {
     "ename": "SystemError",
     "evalue": "error return without exception set",
     "output_type": "error",
     "traceback": [
      "\u001b[0;31m---------------------------------------------------------------------------\u001b[0m",
      "\u001b[0;31mSystemError\u001b[0m                               Traceback (most recent call last)",
      "\u001b[0;32m<ipython-input-12-1c28bf42dbc6>\u001b[0m in \u001b[0;36m<module>\u001b[0;34m()\u001b[0m\n\u001b[0;32m----> 1\u001b[0;31m \u001b[0mtrain_matrix\u001b[0m\u001b[0;34m.\u001b[0m\u001b[0mto_pickle\u001b[0m\u001b[0;34m(\u001b[0m\u001b[0;34m\"train_matrix.pkl\"\u001b[0m\u001b[0;34m)\u001b[0m\u001b[0;34m\u001b[0m\u001b[0m\n\u001b[0m",
      "\u001b[0;32m/Library/Python/2.7/site-packages/pandas/core/generic.pyc\u001b[0m in \u001b[0;36mto_pickle\u001b[0;34m(self, path, compression)\u001b[0m\n\u001b[1;32m   1376\u001b[0m         \"\"\"\n\u001b[1;32m   1377\u001b[0m         \u001b[0;32mfrom\u001b[0m \u001b[0mpandas\u001b[0m\u001b[0;34m.\u001b[0m\u001b[0mio\u001b[0m\u001b[0;34m.\u001b[0m\u001b[0mpickle\u001b[0m \u001b[0;32mimport\u001b[0m \u001b[0mto_pickle\u001b[0m\u001b[0;34m\u001b[0m\u001b[0m\n\u001b[0;32m-> 1378\u001b[0;31m         \u001b[0;32mreturn\u001b[0m \u001b[0mto_pickle\u001b[0m\u001b[0;34m(\u001b[0m\u001b[0mself\u001b[0m\u001b[0;34m,\u001b[0m \u001b[0mpath\u001b[0m\u001b[0;34m,\u001b[0m \u001b[0mcompression\u001b[0m\u001b[0;34m=\u001b[0m\u001b[0mcompression\u001b[0m\u001b[0;34m)\u001b[0m\u001b[0;34m\u001b[0m\u001b[0m\n\u001b[0m\u001b[1;32m   1379\u001b[0m \u001b[0;34m\u001b[0m\u001b[0m\n\u001b[1;32m   1380\u001b[0m     \u001b[0;32mdef\u001b[0m \u001b[0mto_clipboard\u001b[0m\u001b[0;34m(\u001b[0m\u001b[0mself\u001b[0m\u001b[0;34m,\u001b[0m \u001b[0mexcel\u001b[0m\u001b[0;34m=\u001b[0m\u001b[0mNone\u001b[0m\u001b[0;34m,\u001b[0m \u001b[0msep\u001b[0m\u001b[0;34m=\u001b[0m\u001b[0mNone\u001b[0m\u001b[0;34m,\u001b[0m \u001b[0;34m**\u001b[0m\u001b[0mkwargs\u001b[0m\u001b[0;34m)\u001b[0m\u001b[0;34m:\u001b[0m\u001b[0;34m\u001b[0m\u001b[0m\n",
      "\u001b[0;32m/Library/Python/2.7/site-packages/pandas/io/pickle.pyc\u001b[0m in \u001b[0;36mto_pickle\u001b[0;34m(obj, path, compression)\u001b[0m\n\u001b[1;32m     27\u001b[0m                         is_text=False)\n\u001b[1;32m     28\u001b[0m     \u001b[0;32mtry\u001b[0m\u001b[0;34m:\u001b[0m\u001b[0;34m\u001b[0m\u001b[0m\n\u001b[0;32m---> 29\u001b[0;31m         \u001b[0mpkl\u001b[0m\u001b[0;34m.\u001b[0m\u001b[0mdump\u001b[0m\u001b[0;34m(\u001b[0m\u001b[0mobj\u001b[0m\u001b[0;34m,\u001b[0m \u001b[0mf\u001b[0m\u001b[0;34m,\u001b[0m \u001b[0mprotocol\u001b[0m\u001b[0;34m=\u001b[0m\u001b[0mpkl\u001b[0m\u001b[0;34m.\u001b[0m\u001b[0mHIGHEST_PROTOCOL\u001b[0m\u001b[0;34m)\u001b[0m\u001b[0;34m\u001b[0m\u001b[0m\n\u001b[0m\u001b[1;32m     30\u001b[0m     \u001b[0;32mfinally\u001b[0m\u001b[0;34m:\u001b[0m\u001b[0;34m\u001b[0m\u001b[0m\n\u001b[1;32m     31\u001b[0m         \u001b[0;32mfor\u001b[0m \u001b[0m_f\u001b[0m \u001b[0;32min\u001b[0m \u001b[0mfh\u001b[0m\u001b[0;34m:\u001b[0m\u001b[0;34m\u001b[0m\u001b[0m\n",
      "\u001b[0;31mSystemError\u001b[0m: error return without exception set"
     ]
    }
   ],
   "source": [
    "train_matrix.to_pickle(\"train_matrix.pkl\")"
   ]
  },
  {
   "cell_type": "code",
   "execution_count": 16,
   "metadata": {
    "collapsed": true
   },
   "outputs": [],
   "source": [
    "def get_cosine(i, j):\n",
    "    \n",
    "#     sub_df = pd.concat([sparse_train_matrix.iloc[:, i], sparse_train_matrix.iloc[:, j]], axis = 1)\n",
    "\n",
    "    return len(sparse_train_matrix[[i, j]].dropna(axis=0, how='any'))\n",
    "\n",
    "#     sub_df = sub_df.dropna(axis = 0, how = \"all\")\n",
    "#     sub_df = sub_df.fillna(0)\n",
    "#     return 1 - cosine(sub_df.iloc[:, 0], sub_df.iloc[:, 1])"
   ]
  },
  {
   "cell_type": "code",
   "execution_count": null,
   "metadata": {},
   "outputs": [
    {
     "name": "stderr",
     "output_type": "stream",
     "text": [
      "\n",
      "\n",
      "\n",
      "\n",
      "  0%|          | 0/6285 [00:00<?, ?it/s]\u001b[A\u001b[A\u001b[A\u001b[A"
     ]
    },
    {
     "name": "stdout",
     "output_type": "stream",
     "text": [
      "100146 ['ms dhoni: the untold story', 'nishabd']\n"
     ]
    },
    {
     "name": "stderr",
     "output_type": "stream",
     "text": [
      "\n",
      "\n",
      "\n",
      "\n",
      "  0%|          | 2/6285 [00:07<6:32:39,  3.75s/it]\u001b[A\u001b[A\u001b[A\u001b[A"
     ]
    },
    {
     "name": "stdout",
     "output_type": "stream",
     "text": [
      "100166 ['ms dhoni: the untold story']\n",
      "100245 ['bedroom partner', 'julie']\n"
     ]
    },
    {
     "name": "stderr",
     "output_type": "stream",
     "text": [
      "\n",
      "\n",
      "\n",
      "\n",
      "  0%|          | 4/6285 [00:15<6:38:01,  3.80s/it]\u001b[A\u001b[A\u001b[A\u001b[A"
     ]
    },
    {
     "name": "stdout",
     "output_type": "stream",
     "text": [
      "100248 ['janatha garage', 'khaidi no. 150', 's/o satyamurthy']\n"
     ]
    },
    {
     "name": "stderr",
     "output_type": "stream",
     "text": [
      "\n",
      "\n",
      "\n",
      "\n",
      "  0%|          | 5/6285 [00:25<10:10:57,  5.84s/it]\u001b[A\u001b[A\u001b[A\u001b[A"
     ]
    },
    {
     "name": "stdout",
     "output_type": "stream",
     "text": [
      "100259 ['baahubali - the beginning', 'janatha garage']\n"
     ]
    },
    {
     "name": "stderr",
     "output_type": "stream",
     "text": [
      "\n",
      "\n",
      "\n",
      "\n",
      "  0%|          | 6/6285 [00:29<8:50:34,  5.07s/it] \u001b[A\u001b[A\u001b[A\u001b[A"
     ]
    },
    {
     "name": "stdout",
     "output_type": "stream",
     "text": [
      "100265 ['baahubali - the beginning', 'dabangg 2', 'mask', 'shakti']\n"
     ]
    },
    {
     "name": "stderr",
     "output_type": "stream",
     "text": [
      "\n",
      "\n",
      "\n",
      "\n",
      "  0%|          | 7/6285 [00:38<11:18:02,  6.48s/it]\u001b[A\u001b[A\u001b[A\u001b[A"
     ]
    },
    {
     "name": "stdout",
     "output_type": "stream",
     "text": [
      "100273 ['aanchal', 'abcd', 'aradhana', 'samsaram arogyathinu hanikaram']\n"
     ]
    },
    {
     "name": "stderr",
     "output_type": "stream",
     "text": [
      "\n",
      "\n",
      "\n",
      "\n",
      "  0%|          | 8/6285 [00:51<14:33:16,  8.35s/it]\u001b[A\u001b[A\u001b[A\u001b[A"
     ]
    },
    {
     "name": "stdout",
     "output_type": "stream",
     "text": [
      "100310 ['gautamiputra satakarni', 's/o satyamurthy']\n"
     ]
    },
    {
     "name": "stderr",
     "output_type": "stream",
     "text": [
      "\n",
      "\n",
      "\n",
      "\n",
      "  0%|          | 9/6285 [00:54<11:52:58,  6.82s/it]\u001b[A\u001b[A\u001b[A\u001b[A"
     ]
    },
    {
     "name": "stdout",
     "output_type": "stream",
     "text": [
      "100450 ['bedroom partner', 'hate story 3', 'julie']\n"
     ]
    },
    {
     "name": "stderr",
     "output_type": "stream",
     "text": [
      "\n",
      "\n",
      "\n",
      "\n",
      "  0%|          | 10/6285 [00:58<10:00:40,  5.74s/it]\u001b[A\u001b[A\u001b[A\u001b[A"
     ]
    },
    {
     "name": "stdout",
     "output_type": "stream",
     "text": [
      "100578 ['premer kahini']\n"
     ]
    },
    {
     "name": "stderr",
     "output_type": "stream",
     "text": [
      "\n",
      "\n",
      "\n",
      "\n",
      "  0%|          | 11/6285 [01:01<8:41:15,  4.98s/it] \u001b[A\u001b[A\u001b[A\u001b[A"
     ]
    },
    {
     "name": "stdout",
     "output_type": "stream",
     "text": [
      "100615 ['bedroom partner']\n",
      "100737 ['2 states', 'bedroom partner', 'housefull 3', 'julie', 'prem ratan dhan payo']\n"
     ]
    },
    {
     "name": "stderr",
     "output_type": "stream",
     "text": [
      "\n",
      "\n",
      "\n",
      "\n",
      "  0%|          | 13/6285 [01:10<8:33:40,  4.91s/it]\u001b[A\u001b[A\u001b[A\u001b[A"
     ]
    },
    {
     "name": "stdout",
     "output_type": "stream",
     "text": [
      "100980 ['kabali']\n"
     ]
    },
    {
     "name": "stderr",
     "output_type": "stream",
     "text": [
      "\n",
      "\n",
      "\n",
      "\n",
      "  0%|          | 14/6285 [01:14<7:39:31,  4.40s/it]\u001b[A\u001b[A\u001b[A\u001b[A"
     ]
    },
    {
     "name": "stdout",
     "output_type": "stream",
     "text": [
      "10112 ['attharintiki daaredhi', 'jolly llb', 'ms dhoni: the untold story', 'neerja']\n"
     ]
    },
    {
     "name": "stderr",
     "output_type": "stream",
     "text": [
      "\n",
      "\n",
      "\n",
      "\n",
      "  0%|          | 15/6285 [01:23<10:18:31,  5.92s/it]\u001b[A\u001b[A\u001b[A\u001b[A"
     ]
    },
    {
     "name": "stdout",
     "output_type": "stream",
     "text": [
      "101241 ['2 countries', 'aamayum muyalum', 'action hero biju', 'adi kapyare kootamani', 'christian brothers', 'jamna pyari', 'jawan of vellimala', 'kammattipadam', 'loham', 'lollipop', 'mathai kuzhappakkaranalla', 'oru indian pranaya kadha', 'salalah mobiles', 'teja bhai & family']\n"
     ]
    },
    {
     "name": "stderr",
     "output_type": "stream",
     "text": [
      "\n",
      "\n",
      "\n",
      "\n",
      "  0%|          | 16/6285 [02:07<30:21:36, 17.43s/it]\u001b[A\u001b[A\u001b[A\u001b[A"
     ]
    },
    {
     "name": "stdout",
     "output_type": "stream",
     "text": [
      "101266 ['hate story 3']\n",
      "101447 ['jaggu dada', 'red - the dark side']\n"
     ]
    },
    {
     "name": "stderr",
     "output_type": "stream",
     "text": [
      "\n",
      "\n",
      "\n",
      "\n",
      "  0%|          | 18/6285 [02:14<22:55:36, 13.17s/it]\u001b[A\u001b[A\u001b[A\u001b[A"
     ]
    },
    {
     "name": "stdout",
     "output_type": "stream",
     "text": [
      "101703 ['jolly llb', 'sanam re']\n"
     ]
    },
    {
     "name": "stderr",
     "output_type": "stream",
     "text": [
      "\n",
      "\n",
      "\n",
      "\n",
      "  0%|          | 19/6285 [02:17<17:42:51, 10.18s/it]\u001b[A\u001b[A\u001b[A\u001b[A"
     ]
    },
    {
     "name": "stdout",
     "output_type": "stream",
     "text": [
      "101725 ['janatha garage', 'jeeva', 'maan karate', 'oppam', 'raaz: the mystery continues']\n"
     ]
    },
    {
     "name": "stderr",
     "output_type": "stream",
     "text": [
      "\n",
      "\n",
      "\n",
      "\n",
      "  0%|          | 20/6285 [02:30<19:00:17, 10.92s/it]\u001b[A\u001b[A\u001b[A\u001b[A"
     ]
    },
    {
     "name": "stdout",
     "output_type": "stream",
     "text": [
      "101788 ['jolly llb', 'tere bin laden 2']\n"
     ]
    },
    {
     "name": "stderr",
     "output_type": "stream",
     "text": [
      "\n",
      "\n",
      "\n",
      "\n",
      "  0%|          | 21/6285 [02:33<14:59:09,  8.61s/it]\u001b[A\u001b[A\u001b[A\u001b[A"
     ]
    },
    {
     "name": "stdout",
     "output_type": "stream",
     "text": [
      "101948 ['andaz apna apna', 'dil', 'ishq', 'ram lakhan', 'rascals', 'sholay']\n"
     ]
    },
    {
     "name": "stderr",
     "output_type": "stream",
     "text": [
      "\n",
      "\n",
      "\n",
      "\n",
      "  0%|          | 22/6285 [02:52<20:23:56, 11.73s/it]\u001b[A\u001b[A\u001b[A\u001b[A"
     ]
    },
    {
     "name": "stdout",
     "output_type": "stream",
     "text": [
      "101993 ['khaidi no. 150', 'merupu debba', 'pandavulu pandavulu thummeda']\n"
     ]
    },
    {
     "name": "stderr",
     "output_type": "stream",
     "text": [
      "\n",
      "\n",
      "\n",
      "\n",
      "  0%|          | 23/6285 [02:58<17:35:32, 10.11s/it]\u001b[A\u001b[A\u001b[A\u001b[A"
     ]
    },
    {
     "name": "stdout",
     "output_type": "stream",
     "text": [
      "102313 ['trivandrum lodge']\n"
     ]
    },
    {
     "name": "stderr",
     "output_type": "stream",
     "text": [
      "\n",
      "\n",
      "\n",
      "\n",
      "  0%|          | 24/6285 [03:01<13:59:39,  8.05s/it]\u001b[A\u001b[A\u001b[A\u001b[A"
     ]
    },
    {
     "name": "stdout",
     "output_type": "stream",
     "text": [
      "102315 ['2 states', '27 dresses', 'a walk in the clouds', 'akira', 'amanush', 'amanush 2', 'bangali babu english mam', 'beauty and the beast', 'borbaad', 'dishoom', 'dulhe raja', 'epic', 'golpo holeo shotti', 'goynar baksho', 'heroine', 'in her shoes', 'ki kore toke bolbo', 'kung fu panda 3', 'majnu', 'monsters inc.', 'parbona ami charte toke', 'prem amaar', 'shaadi ke side effects', 'shallow hal', 'shudhu tomari jonya', 'the devil wears prada', 'the family stone', 'the other woman', 'turbo', 'zootopia']\n"
     ]
    },
    {
     "name": "stderr",
     "output_type": "stream",
     "text": [
      "\n",
      "\n",
      "\n",
      "\n",
      "  0%|          | 25/6285 [04:33<57:23:09, 33.00s/it]\u001b[A\u001b[A\u001b[A\u001b[A"
     ]
    },
    {
     "name": "stdout",
     "output_type": "stream",
     "text": [
      "102612 ['action hero biju', 'bachelor party', 'janatha garage', 'oozham', 'run baby run']\n"
     ]
    },
    {
     "name": "stderr",
     "output_type": "stream",
     "text": [
      "\n",
      "\n",
      "\n",
      "\n",
      "  0%|          | 26/6285 [04:42<45:08:04, 25.96s/it]\u001b[A\u001b[A\u001b[A\u001b[A"
     ]
    },
    {
     "name": "stdout",
     "output_type": "stream",
     "text": [
      "102651 ['akira', 'daddy cool', 'exists', 'finding fanny', 'jaane bhi do yaaro', 'ms dhoni: the untold story', 'namastey london', 'yaariyan']\n"
     ]
    },
    {
     "name": "stderr",
     "output_type": "stream",
     "text": [
      "\n",
      "\n",
      "\n",
      "\n",
      "  0%|          | 27/6285 [05:01<41:24:27, 23.82s/it]\u001b[A\u001b[A\u001b[A\u001b[A"
     ]
    },
    {
     "name": "stdout",
     "output_type": "stream",
     "text": [
      "102686 ['ms dhoni: the untold story']\n",
      "102768 ['deewanapan', 'dishoom', 'hate story 3', 'rehna hai tere dil main', 'zindagi na milegi dobara']\n"
     ]
    },
    {
     "name": "stderr",
     "output_type": "stream",
     "text": [
      "\n",
      "\n",
      "\n",
      "\n",
      "  0%|          | 29/6285 [05:10<31:26:31, 18.09s/it]\u001b[A\u001b[A\u001b[A\u001b[A"
     ]
    },
    {
     "name": "stdout",
     "output_type": "stream",
     "text": [
      "102804 ['2 states', 'dishoom', 'neerja']\n",
      "102860 ['balwaan', 'hum saath saath hain', 'jeet', 'ms dhoni: the untold story', 'raaz: the mystery continues', 'sholay', 'vivah']\n"
     ]
    },
    {
     "name": "stderr",
     "output_type": "stream",
     "text": [
      "\n",
      "\n",
      "\n",
      "\n",
      "  0%|          | 31/6285 [05:23<25:17:31, 14.56s/it]\u001b[A\u001b[A\u001b[A\u001b[A"
     ]
    },
    {
     "name": "stdout",
     "output_type": "stream",
     "text": [
      "10296 ['chhello divas', 'ms dhoni: the untold story']\n"
     ]
    },
    {
     "name": "stderr",
     "output_type": "stream",
     "text": [
      "\n",
      "\n",
      "\n",
      "\n",
      "  1%|          | 32/6285 [05:26<19:21:54, 11.15s/it]\u001b[A\u001b[A\u001b[A\u001b[A"
     ]
    },
    {
     "name": "stdout",
     "output_type": "stream",
     "text": [
      "103020 ['2 states', 'akira', 'andaz apna apna', 'aquamarine', 'baaghi', 'baby', 'beauty and the beast', 'borat: cultural learnings of america for make benefit glorious nation of kazakhstan', 'captain america: the first avenger', 'cheaper by the dozen', 'cheaper by the dozen 2', 'deadpool', 'escape plan', 'fantastic four', 'fantastic four: rise of the silver surfer', 'garfield: a tail of two kitties', 'garfield: the movie', 'golmaal 3', 'hate story 3', 'heroine', 'housefull 2', 'hunterrr', 'iron man 2', 'iron man 3', 'jolly llb', 'kingsman: the secret service', 'main tera hero', \"marvel's the avengers\", 'monsters inc.', 'ms dhoni: the untold story', 'parental guidance', 'ratatouille', 'rowdy rathore', 'shaadi no.1', 'singh is kinng', 'singham returns', 'tere bin laden 2', 'the a-team', 'the day after tomorrow', 'the good dinosaur', 'the sitter', 'the watch', \"there's something about mary\", 'thor', 'tooth fairy']\n"
     ]
    },
    {
     "name": "stderr",
     "output_type": "stream",
     "text": [
      "\n",
      "\n",
      "\n",
      "\n",
      "  1%|          | 33/6285 [07:16<70:43:03, 40.72s/it]\u001b[A\u001b[A\u001b[A\u001b[A"
     ]
    },
    {
     "name": "stdout",
     "output_type": "stream",
     "text": [
      "103073 ['dil kya kare', 'drishyam', 'makkhi', 'my friend ganesha 3', 'prem ratan dhan payo', 'rishtey', 'sholay']\n"
     ]
    },
    {
     "name": "stderr",
     "output_type": "stream",
     "text": [
      "\n",
      "\n",
      "\n",
      "\n",
      "  1%|          | 34/6285 [07:32<57:43:25, 33.24s/it]\u001b[A\u001b[A\u001b[A\u001b[A"
     ]
    },
    {
     "name": "stdout",
     "output_type": "stream",
     "text": [
      "103088 ['bhagam bhag', 'chhello divas']\n"
     ]
    },
    {
     "name": "stderr",
     "output_type": "stream",
     "text": [
      "\n",
      "\n",
      "\n",
      "\n",
      "  1%|          | 35/6285 [07:35<42:03:53, 24.23s/it]\u001b[A\u001b[A\u001b[A\u001b[A"
     ]
    },
    {
     "name": "stdout",
     "output_type": "stream",
     "text": [
      "103155 ['dredd', 'manikya']\n"
     ]
    },
    {
     "name": "stderr",
     "output_type": "stream",
     "text": [
      "\n",
      "\n",
      "\n",
      "\n",
      "  1%|          | 36/6285 [07:41<32:45:30, 18.87s/it]\u001b[A\u001b[A\u001b[A\u001b[A"
     ]
    },
    {
     "name": "stdout",
     "output_type": "stream",
     "text": [
      "103191 ['dishoom', 'janatha garage']\n",
      "1032 ['baby', 'ms dhoni: the untold story']\n",
      "103233 ['guru', 'housefull 3']\n"
     ]
    },
    {
     "name": "stderr",
     "output_type": "stream",
     "text": [
      "\n",
      "\n",
      "\n",
      "\n",
      "  1%|          | 39/6285 [07:45<23:28:51, 13.53s/it]\u001b[A\u001b[A\u001b[A\u001b[A"
     ]
    },
    {
     "name": "stdout",
     "output_type": "stream",
     "text": [
      "103365 ['dishoom', 'housefull 3', 'ms dhoni: the untold story']\n",
      "103474 ['bhaag milkha bhaag', 'dishoom', 'golmaal 3', 'housefull 3']\n"
     ]
    },
    {
     "name": "stderr",
     "output_type": "stream",
     "text": [
      "\n",
      "\n",
      "\n",
      "\n",
      "  1%|          | 41/6285 [07:48<17:16:09,  9.96s/it]\u001b[A\u001b[A\u001b[A\u001b[A"
     ]
    },
    {
     "name": "stdout",
     "output_type": "stream",
     "text": [
      "104090 ['ms dhoni: the untold story']\n",
      "104201 ['rascals']\n",
      "104212 ['janatha garage', 'khaidi no. 150', 'ms dhoni: the untold story', 'seethamma vakitlo sirimalle chettu']\n"
     ]
    },
    {
     "name": "stderr",
     "output_type": "stream",
     "text": [
      "\n",
      "\n",
      "\n",
      "\n",
      "  1%|          | 44/6285 [07:51<12:38:47,  7.29s/it]\u001b[A\u001b[A\u001b[A\u001b[A"
     ]
    },
    {
     "name": "stdout",
     "output_type": "stream",
     "text": [
      "104832 ['jolly llb', 'ustad hotel']\n"
     ]
    },
    {
     "name": "stderr",
     "output_type": "stream",
     "text": [
      "\n",
      "\n",
      "\n",
      "\n",
      "  1%|          | 45/6285 [07:54<10:30:03,  6.06s/it]\u001b[A\u001b[A\u001b[A\u001b[A"
     ]
    },
    {
     "name": "stdout",
     "output_type": "stream",
     "text": [
      "104910 ['ilakkangal', 'malootty', 'marubhoomiyile aana', 'nagamadathu thampuratti', 'oppam', 'pathemaari', 'swarna kaduva']\n"
     ]
    },
    {
     "name": "stderr",
     "output_type": "stream",
     "text": [
      "\n",
      "\n",
      "\n",
      "\n",
      "  1%|          | 46/6285 [08:13<17:11:29,  9.92s/it]\u001b[A\u001b[A\u001b[A\u001b[A"
     ]
    },
    {
     "name": "stdout",
     "output_type": "stream",
     "text": [
      "104918 ['jai ho', 'julie']\n"
     ]
    },
    {
     "name": "stderr",
     "output_type": "stream",
     "text": [
      "\n",
      "\n",
      "\n",
      "\n",
      "  1%|          | 47/6285 [08:16<13:42:59,  7.92s/it]\u001b[A\u001b[A\u001b[A\u001b[A"
     ]
    },
    {
     "name": "stdout",
     "output_type": "stream",
     "text": [
      "104924 ['beauty and the beast', 'tamasha', 'the a-team', 'zootopia']\n"
     ]
    },
    {
     "name": "stderr",
     "output_type": "stream",
     "text": [
      "\n",
      "\n",
      "\n",
      "\n",
      "  1%|          | 48/6285 [08:20<11:16:48,  6.51s/it]\u001b[A\u001b[A\u001b[A\u001b[A"
     ]
    },
    {
     "name": "stdout",
     "output_type": "stream",
     "text": [
      "104991 ['adi kapyare kootamani', 'badrinath', 'bang bang', 'deepangal sakshi', 'dishoom', 'janatha garage', 'kunjiramayanam', 'marubhoomiyile aana', 'oozham', 'oppam', 'pulimurugan', 'thuppakki', 'vellimoonga']\n"
     ]
    },
    {
     "name": "stderr",
     "output_type": "stream",
     "text": [
      "\n",
      "\n",
      "\n",
      "\n",
      "  1%|          | 49/6285 [08:42<19:27:15, 11.23s/it]\u001b[A\u001b[A\u001b[A\u001b[A"
     ]
    },
    {
     "name": "stdout",
     "output_type": "stream",
     "text": [
      "105115 ['jolly llb 2', 'ms dhoni: the untold story']\n"
     ]
    },
    {
     "name": "stderr",
     "output_type": "stream",
     "text": [
      "\n",
      "\n",
      "\n",
      "\n",
      "  1%|          | 50/6285 [08:46<15:32:40,  8.98s/it]\u001b[A\u001b[A\u001b[A\u001b[A"
     ]
    },
    {
     "name": "stdout",
     "output_type": "stream",
     "text": [
      "105213 ['manasinakkare', 'thanmathra']\n"
     ]
    },
    {
     "name": "stderr",
     "output_type": "stream",
     "text": [
      "\n",
      "\n",
      "\n",
      "\n",
      "  1%|          | 51/6285 [08:52<14:18:09,  8.26s/it]\u001b[A\u001b[A\u001b[A\u001b[A"
     ]
    },
    {
     "name": "stdout",
     "output_type": "stream",
     "text": [
      "105426 ['aankhen', 'bade miyan chote miyan', 'bhagam bhag', 'coolie no. 1', 'dulhe raja', 'garam masala', 'hero no. 1', 'kunwara', 'sholay']\n"
     ]
    },
    {
     "name": "stderr",
     "output_type": "stream",
     "text": [
      "\n",
      "\n",
      "\n",
      "\n",
      "  1%|          | 52/6285 [09:11<19:49:31, 11.45s/it]\u001b[A\u001b[A\u001b[A\u001b[A"
     ]
    },
    {
     "name": "stdout",
     "output_type": "stream",
     "text": [
      "105444 ['baby', 'bang bang']\n",
      "105569 ['baahubali - the beginning', 'bedroom partner', 'chandramukhi', 'free runner', 'hate story 3', 'last bus', 'love songs']\n"
     ]
    },
    {
     "name": "stderr",
     "output_type": "stream",
     "text": [
      "\n",
      "\n",
      "\n",
      "\n",
      "  1%|          | 54/6285 [09:24<17:10:24,  9.92s/it]\u001b[A\u001b[A\u001b[A\u001b[A"
     ]
    },
    {
     "name": "stdout",
     "output_type": "stream",
     "text": [
      "105743 ['masaan']\n"
     ]
    },
    {
     "name": "stderr",
     "output_type": "stream",
     "text": [
      "\n",
      "\n",
      "\n",
      "\n",
      "  1%|          | 55/6285 [09:27<13:41:23,  7.91s/it]\u001b[A\u001b[A\u001b[A\u001b[A"
     ]
    },
    {
     "name": "stdout",
     "output_type": "stream",
     "text": [
      "105893 ['kammattipadam', 'mungaru male', 'the beach', 'vidhwanshak the destroyer']\n"
     ]
    },
    {
     "name": "stderr",
     "output_type": "stream",
     "text": [
      "\n",
      "\n",
      "\n",
      "\n",
      "  1%|          | 56/6285 [09:37<14:48:46,  8.56s/it]\u001b[A\u001b[A\u001b[A\u001b[A"
     ]
    },
    {
     "name": "stdout",
     "output_type": "stream",
     "text": [
      "105927 ['winter sleep']\n"
     ]
    },
    {
     "name": "stderr",
     "output_type": "stream",
     "text": [
      "\n",
      "\n",
      "\n",
      "\n",
      "  1%|          | 57/6285 [09:40<12:01:31,  6.95s/it]\u001b[A\u001b[A\u001b[A\u001b[A"
     ]
    },
    {
     "name": "stdout",
     "output_type": "stream",
     "text": [
      "105946 ['dragon blade', 'drishyam', 'hate story 3', 'hero', 'jolly llb', 'jolly llb 2', 'ms dhoni: the untold story', 'raaz: the mystery continues', 'roy']\n"
     ]
    },
    {
     "name": "stderr",
     "output_type": "stream",
     "text": [
      "\n",
      "\n",
      "\n",
      "\n",
      "  1%|          | 58/6285 [09:50<13:22:17,  7.73s/it]\u001b[A\u001b[A\u001b[A\u001b[A"
     ]
    },
    {
     "name": "stdout",
     "output_type": "stream",
     "text": [
      "106002 ['kadaksham', 'onnam ragam']\n"
     ]
    },
    {
     "name": "stderr",
     "output_type": "stream",
     "text": [
      "\n",
      "\n",
      "\n",
      "\n",
      "  1%|          | 59/6285 [09:56<12:38:35,  7.31s/it]\u001b[A\u001b[A\u001b[A\u001b[A"
     ]
    },
    {
     "name": "stdout",
     "output_type": "stream",
     "text": [
      "106195 ['kabali']\n",
      "106278 ['ms dhoni: the untold story', 'premer kahini', 'yaariyan']\n",
      "106591 ['baby', 'highway', 'jolly llb', 'sarfarosh']\n"
     ]
    },
    {
     "name": "stderr",
     "output_type": "stream",
     "text": [
      "\n",
      "\n",
      "\n",
      "\n",
      "  1%|          | 62/6285 [10:03<10:00:33,  5.79s/it]\u001b[A\u001b[A\u001b[A\u001b[A"
     ]
    },
    {
     "name": "stdout",
     "output_type": "stream",
     "text": [
      "106752 ['bedroom partner', 'dishoom']\n",
      "106768 ['janatha garage']\n",
      "106863 ['action hero biju', 'janatha garage', 'kammattipadam', 'sholay', 'tekken']\n"
     ]
    },
    {
     "name": "stderr",
     "output_type": "stream",
     "text": [
      "\n",
      "\n",
      "\n",
      "\n",
      "  1%|          | 65/6285 [10:07<7:40:24,  4.44s/it] \u001b[A\u001b[A\u001b[A\u001b[A"
     ]
    },
    {
     "name": "stdout",
     "output_type": "stream",
     "text": [
      "106911 ['chhello divas', 'gujjubhai the great']\n"
     ]
    },
    {
     "name": "stderr",
     "output_type": "stream",
     "text": [
      "\n",
      "\n",
      "\n",
      "\n",
      "  1%|          | 66/6285 [10:10<7:07:51,  4.13s/it]\u001b[A\u001b[A\u001b[A\u001b[A"
     ]
    },
    {
     "name": "stdout",
     "output_type": "stream",
     "text": [
      "10695 ['kabali', 'ms dhoni: the untold story', 'pink', 'sanam re']\n"
     ]
    },
    {
     "name": "stderr",
     "output_type": "stream",
     "text": [
      "\n",
      "\n",
      "\n",
      "\n",
      "  1%|          | 67/6285 [10:13<6:39:27,  3.85s/it]\u001b[A\u001b[A\u001b[A\u001b[A"
     ]
    },
    {
     "name": "stdout",
     "output_type": "stream",
     "text": [
      "107416 ['bela seshe', 'goynar baksho', 'khichdi the movie', 'ms dhoni: the untold story', 'neerja']\n"
     ]
    },
    {
     "name": "stderr",
     "output_type": "stream",
     "text": [
      "\n",
      "\n",
      "\n",
      "\n",
      "  1%|          | 68/6285 [10:20<8:04:25,  4.68s/it]\u001b[A\u001b[A\u001b[A\u001b[A"
     ]
    },
    {
     "name": "stdout",
     "output_type": "stream",
     "text": [
      "107614 ['ms dhoni: the untold story']\n",
      "107691 ['jolly llb 2', 'neerja']\n",
      "107763 ['deadpool', 'gautamiputra satakarni', 'kabali', 'kung fu panda 3', 'maze runner 2: the scorch trials', 'ms dhoni: the untold story', 'the grand budapest hotel', 'the martian']\n"
     ]
    },
    {
     "name": "stderr",
     "output_type": "stream",
     "text": [
      "\n",
      "\n",
      "\n",
      "\n",
      "  1%|          | 71/6285 [10:30<7:22:43,  4.27s/it]\u001b[A\u001b[A\u001b[A\u001b[A"
     ]
    },
    {
     "name": "stdout",
     "output_type": "stream",
     "text": [
      "108130 ['pizza ii: villa']\n"
     ]
    },
    {
     "name": "stderr",
     "output_type": "stream",
     "text": [
      "\n",
      "\n",
      "\n",
      "\n",
      "  1%|          | 72/6285 [10:33<6:50:31,  3.96s/it]\u001b[A\u001b[A\u001b[A\u001b[A"
     ]
    },
    {
     "name": "stdout",
     "output_type": "stream",
     "text": [
      "108601 ['aashiq banaya aapne', 'prem ratan dhan payo', 'tera jadoo chal gayaa', 'vivah']\n"
     ]
    },
    {
     "name": "stderr",
     "output_type": "stream",
     "text": [
      "\n",
      "\n",
      "\n",
      "\n",
      "  1%|          | 73/6285 [10:40<8:07:09,  4.71s/it]\u001b[A\u001b[A\u001b[A\u001b[A"
     ]
    },
    {
     "name": "stdout",
     "output_type": "stream",
     "text": [
      "108655 ['ankur arora murder case', 'hate story 3', 'naalo okkadu', 'sanam re', 'talvar']\n"
     ]
    },
    {
     "name": "stderr",
     "output_type": "stream",
     "text": [
      "\n",
      "\n",
      "\n",
      "\n",
      "  1%|          | 74/6285 [10:49<10:35:06,  6.14s/it]\u001b[A\u001b[A\u001b[A\u001b[A"
     ]
    },
    {
     "name": "stdout",
     "output_type": "stream",
     "text": [
      "108663 ['akira', 'ankur arora murder case', 'cash', 'creature 3d', 'dishoom', 'jimmy', 'jolly llb 2', 'kabali', 'ms dhoni: the untold story', 'the stoneman murders']\n"
     ]
    },
    {
     "name": "stderr",
     "output_type": "stream",
     "text": [
      "\n",
      "\n",
      "\n",
      "\n",
      "  1%|          | 75/6285 [11:02<13:56:33,  8.08s/it]\u001b[A\u001b[A\u001b[A\u001b[A"
     ]
    },
    {
     "name": "stdout",
     "output_type": "stream",
     "text": [
      "108742 ['b.a. pass', 'dead poets society', 'flightplan', 'khaidi no. 150', 'ms dhoni: the untold story', 'oppam']\n"
     ]
    },
    {
     "name": "stderr",
     "output_type": "stream",
     "text": [
      "\n",
      "\n",
      "\n",
      "\n",
      "  1%|          | 76/6285 [11:12<15:06:31,  8.76s/it]\u001b[A\u001b[A\u001b[A\u001b[A"
     ]
    },
    {
     "name": "stdout",
     "output_type": "stream",
     "text": [
      "10888 ['ms dhoni: the untold story', 'savaari 2', 'yaare kugadali']\n"
     ]
    },
    {
     "name": "stderr",
     "output_type": "stream",
     "text": [
      "\n",
      "\n",
      "\n",
      "\n",
      "  1%|          | 77/6285 [11:19<14:03:09,  8.15s/it]\u001b[A\u001b[A\u001b[A\u001b[A"
     ]
    },
    {
     "name": "stdout",
     "output_type": "stream",
     "text": [
      "108979 ['24', 'bade miyan chote miyan', 'bajrangi bhaijaan', 'gautamiputra satakarni', 'iron man', 'neerja', 'pink']\n"
     ]
    },
    {
     "name": "stderr",
     "output_type": "stream",
     "text": [
      "\n",
      "\n",
      "\n",
      "\n",
      "  1%|          | 78/6285 [11:29<15:03:16,  8.73s/it]\u001b[A\u001b[A\u001b[A\u001b[A"
     ]
    },
    {
     "name": "stdout",
     "output_type": "stream",
     "text": [
      "109055 ['holiday', 'roy']\n"
     ]
    },
    {
     "name": "stderr",
     "output_type": "stream",
     "text": [
      "\n",
      "\n",
      "\n",
      "\n",
      "  1%|▏         | 79/6285 [11:32<12:13:57,  7.10s/it]\u001b[A\u001b[A\u001b[A\u001b[A"
     ]
    },
    {
     "name": "stdout",
     "output_type": "stream",
     "text": [
      "109079 ['khatta meetha', 'prem ratan dhan payo']\n"
     ]
    },
    {
     "name": "stderr",
     "output_type": "stream",
     "text": [
      "\n",
      "\n",
      "\n",
      "\n",
      "  1%|▏         | 80/6285 [11:35<10:12:36,  5.92s/it]\u001b[A\u001b[A\u001b[A\u001b[A"
     ]
    },
    {
     "name": "stdout",
     "output_type": "stream",
     "text": [
      "109098 ['mirzya']\n"
     ]
    },
    {
     "name": "stderr",
     "output_type": "stream",
     "text": [
      "\n",
      "\n",
      "\n",
      "\n",
      "  1%|▏         | 81/6285 [11:39<8:47:22,  5.10s/it] \u001b[A\u001b[A\u001b[A\u001b[A"
     ]
    },
    {
     "name": "stdout",
     "output_type": "stream",
     "text": [
      "109206 ['fatso', 'jolly llb']\n"
     ]
    },
    {
     "name": "stderr",
     "output_type": "stream",
     "text": [
      "\n",
      "\n",
      "\n",
      "\n",
      "  1%|▏         | 82/6285 [11:42<7:48:20,  4.53s/it]\u001b[A\u001b[A\u001b[A\u001b[A"
     ]
    },
    {
     "name": "stdout",
     "output_type": "stream",
     "text": [
      "109234 ['baki itihas']\n"
     ]
    },
    {
     "name": "stderr",
     "output_type": "stream",
     "text": [
      "\n",
      "\n",
      "\n",
      "\n",
      "  1%|▏         | 83/6285 [11:45<7:06:22,  4.12s/it]\u001b[A\u001b[A\u001b[A\u001b[A"
     ]
    },
    {
     "name": "stdout",
     "output_type": "stream",
     "text": [
      "10935 ['karyasthan', 'rathinirvedam']\n"
     ]
    },
    {
     "name": "stderr",
     "output_type": "stream",
     "text": [
      "\n",
      "\n",
      "\n",
      "\n",
      "  1%|▏         | 84/6285 [11:51<8:15:17,  4.79s/it]\u001b[A\u001b[A\u001b[A\u001b[A"
     ]
    },
    {
     "name": "stdout",
     "output_type": "stream",
     "text": [
      "109361 ['rathinirvedam', 'susanna']\n"
     ]
    },
    {
     "name": "stderr",
     "output_type": "stream",
     "text": [
      "\n",
      "\n",
      "\n",
      "\n",
      "  1%|▏         | 85/6285 [11:55<7:34:43,  4.40s/it]\u001b[A\u001b[A\u001b[A\u001b[A"
     ]
    },
    {
     "name": "stdout",
     "output_type": "stream",
     "text": [
      "109415 ['balwaan', 'salaami']\n"
     ]
    },
    {
     "name": "stderr",
     "output_type": "stream",
     "text": [
      "\n",
      "\n",
      "\n",
      "\n",
      "  1%|▏         | 86/6285 [11:59<7:13:44,  4.20s/it]\u001b[A\u001b[A\u001b[A\u001b[A"
     ]
    },
    {
     "name": "stdout",
     "output_type": "stream",
     "text": [
      "109428 ['adi kapyare kootamani', 'kalavani', 'ring master']\n"
     ]
    },
    {
     "name": "stderr",
     "output_type": "stream",
     "text": [
      "\n",
      "\n",
      "\n",
      "\n",
      "  1%|▏         | 87/6285 [12:05<8:22:50,  4.87s/it]\u001b[A\u001b[A\u001b[A\u001b[A"
     ]
    },
    {
     "name": "stdout",
     "output_type": "stream",
     "text": [
      "109636 ['attahasa', 'chandralekha', 'hey sarasu', 'ko ko...koli kothi', 'last bus', 'pungidasa', 'rangappa hogbittana', 'shravana', 'www.bhaya.com']\n"
     ]
    },
    {
     "name": "stderr",
     "output_type": "stream",
     "text": [
      "\n",
      "\n",
      "\n",
      "\n",
      "  1%|▏         | 88/6285 [12:30<18:53:45, 10.98s/it]\u001b[A\u001b[A\u001b[A\u001b[A"
     ]
    },
    {
     "name": "stdout",
     "output_type": "stream",
     "text": [
      "109650 ['2 countries', 'aadu', 'action hero biju', 'bangalore days', 'bedroom partner', 'god father', 'jaggu dada', 'jolly llb', 'julie', 'my boss', 'ohm shanthi oshana', 'oru indian pranaya kadha', 'ring master', 'the dirty picture', 'thuppakki', 'vellimoonga']\n"
     ]
    },
    {
     "name": "stderr",
     "output_type": "stream",
     "text": [
      "\n",
      "\n",
      "\n",
      "\n",
      "  1%|▏         | 89/6285 [12:49<23:03:17, 13.40s/it]\u001b[A\u001b[A\u001b[A\u001b[A"
     ]
    },
    {
     "name": "stdout",
     "output_type": "stream",
     "text": [
      "109663 ['baahubali - the beginning', 'jolly llb 2', 'kabali', 'magadheera', 'spy']\n"
     ]
    },
    {
     "name": "stderr",
     "output_type": "stream",
     "text": [
      "\n",
      "\n",
      "\n",
      "\n",
      "  1%|▏         | 90/6285 [12:56<19:24:40, 11.28s/it]\u001b[A\u001b[A\u001b[A\u001b[A"
     ]
    },
    {
     "name": "stdout",
     "output_type": "stream",
     "text": [
      "109838 ['bullett raja', 'kaabil', 'kabali', 'kick', 'ms dhoni: the untold story']\n"
     ]
    },
    {
     "name": "stderr",
     "output_type": "stream",
     "text": [
      "\n",
      "\n",
      "\n",
      "\n",
      "  1%|▏         | 91/6285 [13:06<18:58:57, 11.03s/it]\u001b[A\u001b[A\u001b[A\u001b[A"
     ]
    },
    {
     "name": "stdout",
     "output_type": "stream",
     "text": [
      "110026 ['bachelor party', 'maari', 'ms dhoni: the untold story']\n"
     ]
    },
    {
     "name": "stderr",
     "output_type": "stream",
     "text": [
      "\n",
      "\n",
      "\n",
      "\n",
      "  1%|▏         | 92/6285 [13:10<15:10:01,  8.82s/it]\u001b[A\u001b[A\u001b[A\u001b[A"
     ]
    },
    {
     "name": "stdout",
     "output_type": "stream",
     "text": [
      "110077 ['housefull 3', 'ishq', 'ms dhoni: the untold story', 'paap ki duniya']\n"
     ]
    },
    {
     "name": "stderr",
     "output_type": "stream",
     "text": [
      "\n",
      "\n",
      "\n",
      "\n",
      "  1%|▏         | 93/6285 [13:13<12:21:26,  7.18s/it]\u001b[A\u001b[A\u001b[A\u001b[A"
     ]
    },
    {
     "name": "stdout",
     "output_type": "stream",
     "text": [
      "110143 ['bade miyan chote miyan', 'hate story 3', 'hum aapke hain kaun', 'saagar']\n"
     ]
    },
    {
     "name": "stderr",
     "output_type": "stream",
     "text": [
      "\n",
      "\n",
      "\n",
      "\n",
      "  1%|▏         | 94/6285 [13:19<11:55:13,  6.93s/it]\u001b[A\u001b[A\u001b[A\u001b[A"
     ]
    },
    {
     "name": "stdout",
     "output_type": "stream",
     "text": [
      "110683 ['action hero biju', 'premam', 'pulimurugan']\n"
     ]
    },
    {
     "name": "stderr",
     "output_type": "stream",
     "text": [
      "\n",
      "\n",
      "\n",
      "\n",
      "  2%|▏         | 95/6285 [13:23<9:59:25,  5.81s/it] \u001b[A\u001b[A\u001b[A\u001b[A"
     ]
    },
    {
     "name": "stdout",
     "output_type": "stream",
     "text": [
      "110904 ['break ke baad', 'hate story 3', 'london paris new york', 'ms dhoni: the untold story', 'vampire academy']\n"
     ]
    },
    {
     "name": "stderr",
     "output_type": "stream",
     "text": [
      "\n",
      "\n",
      "\n",
      "\n",
      "  2%|▏         | 96/6285 [13:32<11:53:23,  6.92s/it]\u001b[A\u001b[A\u001b[A\u001b[A"
     ]
    },
    {
     "name": "stdout",
     "output_type": "stream",
     "text": [
      "110907 ['ananthabhadram', 'black stallion', 'marubhoomiyile aana']\n"
     ]
    },
    {
     "name": "stderr",
     "output_type": "stream",
     "text": [
      "\n",
      "\n",
      "\n",
      "\n",
      "  2%|▏         | 97/6285 [13:38<11:35:21,  6.74s/it]\u001b[A\u001b[A\u001b[A\u001b[A"
     ]
    },
    {
     "name": "stdout",
     "output_type": "stream",
     "text": [
      "110954 ['ms dhoni: the untold story']\n",
      "111063 ['2 countries', 'adi kapyare kootamani', 'kali', 'leela', 'pathemaari', 'pulimurugan']\n"
     ]
    },
    {
     "name": "stderr",
     "output_type": "stream",
     "text": [
      "\n",
      "\n",
      "\n",
      "\n",
      "  2%|▏         | 99/6285 [13:45<9:44:26,  5.67s/it] \u001b[A\u001b[A\u001b[A\u001b[A"
     ]
    },
    {
     "name": "stdout",
     "output_type": "stream",
     "text": [
      "111347 ['ganda hendathi', 'hum aapke hain kaun']\n"
     ]
    },
    {
     "name": "stderr",
     "output_type": "stream",
     "text": [
      "\n",
      "\n",
      "\n",
      "\n",
      "  2%|▏         | 100/6285 [13:48<8:28:39,  4.93s/it]\u001b[A\u001b[A\u001b[A\u001b[A"
     ]
    },
    {
     "name": "stdout",
     "output_type": "stream",
     "text": [
      "111409 ['dolly ki doli', 'finding fanny', 'housefull 3', 'julie', 'kabali', 'mohenjo daro']\n"
     ]
    },
    {
     "name": "stderr",
     "output_type": "stream",
     "text": [
      "\n",
      "\n",
      "\n",
      "\n",
      "  2%|▏         | 101/6285 [13:54<9:10:00,  5.34s/it]\u001b[A\u001b[A\u001b[A\u001b[A\n",
      "\n",
      "\n",
      "\n",
      "  2%|▏         | 104/6285 [13:54<6:26:01,  3.75s/it]\u001b[A\u001b[A\u001b[A\u001b[A"
     ]
    },
    {
     "name": "stdout",
     "output_type": "stream",
     "text": [
      "111562 ['24', 'kabali', 'prem ratan dhan payo']\n",
      "111565 ['singham returns']\n",
      "111580 ['akira', 'julie']\n",
      "111693 ['action hero biju', 'ek villain', 'kingsman: the secret service', 'mohenjo daro', 'the fifth estate']\n"
     ]
    },
    {
     "name": "stderr",
     "output_type": "stream",
     "text": [
      "\n",
      "\n",
      "\n",
      "\n",
      "  2%|▏         | 105/6285 [14:01<7:45:51,  4.52s/it]\u001b[A\u001b[A\u001b[A\u001b[A"
     ]
    },
    {
     "name": "stdout",
     "output_type": "stream",
     "text": [
      "111731 ['bal hanuman 2', 'kris aur krishna', 'kung fu panda 3', 'maruti mera dosst', 'ms dhoni: the untold story', 'taken 3', 'the good dinosaur', 'the jungle book', 'zootopia']\n"
     ]
    },
    {
     "name": "stderr",
     "output_type": "stream",
     "text": [
      "\n",
      "\n",
      "\n",
      "\n",
      "  2%|▏         | 106/6285 [14:17<13:54:41,  8.11s/it]\u001b[A\u001b[A\u001b[A\u001b[A"
     ]
    },
    {
     "name": "stdout",
     "output_type": "stream",
     "text": [
      "111930 ['action hero biju', 'ennum eppozhum', 'kammattipadam', 'oppam']\n"
     ]
    },
    {
     "name": "stderr",
     "output_type": "stream",
     "text": [
      "\n",
      "\n",
      "\n",
      "\n",
      "  2%|▏         | 107/6285 [14:20<11:23:37,  6.64s/it]\u001b[A\u001b[A\u001b[A\u001b[A"
     ]
    },
    {
     "name": "stdout",
     "output_type": "stream",
     "text": [
      "111961 ['beauty and the beast', 'bombay talkies']\n"
     ]
    },
    {
     "name": "stderr",
     "output_type": "stream",
     "text": [
      "\n",
      "\n",
      "\n",
      "\n",
      "  2%|▏         | 108/6285 [14:24<9:37:36,  5.61s/it] \u001b[A\u001b[A\u001b[A\u001b[A"
     ]
    },
    {
     "name": "stdout",
     "output_type": "stream",
     "text": [
      "112160 ['bedroom partner', 'khap']\n"
     ]
    },
    {
     "name": "stderr",
     "output_type": "stream",
     "text": [
      "\n",
      "\n",
      "\n",
      "\n",
      "  2%|▏         | 109/6285 [14:27<8:23:50,  4.89s/it]\u001b[A\u001b[A\u001b[A\u001b[A"
     ]
    },
    {
     "name": "stdout",
     "output_type": "stream",
     "text": [
      "112166 ['jolly llb']\n",
      "112387 ['mister pellikoduku', 'sardar gabbar singh']\n"
     ]
    },
    {
     "name": "stderr",
     "output_type": "stream",
     "text": [
      "\n",
      "\n",
      "\n",
      "\n",
      "  2%|▏         | 111/6285 [14:33<7:31:07,  4.38s/it]\u001b[A\u001b[A\u001b[A\u001b[A"
     ]
    },
    {
     "name": "stdout",
     "output_type": "stream",
     "text": [
      "112397 ['oozham', 'oppam']\n",
      "112864 ['chingari', 'julie']\n"
     ]
    },
    {
     "name": "stderr",
     "output_type": "stream",
     "text": [
      "\n",
      "\n",
      "\n",
      "\n",
      "  2%|▏         | 113/6285 [14:37<6:07:03,  3.57s/it]\u001b[A\u001b[A\u001b[A\u001b[A"
     ]
    },
    {
     "name": "stdout",
     "output_type": "stream",
     "text": [
      "113034 ['dishoom', 'finding fanny', 'golmaal: fun unlimited', 'housefull 3', 'kick', 'ms dhoni: the untold story', 'nishabd', 'om jai jagdish', 'the hundred foot journey', 'yaariyan']\n"
     ]
    },
    {
     "name": "stderr",
     "output_type": "stream",
     "text": [
      "\n",
      "\n",
      "\n",
      "\n",
      "  2%|▏         | 114/6285 [14:47<9:28:59,  5.53s/it]\u001b[A\u001b[A\u001b[A\u001b[A"
     ]
    },
    {
     "name": "stdout",
     "output_type": "stream",
     "text": [
      "113117 ['24', 'dawn of the planet of the apes']\n"
     ]
    },
    {
     "name": "stderr",
     "output_type": "stream",
     "text": [
      "\n",
      "\n",
      "\n",
      "\n",
      "  2%|▏         | 115/6285 [14:50<8:17:10,  4.83s/it]\u001b[A\u001b[A\u001b[A\u001b[A"
     ]
    },
    {
     "name": "stdout",
     "output_type": "stream",
     "text": [
      "113163 ['bedroom partner']\n",
      "11350 ['baahubali - the beginning', 'goa']\n"
     ]
    },
    {
     "name": "stderr",
     "output_type": "stream",
     "text": [
      "\n",
      "\n",
      "\n",
      "\n",
      "  2%|▏         | 117/6285 [14:53<6:37:33,  3.87s/it]\u001b[A\u001b[A\u001b[A\u001b[A\n",
      "\n",
      "\n",
      "\n",
      "  2%|▏         | 120/6285 [14:53<4:39:23,  2.72s/it]\u001b[A\u001b[A\u001b[A\u001b[A"
     ]
    },
    {
     "name": "stdout",
     "output_type": "stream",
     "text": [
      "11378 ['housefull 3', 'julie', 'ms dhoni: the untold story', 'tere bin laden 2']\n",
      "113864 ['baby', 'exists', 'hate story 3', 'kabali', 'raaz: the mystery continues']\n",
      "113951 ['bhaag milkha bhaag', 'golmaal: fun unlimited']\n",
      "114014 ['bhagam bhag', 'coolie no. 1', 'garam masala', 'garv: pride and honour', 'hate story 3', 'housefull 2', 'insaaf: the final justice', 'vivah']\n"
     ]
    },
    {
     "name": "stderr",
     "output_type": "stream",
     "text": [
      "\n",
      "\n",
      "\n",
      "\n",
      "  2%|▏         | 121/6285 [15:00<6:30:19,  3.80s/it]\u001b[A\u001b[A\u001b[A\u001b[A"
     ]
    },
    {
     "name": "stdout",
     "output_type": "stream",
     "text": [
      "114143 ['biwi no. 1', 'ms dhoni: the untold story', 'soldier']\n"
     ]
    },
    {
     "name": "stderr",
     "output_type": "stream",
     "text": [
      "\n",
      "\n",
      "\n",
      "\n",
      "  2%|▏         | 122/6285 [15:06<7:48:43,  4.56s/it]\u001b[A\u001b[A\u001b[A\u001b[A"
     ]
    },
    {
     "name": "stdout",
     "output_type": "stream",
     "text": [
      "114146 ['24', 'gautamiputra satakarni', 'kanche', 'khaidi no. 150']\n"
     ]
    },
    {
     "name": "stderr",
     "output_type": "stream",
     "text": [
      "\n",
      "\n",
      "\n",
      "\n",
      "  2%|▏         | 123/6285 [15:09<7:06:37,  4.15s/it]\u001b[A\u001b[A\u001b[A\u001b[A"
     ]
    },
    {
     "name": "stdout",
     "output_type": "stream",
     "text": [
      "114199 ['2 states', 'action jackson', 'dishoom', 'kabali']\n"
     ]
    },
    {
     "name": "stderr",
     "output_type": "stream",
     "text": [
      "\n",
      "\n",
      "\n",
      "\n",
      "  2%|▏         | 124/6285 [15:12<6:37:14,  3.87s/it]\u001b[A\u001b[A\u001b[A\u001b[A"
     ]
    },
    {
     "name": "stdout",
     "output_type": "stream",
     "text": [
      "114230 ['masaan']\n",
      "114331 ['(500) days of summer', 'another earth', 'avatar', 'baby', 'break ke baad', 'cars', 'date night', 'eragon', 'hitman', 'i origins', 'ice age: continental drift', 'in her shoes', 'just married', 'katti batti', \"marvel's the avengers\", 'me and earl and the dying girl', 'monsters inc.', 'moulin rouge', 'paper towns', 'the book thief', 'the counselor', 'the day after tomorrow', 'the descendants', 'the good dinosaur', 'the grand budapest hotel', 'the job', 'the lone ranger', 'the longest ride', 'the pyramid', 'the rocker', 'this means war', 'trance', 'victor frankenstein', 'wall street: money never sleeps', 'water for elephants', 'zindagi na milegi dobara']\n"
     ]
    },
    {
     "name": "stderr",
     "output_type": "stream",
     "text": [
      "\n",
      "\n",
      "\n",
      "\n",
      "  2%|▏         | 126/6285 [16:38<26:45:06, 15.64s/it]\u001b[A\u001b[A\u001b[A\u001b[A"
     ]
    },
    {
     "name": "stdout",
     "output_type": "stream",
     "text": [
      "114417 ['hum aapke hain kaun']\n",
      "114451 ['bhadram', 'bhale bhale magadivoy', 'mirzya', 'miss tanakpur haazir ho', 'naa bangaru talli', 'oka laila kosam', 'pink', 'swamy']\n"
     ]
    },
    {
     "name": "stderr",
     "output_type": "stream",
     "text": [
      "\n",
      "\n",
      "\n",
      "\n",
      "  2%|▏         | 128/6285 [16:57<23:34:53, 13.79s/it]\u001b[A\u001b[A\u001b[A\u001b[A"
     ]
    },
    {
     "name": "stdout",
     "output_type": "stream",
     "text": [
      "11450 ['bedroom partner', 'hate story 3']\n",
      "115322 ['akira', 'gautamiputra satakarni', 'topiwala']\n"
     ]
    },
    {
     "name": "stderr",
     "output_type": "stream",
     "text": [
      "\n",
      "\n",
      "\n",
      "\n",
      "  2%|▏         | 130/6285 [17:01<17:20:22, 10.14s/it]\u001b[A\u001b[A\u001b[A\u001b[A"
     ]
    },
    {
     "name": "stdout",
     "output_type": "stream",
     "text": [
      "115482 ['bedroom partner', 'naalu policeum nalla irundha oorum']\n"
     ]
    },
    {
     "name": "stderr",
     "output_type": "stream",
     "text": [
      "\n",
      "\n",
      "\n",
      "\n",
      "  2%|▏         | 131/6285 [17:04<13:46:13,  8.06s/it]\u001b[A\u001b[A\u001b[A\u001b[A"
     ]
    },
    {
     "name": "stdout",
     "output_type": "stream",
     "text": [
      "115694 ['creature 3d', 'dishoom', 'garam masala', 'holiday', 'khatta meetha']\n",
      "115758 ['rathinirvedam']\n",
      "11599 ['bedroom partner', 'exists', 'fighting fish (thai)', 'hate story 3', 'housefull 3', 'julie']\n"
     ]
    },
    {
     "name": "stderr",
     "output_type": "stream",
     "text": [
      "\n",
      "\n",
      "\n",
      "\n",
      "  2%|▏         | 134/6285 [17:07<10:11:40,  5.97s/it]\u001b[A\u001b[A\u001b[A\u001b[A"
     ]
    },
    {
     "name": "stdout",
     "output_type": "stream",
     "text": [
      "116040 ['hum aapke hain kaun', 'hum saath saath hain', 'jaan-e-mann', 'prem ratan dhan payo', 'vivah']\n"
     ]
    },
    {
     "name": "stderr",
     "output_type": "stream",
     "text": [
      "\n",
      "\n",
      "\n",
      "\n",
      "  2%|▏         | 135/6285 [17:10<8:46:25,  5.14s/it] \u001b[A\u001b[A\u001b[A\u001b[A"
     ]
    },
    {
     "name": "stdout",
     "output_type": "stream",
     "text": [
      "116149 ['baahubali - the beginning', 'kabali', 'sardar gabbar singh', 'yentavaadu gaani']\n"
     ]
    },
    {
     "name": "stderr",
     "output_type": "stream",
     "text": [
      "\n",
      "\n",
      "\n",
      "\n",
      "  2%|▏         | 136/6285 [17:14<7:53:43,  4.62s/it]\u001b[A\u001b[A\u001b[A\u001b[A"
     ]
    },
    {
     "name": "stdout",
     "output_type": "stream",
     "text": [
      "116227 ['chenkol', 'ennu ninte moideen', 'janatha garage', 'kammattipadam']\n"
     ]
    },
    {
     "name": "stderr",
     "output_type": "stream",
     "text": [
      "\n",
      "\n",
      "\n",
      "\n",
      "  2%|▏         | 137/6285 [17:21<9:03:56,  5.31s/it]\u001b[A\u001b[A\u001b[A\u001b[A"
     ]
    },
    {
     "name": "stdout",
     "output_type": "stream",
     "text": [
      "116291 ['godhi banna sadharana mykattu', 'last bus']\n"
     ]
    },
    {
     "name": "stderr",
     "output_type": "stream",
     "text": [
      "\n",
      "\n",
      "\n",
      "\n",
      "  2%|▏         | 138/6285 [17:24<7:57:59,  4.67s/it]\u001b[A\u001b[A\u001b[A\u001b[A"
     ]
    },
    {
     "name": "stdout",
     "output_type": "stream",
     "text": [
      "116292 ['2 countries', 'bedroom partner', 'colombiana', 'cowboys and aliens', 'free runner', 'goa', 'love 24x7', 'marubhoomiyile aana', 'oozham', 'skyline', 'soldiers of fortune', 'taxi 3', 'tekken', 'thaskara lahala', 'the four', 'the last stand']\n"
     ]
    },
    {
     "name": "stderr",
     "output_type": "stream",
     "text": [
      "\n",
      "\n",
      "\n",
      "\n",
      "  2%|▏         | 139/6285 [17:53<20:40:33, 12.11s/it]\u001b[A\u001b[A\u001b[A\u001b[A"
     ]
    },
    {
     "name": "stdout",
     "output_type": "stream",
     "text": [
      "116327 ['2 countries', 'action hero biju', 'baahubali - the beginning', 'crazy gopalan', 'marubhoomiyile aana', 'ms dhoni: the untold story', 'oppam', 'philips and the monkey pen']\n"
     ]
    },
    {
     "name": "stderr",
     "output_type": "stream",
     "text": [
      "\n",
      "\n",
      "\n",
      "\n",
      "  2%|▏         | 140/6285 [18:00<17:44:10, 10.39s/it]\u001b[A\u001b[A\u001b[A\u001b[A"
     ]
    },
    {
     "name": "stdout",
     "output_type": "stream",
     "text": [
      "116899 ['naalo okkadu', 'prem ratan dhan payo']\n",
      "116992 ['baahubali - the beginning', 'bade miyan chote miyan', 'baghban', 'bajrangi bhaijaan', 'dabangg 2', 'hero', 'housefull 3', 'kick', 'prem ratan dhan payo', 'red - the dark side', 'son of sardaar', 'vivah', 'yaariyan']\n"
     ]
    },
    {
     "name": "stderr",
     "output_type": "stream",
     "text": [
      "\n",
      "\n",
      "\n",
      "\n",
      "  2%|▏         | 142/6285 [18:06<14:02:52,  8.23s/it]\u001b[A\u001b[A\u001b[A\u001b[A"
     ]
    },
    {
     "name": "stdout",
     "output_type": "stream",
     "text": [
      "117042 ['7 1/2 phere', 'dil vil pyar vyar', 'holiday']\n"
     ]
    },
    {
     "name": "stderr",
     "output_type": "stream",
     "text": [
      "\n",
      "\n",
      "\n",
      "\n",
      "  2%|▏         | 143/6285 [18:12<13:05:26,  7.67s/it]\u001b[A\u001b[A\u001b[A\u001b[A"
     ]
    },
    {
     "name": "stdout",
     "output_type": "stream",
     "text": [
      "117056 ['ms dhoni: the untold story']\n",
      "117189 ['happy', 'immini nalloraal', 'kali', 'note book']\n"
     ]
    },
    {
     "name": "stderr",
     "output_type": "stream",
     "text": [
      "\n",
      "\n",
      "\n",
      "\n",
      "  2%|▏         | 145/6285 [18:22<11:36:13,  6.80s/it]\u001b[A\u001b[A\u001b[A\u001b[A"
     ]
    },
    {
     "name": "stdout",
     "output_type": "stream",
     "text": [
      "117253 ['baghban', 'housefull 3', 'neerja', 'prem ratan dhan payo', 'the dirty picture', 'the legend of bhagat singh']\n"
     ]
    },
    {
     "name": "stderr",
     "output_type": "stream",
     "text": [
      "\n",
      "\n",
      "\n",
      "\n",
      "  2%|▏         | 146/6285 [18:25<9:44:35,  5.71s/it] \u001b[A\u001b[A\u001b[A\u001b[A"
     ]
    },
    {
     "name": "stdout",
     "output_type": "stream",
     "text": [
      "117662 ['the hunter', 'vasuvum saravananum onna padichavanga']\n"
     ]
    },
    {
     "name": "stderr",
     "output_type": "stream",
     "text": [
      "\n",
      "\n",
      "\n",
      "\n",
      "  2%|▏         | 147/6285 [18:32<10:04:36,  5.91s/it]\u001b[A\u001b[A\u001b[A\u001b[A"
     ]
    },
    {
     "name": "stdout",
     "output_type": "stream",
     "text": [
      "117785 ['action hero biju', 'ben johnson', 'indriyam', 'kammattipadam', 'leela', 'oppam', 'rathinirvedam', 'red salute']\n"
     ]
    },
    {
     "name": "stderr",
     "output_type": "stream",
     "text": [
      "\n",
      "\n",
      "\n",
      "\n",
      "  2%|▏         | 148/6285 [18:41<11:56:15,  7.00s/it]\u001b[A\u001b[A\u001b[A\u001b[A"
     ]
    },
    {
     "name": "stdout",
     "output_type": "stream",
     "text": [
      "117801 ['maherchi saadi']\n"
     ]
    },
    {
     "name": "stderr",
     "output_type": "stream",
     "text": [
      "\n",
      "\n",
      "\n",
      "\n",
      "  2%|▏         | 149/6285 [18:44<9:58:50,  5.86s/it] \u001b[A\u001b[A\u001b[A\u001b[A"
     ]
    },
    {
     "name": "stdout",
     "output_type": "stream",
     "text": [
      "117940 ['hum saath saath hain', 'ms dhoni: the untold story']\n",
      "117986 ['avatar', 'baaghi', 'beauty and the beast', 'deadpool', 'fida', 'jolly llb 2', 'khaidi no. 150', 'kung fu panda 3', 'ms dhoni: the untold story', 'the martian', 'the wolverine']\n"
     ]
    },
    {
     "name": "stderr",
     "output_type": "stream",
     "text": [
      "\n",
      "\n",
      "\n",
      "\n",
      "  2%|▏         | 151/6285 [18:51<8:36:41,  5.05s/it]\u001b[A\u001b[A\u001b[A\u001b[A"
     ]
    },
    {
     "name": "stdout",
     "output_type": "stream",
     "text": [
      "118040 ['action hero biju', 'malavika']\n"
     ]
    },
    {
     "name": "stderr",
     "output_type": "stream",
     "text": [
      "\n",
      "\n",
      "\n",
      "\n",
      "  2%|▏         | 152/6285 [18:54<7:55:17,  4.65s/it]\u001b[A\u001b[A\u001b[A\u001b[A\n",
      "\n",
      "\n",
      "\n",
      "  2%|▏         | 155/6285 [18:54<5:33:41,  3.27s/it]\u001b[A\u001b[A\u001b[A\u001b[A"
     ]
    },
    {
     "name": "stdout",
     "output_type": "stream",
     "text": [
      "118049 ['premer kahini']\n",
      "118205 ['kick', 'ms dhoni: the untold story']\n",
      "118314 ['bela seshe', 'dishoom', 'ms dhoni: the untold story']\n",
      "1184 ['baby', 'bajrangi bhaijaan', 'bal ganesh 2', 'chhello divas', 'my friend ganesha 2']\n"
     ]
    },
    {
     "name": "stderr",
     "output_type": "stream",
     "text": [
      "\n",
      "\n",
      "\n",
      "\n",
      "  2%|▏         | 156/6285 [19:01<7:18:53,  4.30s/it]\u001b[A\u001b[A\u001b[A\u001b[A"
     ]
    },
    {
     "name": "stdout",
     "output_type": "stream",
     "text": [
      "118690 ['creature 3d', 'dil kya kare', 'har dil jo pyar karega', 'hum saath saath hain', 'julie', 'mon chai tomay', 'ms dhoni: the untold story', 'silsilay', 'streetlight', 'the dirty picture']\n"
     ]
    },
    {
     "name": "stderr",
     "output_type": "stream",
     "text": [
      "\n",
      "\n",
      "\n",
      "\n",
      "  2%|▏         | 157/6285 [19:15<11:59:31,  7.04s/it]\u001b[A\u001b[A\u001b[A\u001b[A\n",
      "\n",
      "\n",
      "\n",
      "  3%|▎         | 160/6285 [19:15<8:24:37,  4.94s/it] \u001b[A\u001b[A\u001b[A\u001b[A"
     ]
    },
    {
     "name": "stdout",
     "output_type": "stream",
     "text": [
      "118712 ['kali', 'oozham', 'trivandrum lodge']\n",
      "118775 ['exists', 'jolly llb', 'neerja', 'zindagi na milegi dobara']\n",
      "118964 ['hate story 3']\n",
      "119327 ['dolly ki doli', 'drishyam', 'jolly llb', 'matru ki bijlee ka mandola', 'ms dhoni: the untold story', 'raja babu', 'sarkar raj', 'talvar', 'taxi no. 9 2 11']\n"
     ]
    },
    {
     "name": "stderr",
     "output_type": "stream",
     "text": [
      "\n",
      "\n",
      "\n",
      "\n",
      "  3%|▎         | 161/6285 [19:29<13:06:04,  7.70s/it]\u001b[A\u001b[A\u001b[A\u001b[A"
     ]
    },
    {
     "name": "stdout",
     "output_type": "stream",
     "text": [
      "119369 ['action jackson', 'dangerous ishhq', 'garam masala', 'hate story 3', 'jolly llb', 'khap', 'kushti', 'samurai ek yodha']\n"
     ]
    },
    {
     "name": "stderr",
     "output_type": "stream",
     "text": [
      "\n",
      "\n",
      "\n",
      "\n",
      "  3%|▎         | 162/6285 [19:38<14:02:14,  8.25s/it]\u001b[A\u001b[A\u001b[A\u001b[A"
     ]
    },
    {
     "name": "stdout",
     "output_type": "stream",
     "text": [
      "119506 ['bhaktha prahalada']\n"
     ]
    },
    {
     "name": "stderr",
     "output_type": "stream",
     "text": [
      "\n",
      "\n",
      "\n",
      "\n",
      "  3%|▎         | 163/6285 [19:42<11:26:59,  6.73s/it]\u001b[A\u001b[A\u001b[A\u001b[A"
     ]
    },
    {
     "name": "stdout",
     "output_type": "stream",
     "text": [
      "119532 ['ms dhoni: the untold story']\n",
      "119678 ['aadu', 'action hero biju', 'adi kapyare kootamani', 'kammattipadam', 'oozham', 'oppam', 'pisaasu']\n"
     ]
    },
    {
     "name": "stderr",
     "output_type": "stream",
     "text": [
      "\n",
      "\n",
      "\n",
      "\n",
      "  3%|▎         | 165/6285 [19:45<8:49:46,  5.19s/it] \u001b[A\u001b[A\u001b[A\u001b[A"
     ]
    },
    {
     "name": "stdout",
     "output_type": "stream",
     "text": [
      "120083 ['dishoom', 'ms dhoni: the untold story']\n",
      "120155 ['2 countries', 'bhaag milkha bhaag', 'darling darling', 'janatha garage', 'kaalapani', 'kandahar', 'keerthichakra', 'kilukkam', 'moonnam mura', 'ms dhoni: the untold story', 'onnaman', 'oozham', 'punjabi house', 'thenmavin kombath']\n"
     ]
    },
    {
     "name": "stderr",
     "output_type": "stream",
     "text": [
      "\n",
      "\n",
      "\n",
      "\n",
      "  3%|▎         | 167/6285 [20:15<13:46:09,  8.10s/it]\u001b[A\u001b[A\u001b[A\u001b[A"
     ]
    },
    {
     "name": "stdout",
     "output_type": "stream",
     "text": [
      "120237 ['dishoom', 'janatha garage', 'jyothilakshmi', 'yentavaadu gaani']\n"
     ]
    },
    {
     "name": "stderr",
     "output_type": "stream",
     "text": [
      "\n",
      "\n",
      "\n",
      "\n",
      "  3%|▎         | 168/6285 [20:18<11:16:25,  6.63s/it]\u001b[A\u001b[A\u001b[A\u001b[A"
     ]
    },
    {
     "name": "stdout",
     "output_type": "stream",
     "text": [
      "120365 ['hum aapke hain kaun', 'vivah']\n",
      "120460 ['bal ganesh 2', 'hum saath saath hain', 'mera saaya']\n"
     ]
    },
    {
     "name": "stderr",
     "output_type": "stream",
     "text": [
      "\n",
      "\n",
      "\n",
      "\n",
      "  3%|▎         | 170/6285 [20:21<8:42:32,  5.13s/it] \u001b[A\u001b[A\u001b[A\u001b[A"
     ]
    },
    {
     "name": "stdout",
     "output_type": "stream",
     "text": [
      "12050 ['action hero biju']\n",
      "120608 ['baghban', 'jolly llb', 'namastey london', 'zindagi na milegi dobara']\n",
      "120969 ['2 countries', 'action hero biju', 'adiverukal', 'bangalore days', 'bhaag milkha bhaag', 'kammattipadam', 'kandahar', 'london bridge', 'memories', 'oppam', 'rathinirvedam', 'shobaraj', 'trivandrum lodge']\n"
     ]
    },
    {
     "name": "stderr",
     "output_type": "stream",
     "text": [
      "\n",
      "\n",
      "\n",
      "\n",
      "  3%|▎         | 173/6285 [20:34<8:14:30,  4.85s/it]\u001b[A\u001b[A\u001b[A\u001b[A"
     ]
    },
    {
     "name": "stdout",
     "output_type": "stream",
     "text": [
      "120973 ['action hero biju', 'oru vadakkan selfie', 'premam']\n"
     ]
    },
    {
     "name": "stderr",
     "output_type": "stream",
     "text": [
      "\n",
      "\n",
      "\n",
      "\n",
      "  3%|▎         | 174/6285 [20:37<7:29:25,  4.41s/it]\u001b[A\u001b[A\u001b[A\u001b[A"
     ]
    },
    {
     "name": "stdout",
     "output_type": "stream",
     "text": [
      "121004 ['baahubali - the beginning', 'ms dhoni: the untold story']\n",
      "121007 ['2 states', 'bajrangi bhaijaan', 'bullett raja', 'double dhamaal', 'geet gaata chal', 'hawaizaada', 'jolly llb 2', 'kick', 'masaan', 'meri jung']\n"
     ]
    },
    {
     "name": "stderr",
     "output_type": "stream",
     "text": [
      "\n",
      "\n",
      "\n",
      "\n",
      "  3%|▎         | 176/6285 [20:50<8:34:28,  5.05s/it]\u001b[A\u001b[A\u001b[A\u001b[A"
     ]
    },
    {
     "name": "stdout",
     "output_type": "stream",
     "text": [
      "121061 ['jolly llb 2']\n",
      "121302 ['akira', 'besharam', 'bumboo', 'double dhamaal', 'fatso', 'jhootha hi sahi', 'jolly llb', 'masti']\n"
     ]
    },
    {
     "name": "stderr",
     "output_type": "stream",
     "text": [
      "\n",
      "\n",
      "\n",
      "\n",
      "  3%|▎         | 178/6285 [21:03<9:13:38,  5.44s/it]\u001b[A\u001b[A\u001b[A\u001b[A"
     ]
    },
    {
     "name": "stdout",
     "output_type": "stream",
     "text": [
      "12135 ['bajrangi bhaijaan', 'jolly llb', 'kahaani', 'pink']\n"
     ]
    },
    {
     "name": "stderr",
     "output_type": "stream",
     "text": [
      "\n",
      "\n",
      "\n",
      "\n",
      "  3%|▎         | 179/6285 [21:06<8:05:33,  4.77s/it]\u001b[A\u001b[A\u001b[A\u001b[A"
     ]
    },
    {
     "name": "stdout",
     "output_type": "stream",
     "text": [
      "121527 ['gautamiputra satakarni', 'kerintha', 'sardar gabbar singh']\n"
     ]
    },
    {
     "name": "stderr",
     "output_type": "stream",
     "text": [
      "\n",
      "\n",
      "\n",
      "\n",
      "  3%|▎         | 180/6285 [21:09<7:17:44,  4.30s/it]\u001b[A\u001b[A\u001b[A\u001b[A"
     ]
    },
    {
     "name": "stdout",
     "output_type": "stream",
     "text": [
      "121638 ['coolie no. 1', 'kabali']\n",
      "121756 ['chingari', 'kali salwaar', 'raaz: the mystery continues']\n"
     ]
    },
    {
     "name": "stderr",
     "output_type": "stream",
     "text": [
      "\n",
      "\n",
      "\n",
      "\n",
      "  3%|▎         | 182/6285 [21:12<5:55:30,  3.50s/it]\u001b[A\u001b[A\u001b[A\u001b[A"
     ]
    },
    {
     "name": "stdout",
     "output_type": "stream",
     "text": [
      "121786 ['ms dhoni: the untold story']\n",
      "12180 ['10 endrathukulla', 'maari', 'thuppakki']\n"
     ]
    },
    {
     "name": "stderr",
     "output_type": "stream",
     "text": [
      "\n",
      "\n",
      "\n",
      "\n",
      "  3%|▎         | 184/6285 [21:16<5:00:59,  2.96s/it]\u001b[A\u001b[A\u001b[A\u001b[A"
     ]
    },
    {
     "name": "stdout",
     "output_type": "stream",
     "text": [
      "121969 ['julie', 'red - the dark side']\n",
      "122021 ['pulimurugan', 'swarna kaduva', 'the king & the commissioner']\n"
     ]
    },
    {
     "name": "stderr",
     "output_type": "stream",
     "text": [
      "\n",
      "\n",
      "\n",
      "\n",
      "  3%|▎         | 186/6285 [21:20<4:27:38,  2.63s/it]\u001b[A\u001b[A\u001b[A\u001b[A"
     ]
    },
    {
     "name": "stdout",
     "output_type": "stream",
     "text": [
      "122409 ['hate story 3']\n",
      "122464 ['2 countries', 'action hero biju', 'adi kapyare kootamani', 'bangalore days', 'christian brothers', 'ennu ninte moideen', 'goal', 'honey bee', 'kabali', 'kali', 'kili poyi', 'kunjiramayanam', 'lollipop', 'my boss', 'nandanam', 'niram', 'note book', 'ormayundo ee mukham', 'oru indian pranaya kadha', 'oru vadakkan selfie', 'premam', 'rani padmini', 'rathinirvedam', 'ring master', 'swapnakoodu', 'traffic', 'vellimoonga', 'vellinakshathram']\n"
     ]
    },
    {
     "name": "stderr",
     "output_type": "stream",
     "text": [
      "\n",
      "\n",
      "\n",
      "\n",
      "  3%|▎         | 188/6285 [21:52<11:18:45,  6.68s/it]\u001b[A\u001b[A\u001b[A\u001b[A\n",
      "\n",
      "\n",
      "\n",
      "  3%|▎         | 191/6285 [21:52<7:55:57,  4.69s/it] \u001b[A\u001b[A\u001b[A\u001b[A"
     ]
    },
    {
     "name": "stdout",
     "output_type": "stream",
     "text": [
      "12256 ['jolly llb', 'ms dhoni: the untold story']\n",
      "122675 ['deadpool', 'jolly llb 2', 'taken 3']\n",
      "123382 ['bedroom partner']\n",
      "12339 ['delivery man', 'prem ratan dhan payo']\n"
     ]
    },
    {
     "name": "stderr",
     "output_type": "stream",
     "text": [
      "\n",
      "\n",
      "\n",
      "\n",
      "  3%|▎         | 192/6285 [21:55<7:08:09,  4.22s/it]\u001b[A\u001b[A\u001b[A\u001b[A"
     ]
    },
    {
     "name": "stdout",
     "output_type": "stream",
     "text": [
      "123748 ['bang bang', 'dishoom']\n",
      "123811 ['aamne samne', 'aankhen', 'adventures of tarzan', 'akira', 'besharam', 'chhaya', 'finding fanny', 'jolly llb', 'julie', 'khamosh adalat jaari hai', 'miss tanakpur haazir ho', 'mohenjo daro', 'naseeb', 'raaz: the mystery continues', 'rajdarshan', 'seeta aur geeta', 'sholay', 'typecaste']\n"
     ]
    },
    {
     "name": "stderr",
     "output_type": "stream",
     "text": [
      "\n",
      "\n",
      "\n",
      "\n",
      "  3%|▎         | 194/6285 [22:20<11:25:19,  6.75s/it]\u001b[A\u001b[A\u001b[A\u001b[A\n",
      "\n",
      "\n",
      "\n",
      "  3%|▎         | 197/6285 [22:21<8:00:33,  4.74s/it] \u001b[A\u001b[A\u001b[A\u001b[A"
     ]
    },
    {
     "name": "stdout",
     "output_type": "stream",
     "text": [
      "123840 ['jolly llb', 'ms dhoni: the untold story']\n",
      "123895 ['action jackson', 'ms dhoni: the untold story']\n",
      "124065 ['akira', 'soldiers of fortune']\n",
      "124229 ['dishoom', 'drishyam', 'ms dhoni: the untold story']\n",
      "12431 ['besh korechi prem korechi', 'bolo na tumi amaar']\n"
     ]
    },
    {
     "name": "stderr",
     "output_type": "stream",
     "text": [
      "\n",
      "\n",
      "\n",
      "\n",
      "  3%|▎         | 199/6285 [22:28<7:31:24,  4.45s/it]\u001b[A\u001b[A\u001b[A\u001b[A"
     ]
    },
    {
     "name": "stdout",
     "output_type": "stream",
     "text": [
      "124442 ['jolly llb']\n",
      "12469 ['aladdin', 'the wolverine']\n"
     ]
    },
    {
     "name": "stderr",
     "output_type": "stream",
     "text": [
      "\n",
      "\n",
      "\n",
      "\n",
      "  3%|▎         | 201/6285 [22:32<6:17:23,  3.72s/it]\u001b[A\u001b[A\u001b[A\u001b[A"
     ]
    },
    {
     "name": "stdout",
     "output_type": "stream",
     "text": [
      "124819 ['action hero biju', 'action jackson', 'escape plan', 'janatha garage', 'jolly llb 2', 'julie', 'meeku meere maaku meme', 'oka laila kosam']\n"
     ]
    },
    {
     "name": "stderr",
     "output_type": "stream",
     "text": [
      "\n",
      "\n",
      "\n",
      "\n",
      "  3%|▎         | 202/6285 [22:36<6:27:33,  3.82s/it]\u001b[A\u001b[A\u001b[A\u001b[A"
     ]
    },
    {
     "name": "stdout",
     "output_type": "stream",
     "text": [
      "124867 ['hum saath saath hain', 'ms dhoni: the untold story']\n",
      "12508 ['kammattipadam']\n",
      "125094 ['ennu ninte moideen', 'ennum eppozhum', 'kaabil', 'kadal', 'marubhoomiyile aana', 'ms dhoni: the untold story', 'north 24 katham', 'oppam', 'pulimurugan', 'red wine', 'salalah mobiles', 'vismayam']\n"
     ]
    },
    {
     "name": "stderr",
     "output_type": "stream",
     "text": [
      "\n",
      "\n",
      "\n",
      "\n",
      "  3%|▎         | 205/6285 [22:52<7:10:01,  4.24s/it]\u001b[A\u001b[A\u001b[A\u001b[A"
     ]
    },
    {
     "name": "stdout",
     "output_type": "stream",
     "text": [
      "125239 ['gautamiputra satakarni', 'kabali']\n",
      "12535 ['krishna aur kans', 'maruti mera dosst', 'my friend ganesha', 'my friend ganesha 3', 'shala']\n"
     ]
    },
    {
     "name": "stderr",
     "output_type": "stream",
     "text": [
      "\n",
      "\n",
      "\n",
      "\n",
      "  3%|▎         | 207/6285 [23:03<7:53:47,  4.68s/it]\u001b[A\u001b[A\u001b[A\u001b[A\n",
      "\n",
      "\n",
      "\n",
      "  3%|▎         | 210/6285 [23:03<5:32:39,  3.29s/it]\u001b[A\u001b[A\u001b[A\u001b[A"
     ]
    },
    {
     "name": "stdout",
     "output_type": "stream",
     "text": [
      "125454 ['exists']\n",
      "125469 ['chingari', 'exists', 'jolly llb', 'sarkar raj']\n",
      "125471 ['chhello divas', 'ms dhoni: the untold story']\n",
      "125504 ['bang bang', 'drishyam']\n",
      "125569 ['baahubali - the beginning', 'hate story 3', 'prem ratan dhan payo', 'premer kahini', 'sanam re']\n",
      "125692 ['anna bond', 'citizen', 'gautamiputra satakarni', 'hate story 3', 'krishna', 'manikya', 'ms dhoni: the untold story', 'porki', 'shourya', 'yaare kugadali']\n"
     ]
    },
    {
     "name": "stderr",
     "output_type": "stream",
     "text": [
      "\n",
      "\n",
      "\n",
      "\n",
      "  3%|▎         | 213/6285 [23:22<7:04:53,  4.20s/it]\u001b[A\u001b[A\u001b[A\u001b[A"
     ]
    },
    {
     "name": "stdout",
     "output_type": "stream",
     "text": [
      "125798 ['akira', 'jolly llb 2', 'last bus', 'ms dhoni: the untold story']\n",
      "125872 ['daagdi chawl']\n"
     ]
    },
    {
     "name": "stderr",
     "output_type": "stream",
     "text": [
      "\n",
      "\n",
      "\n",
      "\n",
      "  3%|▎         | 215/6285 [23:26<5:56:41,  3.53s/it]\u001b[A\u001b[A\u001b[A\u001b[A\n",
      "\n",
      "\n",
      "\n",
      "  3%|▎         | 217/6285 [23:26<4:11:08,  2.48s/it]\u001b[A\u001b[A\u001b[A\u001b[A"
     ]
    },
    {
     "name": "stdout",
     "output_type": "stream",
     "text": [
      "125967 ['exists', 'highway', 'ms dhoni: the untold story', 'nishabd', 'pink']\n",
      "12626 ['hate story 3', 'the devil wears prada', 'the other woman']\n",
      "126369 ['2001: do hazaar ek', 'baahubali - the beginning', 'bhagam bhaag (marathi)']\n"
     ]
    },
    {
     "name": "stderr",
     "output_type": "stream",
     "text": [
      "\n",
      "\n",
      "\n",
      "\n",
      "  3%|▎         | 218/6285 [23:34<6:43:09,  3.99s/it]\u001b[A\u001b[A\u001b[A\u001b[A\n",
      "\n",
      "\n",
      "\n",
      "  4%|▎         | 220/6285 [23:34<4:43:39,  2.81s/it]\u001b[A\u001b[A\u001b[A\u001b[A"
     ]
    },
    {
     "name": "stdout",
     "output_type": "stream",
     "text": [
      "126381 ['creature 3d', 'ms dhoni: the untold story']\n",
      "1265 ['ms dhoni: the untold story', 'neerja']\n",
      "12669 ['2 states', 'action jackson', 'ahista ahista', 'anand bhavan', 'ankur arora murder case', 'armaan', 'army man', 'baby', 'bas itna sa khwab hai', 'bedroom partner', 'bhagam bhag', 'bobby jasoos', 'break ke baad', 'cash', 'dangerous ishhq', 'dangerous khiladi', 'diary of a butterfly', 'dil diya hai', 'dishoom', 'finding fanny', 'first love letter', 'force', 'go', 'hate story 3', 'hungama', 'imtihaan', 'ishqiya', 'jaan-e-mann', 'jaggu dada', 'jeans', 'johnny gaddaar', 'julie', 'mashooq', 'namastey london', 'robbery', 'sanam re', 'shaadi ke side effects', 'shool', 'talvar', 'yaariyan']\n"
     ]
    },
    {
     "name": "stderr",
     "output_type": "stream",
     "text": [
      "\n",
      "\n",
      "\n",
      "\n",
      "  4%|▎         | 221/6285 [24:42<37:40:01, 22.36s/it]\u001b[A\u001b[A\u001b[A\u001b[A"
     ]
    },
    {
     "name": "stdout",
     "output_type": "stream",
     "text": [
      "126712 ['holiday', 'kali']\n",
      "126937 ['kali', 'marubhoomiyile aana', 'oppam', 'pookkalam varavayi', 'swarna kaduva']\n"
     ]
    },
    {
     "name": "stderr",
     "output_type": "stream",
     "text": [
      "\n",
      "\n",
      "\n",
      "\n",
      "  4%|▎         | 223/6285 [24:45<27:11:56, 16.15s/it]\u001b[A\u001b[A\u001b[A\u001b[A"
     ]
    },
    {
     "name": "stdout",
     "output_type": "stream",
     "text": [
      "126957 ['bedroom partner']\n",
      "127024 ['baby', 'janatha garage', 'magadheera', 'ms dhoni: the untold story']\n",
      "127179 ['ahista ahista', 'dedh ishqiya', 'housefull 3', 'maa beti', 'sanam re']\n"
     ]
    },
    {
     "name": "stderr",
     "output_type": "stream",
     "text": [
      "\n",
      "\n",
      "\n",
      "\n",
      "  4%|▎         | 226/6285 [24:52<20:09:32, 11.98s/it]\u001b[A\u001b[A\u001b[A\u001b[A"
     ]
    },
    {
     "name": "stdout",
     "output_type": "stream",
     "text": [
      "127203 ['neerja', 'unthinkable']\n"
     ]
    },
    {
     "name": "stderr",
     "output_type": "stream",
     "text": [
      "\n",
      "\n",
      "\n",
      "\n",
      "  4%|▎         | 227/6285 [24:56<15:53:04,  9.44s/it]\u001b[A\u001b[A\u001b[A\u001b[A"
     ]
    },
    {
     "name": "stdout",
     "output_type": "stream",
     "text": [
      "127779 ['janatha garage', 'julie', 'khaidi no. 150', 'sardar gabbar singh', 'surya vs surya', 'yentavaadu gaani']\n"
     ]
    },
    {
     "name": "stderr",
     "output_type": "stream",
     "text": [
      "\n",
      "\n",
      "\n",
      "\n",
      "  4%|▎         | 228/6285 [24:59<12:53:51,  7.67s/it]\u001b[A\u001b[A\u001b[A\u001b[A"
     ]
    },
    {
     "name": "stdout",
     "output_type": "stream",
     "text": [
      "128190 ['action jackson', 'dishoom', 'prem ratan dhan payo', 'sanam re']\n",
      "128452 ['andaz apna apna', 'bumboo', 'dolly ki doli', 'jolly llb', 'kick', 'kuku mathur ki jhand ho gayi', 'pink', 'the hunter']\n"
     ]
    },
    {
     "name": "stderr",
     "output_type": "stream",
     "text": [
      "\n",
      "\n",
      "\n",
      "\n",
      "  4%|▎         | 230/6285 [25:02<9:53:44,  5.88s/it] \u001b[A\u001b[A\u001b[A\u001b[A"
     ]
    },
    {
     "name": "stdout",
     "output_type": "stream",
     "text": [
      "128513 ['jolly llb 2']\n",
      "12854 ['andho prem', 'kelor kirti']\n"
     ]
    },
    {
     "name": "stderr",
     "output_type": "stream",
     "text": [
      "\n",
      "\n",
      "\n",
      "\n",
      "  4%|▎         | 232/6285 [25:09<8:34:14,  5.10s/it]\u001b[A\u001b[A\u001b[A\u001b[A"
     ]
    },
    {
     "name": "stdout",
     "output_type": "stream",
     "text": [
      "128607 ['kabali']\n",
      "128739 ['julie', 'ms dhoni: the untold story']\n",
      "128811 ['damaal dumeel', 'kammattipadam', 'kathai thiraikathai vasanam iyakkam', 'oozham', 'oppam', 'sathuranga vettai']\n"
     ]
    },
    {
     "name": "stderr",
     "output_type": "stream",
     "text": [
      "\n",
      "\n",
      "\n",
      "\n",
      "  4%|▎         | 235/6285 [25:19<7:40:26,  4.57s/it]\u001b[A\u001b[A\u001b[A\u001b[A"
     ]
    },
    {
     "name": "stdout",
     "output_type": "stream",
     "text": [
      "128916 ['bedroom partner', 'chingari', 'diary of a butterfly', 'jolly llb', 'julie', 'kali salwaar']\n",
      "128919 ['24', 'avatar', 'current', 'dr. saleem', 'khaidi no. 150', 'life of pi', 'meeku meere maaku meme', 'ms dhoni: the untold story', 'oka laila kosam', 'raja rani', 'simhasanam', 'stri', 'villain']\n"
     ]
    },
    {
     "name": "stderr",
     "output_type": "stream",
     "text": [
      "\n",
      "\n",
      "\n",
      "\n",
      "  4%|▍         | 237/6285 [25:42<11:12:07,  6.67s/it]\u001b[A\u001b[A\u001b[A\u001b[A"
     ]
    },
    {
     "name": "stdout",
     "output_type": "stream",
     "text": [
      "12910 ['khaidi no. 150']\n",
      "12927 ['ekk deewana tha', 'highway', 'jolly llb', 'jolly llb 2', 'zindagi na milegi dobara']\n"
     ]
    },
    {
     "name": "stderr",
     "output_type": "stream",
     "text": [
      "\n",
      "\n",
      "\n",
      "\n",
      "  4%|▍         | 239/6285 [25:46<8:41:41,  5.18s/it] \u001b[A\u001b[A\u001b[A\u001b[A"
     ]
    },
    {
     "name": "stdout",
     "output_type": "stream",
     "text": [
      "129477 ['dangerous khiladi', 'yaariyan']\n",
      "129531 ['2 countries', 'aadu', 'aamayum muyalum', 'action hero biju', 'adi kapyare kootamani', 'black stallion', 'dr. love', 'jamna pyari', 'kali', 'kammattipadam', 'kerala varma pazhassiraja', 'kochi rajavu', 'kulam', 'kunjiramayanam', 'leela', 'love 24x7', 'marubhoomiyile aana', 'mayamohini', 'nettippattam', 'oozham', 'ormayundo ee mukham', 'oru indian pranaya kadha', 'perumthachan', 'rani padmini', 'ustad hotel']\n"
     ]
    },
    {
     "name": "stderr",
     "output_type": "stream",
     "text": [
      "\n",
      "\n",
      "\n",
      "\n",
      "  4%|▍         | 241/6285 [26:09<11:58:20,  7.13s/it]\u001b[A\u001b[A\u001b[A\u001b[A"
     ]
    },
    {
     "name": "stdout",
     "output_type": "stream",
     "text": [
      "129590 ['janatha garage', 's/o satyamurthy']\n",
      "129817 ['jolly llb', 'mohenjo daro', 'some times', 'typecaste', 'yz']\n"
     ]
    },
    {
     "name": "stderr",
     "output_type": "stream",
     "text": [
      "\n",
      "\n",
      "\n",
      "\n",
      "  4%|▍         | 243/6285 [26:16<10:06:10,  6.02s/it]\u001b[A\u001b[A\u001b[A\u001b[A"
     ]
    },
    {
     "name": "stdout",
     "output_type": "stream",
     "text": [
      "129874 ['abhishkar']\n"
     ]
    },
    {
     "name": "stderr",
     "output_type": "stream",
     "text": [
      "\n",
      "\n",
      "\n",
      "\n",
      "  4%|▍         | 244/6285 [26:19<8:48:34,  5.25s/it] \u001b[A\u001b[A\u001b[A\u001b[A\n",
      "\n",
      "\n",
      "\n",
      "  4%|▍         | 247/6285 [26:19<6:10:55,  3.69s/it]\u001b[A\u001b[A\u001b[A\u001b[A\n",
      "\n",
      "\n",
      "\n",
      "  4%|▍         | 250/6285 [26:19<4:20:31,  2.59s/it]"
     ]
    },
    {
     "name": "stdout",
     "output_type": "stream",
     "text": [
      "129877 ['jolly llb 2', 'taxi no. 9 2 11']\n",
      "130169 ['baby', 'hate story 3', 'jolly llb']\n",
      "130290 ['ms dhoni: the untold story']\n",
      "130402 ['2 states', 'ankur arora murder case']\n",
      "130692 ['ms dhoni: the untold story']\n",
      "130892 ['force', 'hate story 3', 'vivah']\n",
      "131260 ['diary of a wimpy kid: dog days', 'diary of a wimpy kid: rodrick rules']\n"
     ]
    },
    {
     "name": "stderr",
     "output_type": "stream",
     "text": [
      "\u001b[A\u001b[A\u001b[A\u001b[A"
     ]
    },
    {
     "name": "stdout",
     "output_type": "stream",
     "text": [
      "131476 ['khwahish']\n"
     ]
    },
    {
     "name": "stderr",
     "output_type": "stream",
     "text": [
      "\n",
      "\n",
      "\n",
      "\n",
      "  4%|▍         | 252/6285 [26:30<5:38:49,  3.37s/it]\u001b[A\u001b[A\u001b[A\u001b[A"
     ]
    },
    {
     "name": "stdout",
     "output_type": "stream",
     "text": [
      "131580 ['guru', 'jolly llb', 'ms dhoni: the untold story', 'pink']\n",
      "131691 ['janatha garage', 'khaidi no. 150', 'ms dhoni: the untold story', 's/o satyamurthy']\n",
      "131725 ['aashiq banaya aapne', 'bhale bhale magadivoy', 'hate story 3', 'janatha garage', 'singham']\n"
     ]
    },
    {
     "name": "stderr",
     "output_type": "stream",
     "text": [
      "\n",
      "\n",
      "\n",
      "\n",
      "  4%|▍         | 255/6285 [26:33<4:32:36,  2.71s/it]\u001b[A\u001b[A\u001b[A\u001b[A"
     ]
    },
    {
     "name": "stdout",
     "output_type": "stream",
     "text": [
      "131733 ['prem ratan dhan payo']\n",
      "131813 ['hate story 3', 'premer kahini']\n",
      "131830 ['kabali', 'love express', 'ninja apocalypse', 'raaz: the mystery continues', 'singham returns']\n"
     ]
    },
    {
     "name": "stderr",
     "output_type": "stream",
     "text": [
      "\n",
      "\n",
      "\n",
      "\n",
      "  4%|▍         | 258/6285 [26:40<4:19:51,  2.59s/it]\u001b[A\u001b[A\u001b[A\u001b[A"
     ]
    },
    {
     "name": "stdout",
     "output_type": "stream",
     "text": [
      "132237 ['julayi', 'singham - yamudu 2', 'yamudu (singham)']\n"
     ]
    },
    {
     "name": "stderr",
     "output_type": "stream",
     "text": [
      "\n",
      "\n",
      "\n",
      "\n",
      "  4%|▍         | 259/6285 [26:51<8:30:03,  5.08s/it]\u001b[A\u001b[A\u001b[A\u001b[A"
     ]
    },
    {
     "name": "stdout",
     "output_type": "stream",
     "text": [
      "132372 ['kelor kirti', 'mon mane na', 'parbona ami charte toke', 'raaz: the mystery continues', 'shudhu tomari jonya', 'yoddha: the warrior']\n"
     ]
    },
    {
     "name": "stderr",
     "output_type": "stream",
     "text": [
      "\n",
      "\n",
      "\n",
      "\n",
      "  4%|▍         | 260/6285 [26:58<9:35:19,  5.73s/it]\u001b[A\u001b[A\u001b[A\u001b[A\n",
      "\n",
      "\n",
      "\n",
      "  4%|▍         | 263/6285 [26:58<6:43:38,  4.02s/it]\u001b[A\u001b[A\u001b[A\u001b[A"
     ]
    },
    {
     "name": "stdout",
     "output_type": "stream",
     "text": [
      "1325 ['bedroom partner', 'ms dhoni: the untold story']\n",
      "132505 ['hate story 3', 'jaggu dada', 'julie']\n",
      "132626 ['bedroom partner', 'housefull 3', 'kick']\n",
      "132653 ['bullett raja', 'dil toh baccha hai ji', 'force', 'jolly llb', 'julie', 'ms dhoni: the untold story', 'pink', 'sholay']\n"
     ]
    },
    {
     "name": "stderr",
     "output_type": "stream",
     "text": [
      "\n",
      "\n",
      "\n",
      "\n",
      "  4%|▍         | 264/6285 [27:02<6:33:56,  3.93s/it]\u001b[A\u001b[A\u001b[A\u001b[A"
     ]
    },
    {
     "name": "stdout",
     "output_type": "stream",
     "text": [
      "132687 ['hero', 'holiday', 'housefull 3', 'hum aapke hain kaun', 'yaariyan']\n",
      "133010 ['kabali', 'siruthai']\n"
     ]
    },
    {
     "name": "stderr",
     "output_type": "stream",
     "text": [
      "\n",
      "\n",
      "\n",
      "\n",
      "  4%|▍         | 266/6285 [27:06<5:35:08,  3.34s/it]\u001b[A\u001b[A\u001b[A\u001b[A"
     ]
    },
    {
     "name": "stdout",
     "output_type": "stream",
     "text": [
      "133198 ['baazigar', 'baby', 'hero', 'jolly llb 2', 'ms dhoni: the untold story', 'son of sardaar', 'the dirty picture']\n"
     ]
    },
    {
     "name": "stderr",
     "output_type": "stream",
     "text": [
      "\n",
      "\n",
      "\n",
      "\n",
      "  4%|▍         | 267/6285 [27:10<5:50:11,  3.49s/it]\u001b[A\u001b[A\u001b[A\u001b[A"
     ]
    },
    {
     "name": "stdout",
     "output_type": "stream",
     "text": [
      "133465 ['mannar mathai speaking - 2', 'ms dhoni: the untold story']\n"
     ]
    },
    {
     "name": "stderr",
     "output_type": "stream",
     "text": [
      "\n",
      "\n",
      "\n",
      "\n",
      "  4%|▍         | 268/6285 [27:14<6:02:31,  3.61s/it]\u001b[A\u001b[A\u001b[A\u001b[A"
     ]
    },
    {
     "name": "stdout",
     "output_type": "stream",
     "text": [
      "133501 ['baazigar', 'bang bang', 'besharam', 'bhaag milkha bhaag', 'double dhamaal', 'ferrari ki sawaari', 'golmaal: fun unlimited', 'holiday', 'housefull 3', 'kick', 'mohenjo daro', 'raju ban gaya gentleman']\n"
     ]
    },
    {
     "name": "stderr",
     "output_type": "stream",
     "text": [
      "\n",
      "\n",
      "\n",
      "\n",
      "  4%|▍         | 269/6285 [27:21<7:59:59,  4.79s/it]\u001b[A\u001b[A\u001b[A\u001b[A"
     ]
    },
    {
     "name": "stdout",
     "output_type": "stream",
     "text": [
      "133694 ['ankur arora murder case', 'highway', 'jolly llb', 'kahaani', 'lootera', 'satte pe satta', 'tere bin laden 2', 'the stoneman murders', 'traffic signal']\n"
     ]
    },
    {
     "name": "stderr",
     "output_type": "stream",
     "text": [
      "\n",
      "\n",
      "\n",
      "\n",
      "  4%|▍         | 270/6285 [27:33<11:22:10,  6.80s/it]\u001b[A\u001b[A\u001b[A\u001b[A"
     ]
    },
    {
     "name": "stdout",
     "output_type": "stream",
     "text": [
      "13385 ['housefull 2', 'jolly llb 2', 'raja babu']\n",
      "13394 ['gautamiputra satakarni']\n",
      "133977 ['armaan', 'bade miyan chote miyan', 'coolie no. 1', 'ghayal', 'hero no. 1', 'hum aapke hain kaun', 'hum saath saath hain', 'maharaja', 'raja babu', 'rascals']\n"
     ]
    },
    {
     "name": "stderr",
     "output_type": "stream",
     "text": [
      "\n",
      "\n",
      "\n",
      "\n",
      "  4%|▍         | 273/6285 [27:41<9:15:08,  5.54s/it] \u001b[A\u001b[A\u001b[A\u001b[A\n",
      "\n",
      "\n",
      "\n",
      "  4%|▍         | 276/6285 [27:41<6:29:30,  3.89s/it]\u001b[A\u001b[A\u001b[A\u001b[A"
     ]
    },
    {
     "name": "stdout",
     "output_type": "stream",
     "text": [
      "134353 ['jaane bhi do yaaro']\n",
      "134414 ['hate story 3', 'jolly llb 2', 'ms dhoni: the untold story']\n",
      "13446 ['2 countries', 'rascals']\n",
      "134927 ['garam masala', 'ms dhoni: the untold story']\n",
      "134974 ['baahubali - the beginning']\n",
      "13498 ['fukrey', 'jolly llb', 'jolly llb 2', 'ms dhoni: the untold story', 'sanam re']\n"
     ]
    },
    {
     "name": "stderr",
     "output_type": "stream",
     "text": [
      "\n",
      "\n",
      "\n",
      "\n",
      "  4%|▍         | 279/6285 [27:45<5:13:10,  3.13s/it]\u001b[A\u001b[A\u001b[A\u001b[A\n",
      "\n",
      "\n",
      "\n",
      "  4%|▍         | 282/6285 [27:45<3:40:27,  2.20s/it]\u001b[A\u001b[A\u001b[A\u001b[A"
     ]
    },
    {
     "name": "stdout",
     "output_type": "stream",
     "text": [
      "135004 ['baby', 'kick']\n",
      "135056 ['action hero biju', 'ms dhoni: the untold story', 'oppam']\n",
      "135068 ['baby', 'bajrangi bhaijaan', 'creature 3d', 'dishoom', 'jolly llb', 'khatta meetha', 'kick', 'prem ratan dhan payo', 'singham', 'vivah']\n",
      "135203 ['army man', 'goa', 'hero']"
     ]
    },
    {
     "name": "stderr",
     "output_type": "stream",
     "text": [
      "\n",
      "\n",
      "\n",
      "\n",
      "  5%|▍         | 285/6285 [27:45<2:35:23,  1.55s/it]\u001b[A\u001b[A\u001b[A\u001b[A"
     ]
    },
    {
     "name": "stdout",
     "output_type": "stream",
     "text": [
      "\n",
      "135241 ['ms dhoni: the untold story']\n",
      "135291 ['khaidi no. 150']\n",
      "135542 ['ms dhoni: the untold story', 'the making of bajrangi bhaijaan']\n",
      "135883 ['bhoot unkle', 'ghatothkach (marathi)', 'pangaa gang']\n"
     ]
    },
    {
     "name": "stderr",
     "output_type": "stream",
     "text": [
      "\n",
      "\n",
      "\n",
      "\n",
      "  5%|▍         | 286/6285 [27:57<2:35:21,  1.55s/it]\u001b[A\u001b[A\u001b[A\u001b[A\n",
      "\n",
      "\n",
      "\n",
      "  5%|▍         | 287/6285 [28:01<5:41:15,  3.41s/it]\u001b[A\u001b[A\u001b[A\u001b[A"
     ]
    },
    {
     "name": "stdout",
     "output_type": "stream",
     "text": [
      "136050 ['akira', 'hate story 3', 'highway', 'lockout', 'prem ratan dhan payo']\n"
     ]
    },
    {
     "name": "stderr",
     "output_type": "stream",
     "text": [
      "\n",
      "\n",
      "\n",
      "\n",
      "  5%|▍         | 288/6285 [28:04<5:55:01,  3.55s/it]\u001b[A\u001b[A\u001b[A\u001b[A"
     ]
    },
    {
     "name": "stdout",
     "output_type": "stream",
     "text": [
      "136313 ['2 countries', 'kali']\n",
      "13651 ['dolly ki doli', 'jaanbaaz commando', 'jigar kaleja', 'julie', 'khatta meetha', 'ms dhoni: the untold story', 'the four']\n"
     ]
    },
    {
     "name": "stderr",
     "output_type": "stream",
     "text": [
      "\n",
      "\n",
      "\n",
      "\n",
      "  5%|▍         | 290/6285 [28:12<6:05:19,  3.66s/it]\u001b[A\u001b[A\u001b[A\u001b[A"
     ]
    },
    {
     "name": "stdout",
     "output_type": "stream",
     "text": [
      "136536 ['boss', 'love express']\n"
     ]
    },
    {
     "name": "stderr",
     "output_type": "stream",
     "text": [
      "\n",
      "\n",
      "\n",
      "\n",
      "  5%|▍         | 291/6285 [28:16<6:11:13,  3.72s/it]\u001b[A\u001b[A\u001b[A\u001b[A"
     ]
    },
    {
     "name": "stdout",
     "output_type": "stream",
     "text": [
      "136723 ['jolly llb', 'jolly llb 2']\n",
      "1368 ['bedroom partner', 'daddy cool', 'dishoom', 'do knot disturb', 'kick', 'prem ratan dhan payo']\n"
     ]
    },
    {
     "name": "stderr",
     "output_type": "stream",
     "text": [
      "\n",
      "\n",
      "\n",
      "\n",
      "  5%|▍         | 293/6285 [28:20<5:18:27,  3.19s/it]\u001b[A\u001b[A\u001b[A\u001b[A"
     ]
    },
    {
     "name": "stdout",
     "output_type": "stream",
     "text": [
      "137192 ['jolly llb', 'jolly llb 2', 'ms dhoni: the untold story']\n",
      "137240 ['bajrangi bhaijaan', 'besharam', 'bhagam bhag', 'hate story 3', 'hero', 'sabse bada khiladi']\n"
     ]
    },
    {
     "name": "stderr",
     "output_type": "stream",
     "text": [
      "\n",
      "\n",
      "\n",
      "\n",
      "  5%|▍         | 295/6285 [28:24<4:41:17,  2.82s/it]\u001b[A\u001b[A\u001b[A\u001b[A"
     ]
    },
    {
     "name": "stdout",
     "output_type": "stream",
     "text": [
      "137409 ['ms dhoni: the untold story']\n",
      "137439 ['adi kapyare kootamani', 'ennum eppozhum', 'leela', 'nadodi mannan', 'salalah mobiles']\n"
     ]
    },
    {
     "name": "stderr",
     "output_type": "stream",
     "text": [
      "\n",
      "\n",
      "\n",
      "\n",
      "  5%|▍         | 297/6285 [28:28<4:14:46,  2.55s/it]\u001b[A\u001b[A\u001b[A\u001b[A"
     ]
    },
    {
     "name": "stdout",
     "output_type": "stream",
     "text": [
      "137507 ['in harihar nagar', 'manichithrathazhu', 'that thing you do!', 'the grand budapest hotel', 'the heat']\n"
     ]
    },
    {
     "name": "stderr",
     "output_type": "stream",
     "text": [
      "\n",
      "\n",
      "\n",
      "\n",
      "  5%|▍         | 298/6285 [28:43<10:37:28,  6.39s/it]\u001b[A\u001b[A\u001b[A\u001b[A\n",
      "\n",
      "\n",
      "\n",
      "  5%|▍         | 301/6285 [28:43<7:27:18,  4.49s/it] \u001b[A\u001b[A\u001b[A\u001b[A"
     ]
    },
    {
     "name": "stdout",
     "output_type": "stream",
     "text": [
      "137591 ['2 countries']\n",
      "137706 ['jolly llb 2', 'neerja']\n",
      "137709 ['baby', 'bullett raja', 'highway', 'ms dhoni: the untold story', 'the making of bajrangi bhaijaan']\n",
      "137888 ['akira', 'dolly ki doli', 'gol maal', 'ms dhoni: the untold story', 'sarkar raj', 'yaariyan']\n"
     ]
    },
    {
     "name": "stderr",
     "output_type": "stream",
     "text": [
      "\n",
      "\n",
      "\n",
      "\n",
      "  5%|▍         | 302/6285 [28:47<7:12:31,  4.34s/it]\u001b[A\u001b[A\u001b[A\u001b[A\n",
      "\n",
      "\n",
      "\n",
      "  5%|▍         | 304/6285 [28:47<5:04:12,  3.05s/it]\u001b[A\u001b[A\u001b[A\u001b[A\n",
      "\n",
      "\n",
      "\n",
      "  5%|▍         | 306/6285 [28:48<3:34:34,  2.15s/it]"
     ]
    },
    {
     "name": "stdout",
     "output_type": "stream",
     "text": [
      "137908 ['jolly llb 2', 'ms dhoni: the untold story']\n",
      "137954 ['ms dhoni: the untold story', 'pink']\n",
      "138010 ['housefull 3', 'sardar gabbar singh']\n",
      "138020 ['khaidi no. 150', 'ms dhoni: the untold story', 'prem ratan dhan payo', 's/o satyamurthy']\n"
     ]
    },
    {
     "name": "stderr",
     "output_type": "stream",
     "text": [
      "\u001b[A\u001b[A\u001b[A\u001b[A"
     ]
    },
    {
     "name": "stdout",
     "output_type": "stream",
     "text": [
      "138125 ['2 states', 'bhale bhale magadivoy', 'gautamiputra satakarni', 'housefull 2', 'housefull 3']\n",
      "138212 ['baahubali - the beginning', 'janatha garage', 'prem ratan dhan payo', 'raju gari gadhi', 'sardar gabbar singh']\n"
     ]
    },
    {
     "name": "stderr",
     "output_type": "stream",
     "text": [
      "\n",
      "\n",
      "\n",
      "\n",
      "  5%|▍         | 308/6285 [28:51<3:29:40,  2.10s/it]\u001b[A\u001b[A\u001b[A\u001b[A"
     ]
    },
    {
     "name": "stdout",
     "output_type": "stream",
     "text": [
      "138334 ['jamna pyari', 'kammattipadam', 'marubhoomiyile aana', 'my boss']\n",
      "138405 ['2 states', 'baby', 'bajrangi bhaijaan', 'bangalore days', 'bhaag milkha bhaag', 'bobby jasoos', 'dabangg 2', 'dedh ishqiya', 'guddu rangeela', 'highway', 'housefull 3', 'jolly llb', 'khap', 'kuku mathur ki jhand ho gayi', 'matru ki bijlee ka mandola', 'ms dhoni: the untold story', 'neerja', 'ohm shanthi oshana', 'pink', 'prem ratan dhan payo', 'premam', 'raavan', 'shabri', 'soldiers of fortune', 'son of sardaar', 'talvar', 'the waiting room', 'yuva', 'zindagi na milegi dobara']\n"
     ]
    },
    {
     "name": "stderr",
     "output_type": "stream",
     "text": [
      "\n",
      "\n",
      "\n",
      "\n",
      "  5%|▍         | 310/6285 [29:11<7:15:58,  4.38s/it]\u001b[A\u001b[A\u001b[A\u001b[A\n",
      "\n",
      "\n",
      "\n",
      "  5%|▍         | 313/6285 [29:11<5:06:24,  3.08s/it]\u001b[A\u001b[A\u001b[A\u001b[A"
     ]
    },
    {
     "name": "stdout",
     "output_type": "stream",
     "text": [
      "138511 ['bedroom partner']\n",
      "138551 ['s/o satyamurthy', 'singham returns']\n",
      "138650 ['hate story 3']\n",
      "138655 "
     ]
    },
    {
     "name": "stderr",
     "output_type": "stream",
     "text": [
      "\n",
      "\n",
      "\n",
      "\n",
      "  5%|▌         | 315/6285 [29:11<3:35:58,  2.17s/it]\u001b[A\u001b[A\u001b[A\u001b[A"
     ]
    },
    {
     "name": "stdout",
     "output_type": "stream",
     "text": [
      "['jolly llb', 'sanam re']\n",
      "138713 ['sanam re']\n",
      "138766 ['akira', 'bedroom partner', 'bobby jasoos', 'bombay velvet', 'dragon blade', 'hero', 'highway', 'jolly llb', 'kahaani', 'kasak', 'red - the dark side', 'samurai ek yodha', 'shabri', 'the four']\n"
     ]
    },
    {
     "name": "stderr",
     "output_type": "stream",
     "text": [
      "\n",
      "\n",
      "\n",
      "\n",
      "\r",
      "  5%|▌         | 317/6285 [29:19<4:26:22,  2.68s/it]"
     ]
    },
    {
     "name": "stdout",
     "output_type": "stream",
     "text": [
      "138850 ['bajrangi bhaijaan']\n",
      "139040 ['bangalore days', 'ms dhoni: the untold story', 'ohm shanthi oshana', 'premam']\n",
      "139288 ['24', 'ashok', 'attharintiki daaredhi', 'baahubali - the beginning', 'badrinath', 'bunny', 'chatrapathi', 'dishoom', 'dr b r ambedkar', 'goa', 'happy', 'janatha garage', 'kabali', 'kalyanram kathi', 'karadipura', 'magadheera', 'nippu (fire)', 'okkadunnadu', 's/o satyamurthy', 'saahasam', 'shakti', 'vikramarkudu', 'yevadu']\n"
     ]
    },
    {
     "name": "stderr",
     "output_type": "stream",
     "text": [
      "\u001b[A\u001b[A\u001b[A\u001b[A\n",
      "\n",
      "\n",
      "\n",
      "  5%|▌         | 319/6285 [30:00<13:26:50,  8.11s/it]\u001b[A\u001b[A\u001b[A\u001b[A"
     ]
    },
    {
     "name": "stdout",
     "output_type": "stream",
     "text": [
      "139503 ['housefull 3']\n",
      "139722 ['action hero biju', 'coolie no. 1', 'kali', 'leela', 'marubhoomiyile aana', 'memories', 'oppam', 'swarna kaduva']\n",
      "139807 ['chander pahar']\n"
     ]
    },
    {
     "name": "stderr",
     "output_type": "stream",
     "text": [
      "\n",
      "\n",
      "\n",
      "\n",
      "  5%|▌         | 322/6285 [30:04<10:04:02,  6.08s/it]\u001b[A\u001b[A\u001b[A\u001b[A"
     ]
    },
    {
     "name": "stdout",
     "output_type": "stream",
     "text": [
      "139970 ['fun2shh', 'jolly llb', 'vivah']\n"
     ]
    },
    {
     "name": "stderr",
     "output_type": "stream",
     "text": [
      "\n",
      "\n",
      "\n",
      "\n",
      "  5%|▌         | 323/6285 [30:08<8:56:11,  5.40s/it] \u001b[A\u001b[A\u001b[A\u001b[A"
     ]
    },
    {
     "name": "stdout",
     "output_type": "stream",
     "text": [
      "140319 ['neerja']\n",
      "140395 ['10 endrathukulla', 'aamayum muyalum', 'action jackson', 'adi kapyare kootamani', 'akira', 'bang bang', 'bhavani ips', 'bullett raja', 'dragon blade', 'hate story 3', 'holiday', 'housefull 2', 'jai ho', 'jamna pyari', 'janatha garage', 'kaththi', 'kili poyi', 'kunjiramayanam', 'maari', 'oozham', 'shabri', 'singham returns', 'tere bin laden 2', 'the four', 'the king & the commissioner']\n"
     ]
    },
    {
     "name": "stderr",
     "output_type": "stream",
     "text": [
      "\n",
      "\n",
      "\n",
      "\n",
      "  5%|▌         | 325/6285 [30:16<8:10:27,  4.94s/it]\u001b[A\u001b[A\u001b[A\u001b[A"
     ]
    },
    {
     "name": "stdout",
     "output_type": "stream",
     "text": [
      "140600 ['baahubali - the beginning', 'magadheera']\n",
      "140608 ['adam', 'baahubali - the beginning', 'dear dad', 'gang leaders', 'kabali', 'khaidi no. 150', 'tamasha', 'the good dinosaur', 'the jungle book', 'titanic']\n"
     ]
    },
    {
     "name": "stderr",
     "output_type": "stream",
     "text": [
      "\n",
      "\n",
      "\n",
      "\n",
      "  5%|▌         | 327/6285 [30:31<9:27:10,  5.71s/it]\u001b[A\u001b[A\u001b[A\u001b[A"
     ]
    },
    {
     "name": "stdout",
     "output_type": "stream",
     "text": [
      "140632 ['yaariyan']\n",
      "140662 ['anukokunda oka roju', 'malli malli idi rani roju', 'ms dhoni: the untold story', 'singham - yamudu 2']\n"
     ]
    }
   ],
   "source": [
    "item_item_sim = {}\n",
    "\n",
    "col_names = sparse_train_matrix.columns.tolist()\n",
    "\n",
    "res = {}\n",
    "\n",
    "def get_similar_items(row):\n",
    "    \n",
    "    similar_movies = {}\n",
    "    \n",
    "    watched_movies = pd.DataFrame(train_matrix.iloc[train_matrix.index.tolist().index(str(row.user_id)), :].dropna()).index.tolist()\n",
    "    print row.user_id, watched_movies\n",
    "    \n",
    "    for watched_movie in watched_movies:\n",
    "        \n",
    "        if watched_movie not in item_item_sim:\n",
    "            \n",
    "            item_item_sim[watched_movie] = {}\n",
    "            \n",
    "            for i in range(0, len(col_names)):                \n",
    "                \n",
    "                item_item_sim[watched_movie][col_names[i]] = get_cosine(watched_movie, col_names[i])\n",
    "                    \n",
    "        for j in item_item_sim[watched_movie]:\n",
    "            \n",
    "            if j not in similar_movies:\n",
    "                similar_movies[j] = item_item_sim[watched_movie][j]\n",
    "            else:\n",
    "                similar_movies[j] += item_item_sim[watched_movie][j]\n",
    "    \n",
    "    \n",
    "    for watched_movie in watched_movies:\n",
    "        del similar_movies[watched_movie]\n",
    "        \n",
    "    top_similar_movies = sorted(similar_movies.items(), key=operator.itemgetter(1), reverse=True)[:20]\n",
    "    \n",
    "    res[str(row.user_id)] = [i[0] for i in top_similar_movies]\n",
    "    \n",
    "test.progress_apply(get_similar_items, axis = 1)"
   ]
  },
  {
   "cell_type": "code",
   "execution_count": 86,
   "metadata": {
    "collapsed": true
   },
   "outputs": [
    {
     "name": "stdout",
     "output_type": "stream",
     "text": [
      "0\n",
      "100\n",
      "200\n",
      "300\n",
      "400\n",
      "500\n"
     ]
    },
    {
     "ename": "KeyboardInterrupt",
     "evalue": "",
     "output_type": "error",
     "traceback": [
      "\u001b[0;31m---------------------------------------------------------------------------\u001b[0m",
      "\u001b[0;31mKeyboardInterrupt\u001b[0m                         Traceback (most recent call last)",
      "\u001b[0;32m<ipython-input-86-611f98856c13>\u001b[0m in \u001b[0;36m<module>\u001b[0;34m()\u001b[0m\n\u001b[1;32m      5\u001b[0m     \u001b[0;32mif\u001b[0m \u001b[0mi\u001b[0m\u001b[0;34m%\u001b[0m\u001b[0;36m100\u001b[0m \u001b[0;34m==\u001b[0m \u001b[0;36m0\u001b[0m\u001b[0;34m:\u001b[0m\u001b[0;34m\u001b[0m\u001b[0m\n\u001b[1;32m      6\u001b[0m         \u001b[0;32mprint\u001b[0m \u001b[0mi\u001b[0m\u001b[0;34m\u001b[0m\u001b[0m\n\u001b[0;32m----> 7\u001b[0;31m     \u001b[0mval\u001b[0m \u001b[0;34m=\u001b[0m \u001b[0mget_cosine\u001b[0m\u001b[0;34m(\u001b[0m\u001b[0mcol_names\u001b[0m\u001b[0;34m[\u001b[0m\u001b[0;36m0\u001b[0m\u001b[0;34m]\u001b[0m\u001b[0;34m,\u001b[0m \u001b[0mcol_names\u001b[0m\u001b[0;34m[\u001b[0m\u001b[0mi\u001b[0m\u001b[0;34m]\u001b[0m\u001b[0;34m)\u001b[0m\u001b[0;34m\u001b[0m\u001b[0m\n\u001b[0m\u001b[1;32m      8\u001b[0m \u001b[0;31m#     val = get_cosine(0, i)\u001b[0m\u001b[0;34m\u001b[0m\u001b[0;34m\u001b[0m\u001b[0m\n\u001b[1;32m      9\u001b[0m \u001b[0;34m\u001b[0m\u001b[0m\n",
      "\u001b[0;32m<ipython-input-85-b23d66dd0483>\u001b[0m in \u001b[0;36mget_cosine\u001b[0;34m(i, j)\u001b[0m\n\u001b[1;32m      3\u001b[0m \u001b[0;31m#     sub_df = pd.concat([sparse_train_matrix.iloc[:, i], sparse_train_matrix.iloc[:, j]], axis = 1)\u001b[0m\u001b[0;34m\u001b[0m\u001b[0;34m\u001b[0m\u001b[0m\n\u001b[1;32m      4\u001b[0m \u001b[0;34m\u001b[0m\u001b[0m\n\u001b[0;32m----> 5\u001b[0;31m     \u001b[0;32mreturn\u001b[0m \u001b[0mlen\u001b[0m\u001b[0;34m(\u001b[0m\u001b[0msparse_train_matrix\u001b[0m\u001b[0;34m[\u001b[0m\u001b[0;34m[\u001b[0m\u001b[0mi\u001b[0m\u001b[0;34m,\u001b[0m \u001b[0mj\u001b[0m\u001b[0;34m]\u001b[0m\u001b[0;34m]\u001b[0m\u001b[0;34m.\u001b[0m\u001b[0mdropna\u001b[0m\u001b[0;34m(\u001b[0m\u001b[0maxis\u001b[0m\u001b[0;34m=\u001b[0m\u001b[0;36m0\u001b[0m\u001b[0;34m,\u001b[0m \u001b[0mhow\u001b[0m\u001b[0;34m=\u001b[0m\u001b[0;34m'any'\u001b[0m\u001b[0;34m)\u001b[0m\u001b[0;34m)\u001b[0m\u001b[0;34m\u001b[0m\u001b[0m\n\u001b[0m\u001b[1;32m      6\u001b[0m \u001b[0;34m\u001b[0m\u001b[0m\n\u001b[1;32m      7\u001b[0m \u001b[0;31m#     sub_df = sub_df.dropna(axis = 0, how = \"all\")\u001b[0m\u001b[0;34m\u001b[0m\u001b[0;34m\u001b[0m\u001b[0m\n",
      "\u001b[0;32m/Library/Python/2.7/site-packages/pandas/core/frame.pyc\u001b[0m in \u001b[0;36mdropna\u001b[0;34m(self, axis, how, thresh, subset, inplace)\u001b[0m\n\u001b[1;32m   3053\u001b[0m                 \u001b[0magg_obj\u001b[0m \u001b[0;34m=\u001b[0m \u001b[0mself\u001b[0m\u001b[0;34m.\u001b[0m\u001b[0mtake\u001b[0m\u001b[0;34m(\u001b[0m\u001b[0mindices\u001b[0m\u001b[0;34m,\u001b[0m \u001b[0maxis\u001b[0m\u001b[0;34m=\u001b[0m\u001b[0magg_axis\u001b[0m\u001b[0;34m)\u001b[0m\u001b[0;34m\u001b[0m\u001b[0m\n\u001b[1;32m   3054\u001b[0m \u001b[0;34m\u001b[0m\u001b[0m\n\u001b[0;32m-> 3055\u001b[0;31m             \u001b[0mcount\u001b[0m \u001b[0;34m=\u001b[0m \u001b[0magg_obj\u001b[0m\u001b[0;34m.\u001b[0m\u001b[0mcount\u001b[0m\u001b[0;34m(\u001b[0m\u001b[0maxis\u001b[0m\u001b[0;34m=\u001b[0m\u001b[0magg_axis\u001b[0m\u001b[0;34m)\u001b[0m\u001b[0;34m\u001b[0m\u001b[0m\n\u001b[0m\u001b[1;32m   3056\u001b[0m \u001b[0;34m\u001b[0m\u001b[0m\n\u001b[1;32m   3057\u001b[0m             \u001b[0;32mif\u001b[0m \u001b[0mthresh\u001b[0m \u001b[0;32mis\u001b[0m \u001b[0;32mnot\u001b[0m \u001b[0mNone\u001b[0m\u001b[0;34m:\u001b[0m\u001b[0;34m\u001b[0m\u001b[0m\n",
      "\u001b[0;32m/Library/Python/2.7/site-packages/pandas/core/frame.pyc\u001b[0m in \u001b[0;36mcount\u001b[0;34m(self, axis, level, numeric_only)\u001b[0m\n\u001b[1;32m   4997\u001b[0m                 \u001b[0mresult\u001b[0m \u001b[0;34m=\u001b[0m \u001b[0mnotnull\u001b[0m\u001b[0;34m(\u001b[0m\u001b[0mframe\u001b[0m\u001b[0;34m)\u001b[0m\u001b[0;34m.\u001b[0m\u001b[0msum\u001b[0m\u001b[0;34m(\u001b[0m\u001b[0maxis\u001b[0m\u001b[0;34m=\u001b[0m\u001b[0maxis\u001b[0m\u001b[0;34m)\u001b[0m\u001b[0;34m\u001b[0m\u001b[0m\n\u001b[1;32m   4998\u001b[0m             \u001b[0;32melse\u001b[0m\u001b[0;34m:\u001b[0m\u001b[0;34m\u001b[0m\u001b[0m\n\u001b[0;32m-> 4999\u001b[0;31m                 \u001b[0mcounts\u001b[0m \u001b[0;34m=\u001b[0m \u001b[0mnotnull\u001b[0m\u001b[0;34m(\u001b[0m\u001b[0mframe\u001b[0m\u001b[0;34m.\u001b[0m\u001b[0mvalues\u001b[0m\u001b[0;34m)\u001b[0m\u001b[0;34m.\u001b[0m\u001b[0msum\u001b[0m\u001b[0;34m(\u001b[0m\u001b[0maxis\u001b[0m\u001b[0;34m=\u001b[0m\u001b[0maxis\u001b[0m\u001b[0;34m)\u001b[0m\u001b[0;34m\u001b[0m\u001b[0m\n\u001b[0m\u001b[1;32m   5000\u001b[0m                 \u001b[0mresult\u001b[0m \u001b[0;34m=\u001b[0m \u001b[0mSeries\u001b[0m\u001b[0;34m(\u001b[0m\u001b[0mcounts\u001b[0m\u001b[0;34m,\u001b[0m \u001b[0mindex\u001b[0m\u001b[0;34m=\u001b[0m\u001b[0mframe\u001b[0m\u001b[0;34m.\u001b[0m\u001b[0m_get_agg_axis\u001b[0m\u001b[0;34m(\u001b[0m\u001b[0maxis\u001b[0m\u001b[0;34m)\u001b[0m\u001b[0;34m)\u001b[0m\u001b[0;34m\u001b[0m\u001b[0m\n\u001b[1;32m   5001\u001b[0m \u001b[0;34m\u001b[0m\u001b[0m\n",
      "\u001b[0;32m/Library/Python/2.7/site-packages/numpy/core/_methods.pyc\u001b[0m in \u001b[0;36m_sum\u001b[0;34m(a, axis, dtype, out, keepdims)\u001b[0m\n\u001b[1;32m     30\u001b[0m \u001b[0;34m\u001b[0m\u001b[0m\n\u001b[1;32m     31\u001b[0m \u001b[0;32mdef\u001b[0m \u001b[0m_sum\u001b[0m\u001b[0;34m(\u001b[0m\u001b[0ma\u001b[0m\u001b[0;34m,\u001b[0m \u001b[0maxis\u001b[0m\u001b[0;34m=\u001b[0m\u001b[0mNone\u001b[0m\u001b[0;34m,\u001b[0m \u001b[0mdtype\u001b[0m\u001b[0;34m=\u001b[0m\u001b[0mNone\u001b[0m\u001b[0;34m,\u001b[0m \u001b[0mout\u001b[0m\u001b[0;34m=\u001b[0m\u001b[0mNone\u001b[0m\u001b[0;34m,\u001b[0m \u001b[0mkeepdims\u001b[0m\u001b[0;34m=\u001b[0m\u001b[0mFalse\u001b[0m\u001b[0;34m)\u001b[0m\u001b[0;34m:\u001b[0m\u001b[0;34m\u001b[0m\u001b[0m\n\u001b[0;32m---> 32\u001b[0;31m     \u001b[0;32mreturn\u001b[0m \u001b[0mumr_sum\u001b[0m\u001b[0;34m(\u001b[0m\u001b[0ma\u001b[0m\u001b[0;34m,\u001b[0m \u001b[0maxis\u001b[0m\u001b[0;34m,\u001b[0m \u001b[0mdtype\u001b[0m\u001b[0;34m,\u001b[0m \u001b[0mout\u001b[0m\u001b[0;34m,\u001b[0m \u001b[0mkeepdims\u001b[0m\u001b[0;34m)\u001b[0m\u001b[0;34m\u001b[0m\u001b[0m\n\u001b[0m\u001b[1;32m     33\u001b[0m \u001b[0;34m\u001b[0m\u001b[0m\n\u001b[1;32m     34\u001b[0m \u001b[0;32mdef\u001b[0m \u001b[0m_prod\u001b[0m\u001b[0;34m(\u001b[0m\u001b[0ma\u001b[0m\u001b[0;34m,\u001b[0m \u001b[0maxis\u001b[0m\u001b[0;34m=\u001b[0m\u001b[0mNone\u001b[0m\u001b[0;34m,\u001b[0m \u001b[0mdtype\u001b[0m\u001b[0;34m=\u001b[0m\u001b[0mNone\u001b[0m\u001b[0;34m,\u001b[0m \u001b[0mout\u001b[0m\u001b[0;34m=\u001b[0m\u001b[0mNone\u001b[0m\u001b[0;34m,\u001b[0m \u001b[0mkeepdims\u001b[0m\u001b[0;34m=\u001b[0m\u001b[0mFalse\u001b[0m\u001b[0;34m)\u001b[0m\u001b[0;34m:\u001b[0m\u001b[0;34m\u001b[0m\u001b[0m\n",
      "\u001b[0;31mKeyboardInterrupt\u001b[0m: "
     ]
    }
   ],
   "source": [
    "cosine_vals = []\n",
    "col_names = sparse_train_matrix.columns.tolist()\n",
    "\n",
    "for i in range(0, len(train_matrix.columns.tolist())):\n",
    "    if i%100 == 0:\n",
    "        print i\n",
    "    val = get_cosine(col_names[0], col_names[i])\n",
    "#     val = get_cosine(0, i)\n",
    "\n",
    "    cosine_vals.append(val)"
   ]
  },
  {
   "cell_type": "code",
   "execution_count": 26,
   "metadata": {},
   "outputs": [
    {
     "data": {
      "text/plain": [
       "{'100146': ['jolly llb',\n",
       "  'hate story 3',\n",
       "  'baby',\n",
       "  'dishoom',\n",
       "  'housefull 3',\n",
       "  'jolly llb 2',\n",
       "  'kabali',\n",
       "  'holiday',\n",
       "  'prem ratan dhan payo',\n",
       "  'akira',\n",
       "  'bang bang',\n",
       "  'neerja',\n",
       "  '2 states',\n",
       "  'kick',\n",
       "  'drishyam',\n",
       "  'sanam re',\n",
       "  'raaz: the mystery continues',\n",
       "  'dolly ki doli',\n",
       "  'bedroom partner',\n",
       "  'highway'],\n",
       " '100166': ['jolly llb',\n",
       "  'dishoom',\n",
       "  'hate story 3',\n",
       "  'baby',\n",
       "  'housefull 3',\n",
       "  'jolly llb 2',\n",
       "  'kabali',\n",
       "  'prem ratan dhan payo',\n",
       "  'bang bang',\n",
       "  'holiday',\n",
       "  'kick',\n",
       "  '2 states',\n",
       "  'neerja',\n",
       "  'akira',\n",
       "  'drishyam',\n",
       "  'sanam re',\n",
       "  'bajrangi bhaijaan',\n",
       "  'dolly ki doli',\n",
       "  'singham returns',\n",
       "  'raaz: the mystery continues'],\n",
       " '100245': ['hate story 3',\n",
       "  'jolly llb',\n",
       "  'ms dhoni: the untold story',\n",
       "  'raaz: the mystery continues',\n",
       "  'housefull 3',\n",
       "  'baby',\n",
       "  'dishoom',\n",
       "  'bang bang',\n",
       "  'sanam re',\n",
       "  'kabali',\n",
       "  'prem ratan dhan payo',\n",
       "  'jolly llb 2',\n",
       "  'akira',\n",
       "  'holiday',\n",
       "  'kick',\n",
       "  'neerja',\n",
       "  'dolly ki doli',\n",
       "  'hero',\n",
       "  '2 states',\n",
       "  'jaggu dada']}"
      ]
     },
     "execution_count": 26,
     "metadata": {},
     "output_type": "execute_result"
    }
   ],
   "source": [
    "res"
   ]
  }
 ],
 "metadata": {
  "kernelspec": {
   "display_name": "Python 2",
   "language": "python",
   "name": "python2"
  },
  "language_info": {
   "codemirror_mode": {
    "name": "ipython",
    "version": 2
   },
   "file_extension": ".py",
   "mimetype": "text/x-python",
   "name": "python",
   "nbconvert_exporter": "python",
   "pygments_lexer": "ipython2",
   "version": "2.7.10"
  }
 },
 "nbformat": 4,
 "nbformat_minor": 2
}
